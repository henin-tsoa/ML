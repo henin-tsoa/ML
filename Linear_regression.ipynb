{
 "cells": [
  {
   "cell_type": "markdown",
   "metadata": {},
   "source": [
    "# Least squares"
   ]
  },
  {
   "cell_type": "code",
   "execution_count": 1,
   "metadata": {
    "deletable": false,
    "editable": false,
    "nbgrader": {
     "cell_type": "code",
     "checksum": "c761885983bb67597d5b71c35a0ec7dd",
     "grade": false,
     "grade_id": "cell-678763ad276cc09f",
     "locked": true,
     "schema_version": 3,
     "solution": false,
     "task": false
    }
   },
   "outputs": [],
   "source": [
    "import numpy as np\n",
    "import scipy\n",
    "from sklearn.metrics import mean_squared_error\n",
    "from sklearn import datasets\n",
    "from sklearn.linear_model import LinearRegression as LR\n",
    "\n",
    "def rel_error(x, y):\n",
    "  \"\"\" returns relative error \"\"\"\n",
    "  return np.max(np.abs(x - y) / (np.maximum(1e-8, np.abs(x) + np.abs(y))))\n",
    "\n",
    "data = datasets.load_diabetes()\n",
    "X_train, y_train = data.data, data.target"
   ]
  },
  {
   "cell_type": "code",
   "execution_count": 2,
   "metadata": {
    "deletable": false,
    "nbgrader": {
     "cell_type": "code",
     "checksum": "18180df278e73e6f76e771368ec05383",
     "grade": false,
     "grade_id": "cell-b05eee3d44b96fa8",
     "locked": false,
     "schema_version": 3,
     "solution": true,
     "task": false
    }
   },
   "outputs": [],
   "source": [
    "def fit_inverse(X, y):\n",
    "    \"\"\"Direct method using the inverse\"\"\"\n",
    "    return np.linalg.inv(np.transpose(X) @ X) @ np.transpose(X) @ y"
   ]
  },
  {
   "cell_type": "code",
   "execution_count": 3,
   "metadata": {
    "deletable": false,
    "editable": false,
    "nbgrader": {
     "cell_type": "code",
     "checksum": "b45c5a315079b0d1d6e8315caca1e8bc",
     "grade": true,
     "grade_id": "cell-8b04c4a277023f70",
     "locked": true,
     "points": 1,
     "schema_version": 3,
     "solution": false,
     "task": false
    }
   },
   "outputs": [
    {
     "name": "stdout",
     "output_type": "stream",
     "text": [
      "prediction error:  3.166933990047579e-14\n"
     ]
    }
   ],
   "source": [
    "w = fit_inverse(X_train, y_train)\n",
    "\n",
    "sk_model = LR(fit_intercept=False)\n",
    "sk_model.fit(X_train, y_train)\n",
    "\n",
    "error = rel_error(sk_model.coef_, w)\n",
    "assert error <= 1e-13\n",
    "print(\"prediction error: \", error)"
   ]
  },
  {
   "cell_type": "code",
   "execution_count": 4,
   "metadata": {
    "deletable": false,
    "nbgrader": {
     "cell_type": "code",
     "checksum": "0a8508caf7357c557a41778fb85eeed7",
     "grade": false,
     "grade_id": "cell-f47228b1d23c9c3d",
     "locked": false,
     "schema_version": 3,
     "solution": true,
     "task": false
    }
   },
   "outputs": [],
   "source": [
    "def fit_cholesky(X, y):\n",
    "    \"\"\" Cholesky approach \"\"\"\n",
    "    # Xh is the transpose of X\n",
    "    Xh = np.transpose(X)\n",
    "    L = scipy.linalg.cholesky(Xh @ X, lower=True)\n",
    "    w1 = scipy.linalg.solve_triangular(L, Xh @ y, lower=True)\n",
    "    return scipy.linalg.solve_triangular(np.transpose(L), w1)"
   ]
  },
  {
   "cell_type": "code",
   "execution_count": 5,
   "metadata": {
    "deletable": false,
    "editable": false,
    "nbgrader": {
     "cell_type": "code",
     "checksum": "39571fbbebc2d0b2e4e8c9a0a9db3c34",
     "grade": true,
     "grade_id": "cell-9466dcbcbd7f8417",
     "locked": true,
     "points": 1,
     "schema_version": 3,
     "solution": false,
     "task": false
    }
   },
   "outputs": [
    {
     "name": "stdout",
     "output_type": "stream",
     "text": [
      "prediction error:  5.64667468031009e-14\n"
     ]
    }
   ],
   "source": [
    "w = fit_cholesky(X_train, y_train)\n",
    "\n",
    "sk_model = LR(fit_intercept=False)\n",
    "sk_model.fit(X_train, y_train)\n",
    "\n",
    "error = rel_error(sk_model.coef_, w)\n",
    "assert error <= 1e-13\n",
    "print(\"prediction error: \", error)"
   ]
  },
  {
   "cell_type": "code",
   "execution_count": 14,
   "metadata": {
    "deletable": false,
    "nbgrader": {
     "cell_type": "code",
     "checksum": "41468b8caec731fca738225716663970",
     "grade": false,
     "grade_id": "cell-2877dca319d8a6a7",
     "locked": false,
     "schema_version": 3,
     "solution": true,
     "task": false
    }
   },
   "outputs": [],
   "source": [
    "def fit_qr(X, y):\n",
    "    \"\"\" QR approach\"\"\"\n",
    "    # Xh is the transpose of X\n",
    "    Xh = np.transpose(X)\n",
    "    Q, R = np.linalg.qr(Xh @ X)\n",
    "    w1 = np.transpose(Q) @ Xh @ y\n",
    "    return scipy.linalg.solve_triangular(R, w1)"
   ]
  },
  {
   "cell_type": "code",
   "execution_count": 15,
   "metadata": {
    "deletable": false,
    "editable": false,
    "nbgrader": {
     "cell_type": "code",
     "checksum": "f611b7bf0cf2dec0116f24e2107febc5",
     "grade": true,
     "grade_id": "cell-31e8d5d1584d650a",
     "locked": true,
     "points": 1,
     "schema_version": 3,
     "solution": false,
     "task": false
    }
   },
   "outputs": [
    {
     "name": "stdout",
     "output_type": "stream",
     "text": [
      "prediction error:  5.555259025460741e-14\n"
     ]
    }
   ],
   "source": [
    "w = fit_qr(X_train, y_train)\n",
    "\n",
    "sk_model = LR(fit_intercept=False)\n",
    "sk_model.fit(X_train, y_train)\n",
    "\n",
    "error = rel_error(sk_model.coef_, w)\n",
    "assert error <= 1e-13\n",
    "print(\"prediction error: \", error)"
   ]
  },
  {
   "cell_type": "code",
   "execution_count": 16,
   "metadata": {
    "deletable": false,
    "nbgrader": {
     "cell_type": "code",
     "checksum": "92c365f396dd028620c0287625882ad7",
     "grade": false,
     "grade_id": "cell-5073cab85ff159fb",
     "locked": false,
     "schema_version": 3,
     "solution": true,
     "task": false
    }
   },
   "outputs": [],
   "source": [
    "def fit_svd(X, y):\n",
    "    \"\"\" SVD approach\"\"\"\n",
    "    # Xh is the transpose of X\n",
    "    Xh = np.transpose(X)\n",
    "    U, S, Vh = np.linalg.svd(Xh @ X)\n",
    "    w1 = np.transpose(U) @ Xh @ y\n",
    "    w2 = np.zeros(len(S))\n",
    "    for i in range(len(S)):\n",
    "        w2[i] = (1 / S[i]) * w1[i]\n",
    "    return np.transpose(Vh) @ w2"
   ]
  },
  {
   "cell_type": "code",
   "execution_count": 17,
   "metadata": {
    "deletable": false,
    "editable": false,
    "nbgrader": {
     "cell_type": "code",
     "checksum": "2aae0f7dbc36ef688742fb7d4277e74a",
     "grade": true,
     "grade_id": "cell-e2714349e15197b8",
     "locked": true,
     "points": 1,
     "schema_version": 3,
     "solution": false,
     "task": false
    }
   },
   "outputs": [
    {
     "name": "stdout",
     "output_type": "stream",
     "text": [
      "prediction error:  4.515320450796067e-14\n"
     ]
    }
   ],
   "source": [
    "w = fit_svd(X_train, y_train)\n",
    "\n",
    "sk_model = LR(fit_intercept=False)\n",
    "sk_model.fit(X_train, y_train)\n",
    "\n",
    "error = rel_error(sk_model.coef_, w)\n",
    "assert error <= 1e-13\n",
    "print(\"prediction error: \", error)"
   ]
  },
  {
   "cell_type": "markdown",
   "metadata": {},
   "source": [
    "## Combine everything in a class"
   ]
  },
  {
   "cell_type": "code",
   "execution_count": 18,
   "metadata": {
    "deletable": false,
    "nbgrader": {
     "cell_type": "code",
     "checksum": "93bcc6ce3d01eb1ae19e2674c2089dd0",
     "grade": false,
     "grade_id": "cell-6ec30d1a23311e34",
     "locked": false,
     "schema_version": 3,
     "solution": true,
     "task": false
    }
   },
   "outputs": [],
   "source": [
    "class LinearRegression():\n",
    "    def __init__(self, fit_intercept=True, method=\"inverse\"):\n",
    "        self.w = 0\n",
    "        self.fit_intercept = fit_intercept # bias\n",
    "        self.method = method\n",
    "    \n",
    "    def fit(self, X, y):\n",
    "        ones = np.ones((len(X), 1))\n",
    "        if self.fit_intercept:\n",
    "            X = np.hstack((X, ones))\n",
    "        if self.method == \"inverse\":\n",
    "            self.w = fit_inverse(X, y)\n",
    "        elif self.method == \"cholesky\":\n",
    "            self.w = fit_cholesky(X, y)\n",
    "        elif self.method == \"qr\":\n",
    "            self.w = fit_qr(X, y)\n",
    "        elif self.method == 'svd':\n",
    "            self.w = fit_svd(X, y)\n",
    "        return self.w\n",
    "        \n",
    "    def predict(self, X):\n",
    "        ones = np.ones((len(X), 1))\n",
    "        if self.fit_intercept:\n",
    "            X = np.hstack((X, ones))  \n",
    "        return X @ self.w\n",
    "        "
   ]
  },
  {
   "cell_type": "markdown",
   "metadata": {},
   "source": [
    "### without the bias term"
   ]
  },
  {
   "cell_type": "code",
   "execution_count": 19,
   "metadata": {
    "deletable": false,
    "editable": false,
    "nbgrader": {
     "cell_type": "code",
     "checksum": "7e2566ac9fab2095026b65f7aaed149b",
     "grade": true,
     "grade_id": "cell-8f754988c3d8f3bd",
     "locked": true,
     "points": 1,
     "schema_version": 3,
     "solution": false,
     "task": false
    }
   },
   "outputs": [
    {
     "name": "stdout",
     "output_type": "stream",
     "text": [
      "prediction error:  2.5088948915590246e-13\n"
     ]
    }
   ],
   "source": [
    "# DIRECT INVERSE APPROACH\n",
    "sk_model = LR(fit_intercept=False)\n",
    "sk_model.fit(X_train, y_train)\n",
    "sk_pred = sk_model.predict(X_train)\n",
    "\n",
    "model = LinearRegression(fit_intercept=False)\n",
    "model.fit(X_train, y_train)\n",
    "pred = model.predict(X_train)\n",
    "\n",
    "error = rel_error(pred, sk_pred)\n",
    "assert error <= 1e-11\n",
    "print(\"prediction error: \", error)"
   ]
  },
  {
   "cell_type": "code",
   "execution_count": 20,
   "metadata": {
    "deletable": false,
    "editable": false,
    "nbgrader": {
     "cell_type": "code",
     "checksum": "cb9da4d324a63d4ac6ffa9b94a9862f6",
     "grade": true,
     "grade_id": "cell-b2f69e29babd5ffa",
     "locked": true,
     "points": 2,
     "schema_version": 3,
     "solution": false,
     "task": false
    }
   },
   "outputs": [
    {
     "name": "stdout",
     "output_type": "stream",
     "text": [
      "prediction error cholesky:  1.3061785085982075e-13\n",
      "prediction error qr:  1.6198336625935292e-13\n",
      "prediction error svd:  1.3061785085982075e-13\n"
     ]
    }
   ],
   "source": [
    "# OTHER APPROACHES\n",
    "sk_model = LR(fit_intercept=False)\n",
    "sk_model.fit(X_train, y_train)\n",
    "sk_pred = sk_model.predict(X_train)\n",
    "\n",
    "model_cholesky = LinearRegression(fit_intercept=False, method=\"cholesky\")\n",
    "model_cholesky.fit(X_train, y_train)\n",
    "pred_cholesky = model_cholesky.predict(X_train)\n",
    "\n",
    "error_cholesky = rel_error(pred_cholesky, sk_pred)\n",
    "assert error_cholesky <= 1e-11\n",
    "print(\"prediction error cholesky: \", error_cholesky)\n",
    "\n",
    "model_qr = LinearRegression(fit_intercept=False, method=\"qr\")\n",
    "model_qr.fit(X_train, y_train)\n",
    "pred_qr = model_qr.predict(X_train)\n",
    "\n",
    "error_qr = rel_error(pred_qr, sk_pred)\n",
    "assert error_qr <= 1e-11\n",
    "print(\"prediction error qr: \", error_qr)\n",
    "\n",
    "model_svd = LinearRegression(fit_intercept=False, method=\"svd\")\n",
    "model_svd.fit(X_train, y_train)\n",
    "pred_svd = model_cholesky.predict(X_train)\n",
    "\n",
    "error_cholesky = rel_error(pred_svd, sk_pred)\n",
    "assert error_cholesky <= 1e-11\n",
    "print(\"prediction error svd: \", error_cholesky)"
   ]
  },
  {
   "cell_type": "markdown",
   "metadata": {},
   "source": [
    "### with the bias term"
   ]
  },
  {
   "cell_type": "code",
   "execution_count": 21,
   "metadata": {
    "deletable": false,
    "editable": false,
    "nbgrader": {
     "cell_type": "code",
     "checksum": "156f79e2fa426ed177d2c33c99ee2277",
     "grade": true,
     "grade_id": "cell-7271d3ca16bb71bf",
     "locked": true,
     "points": 1,
     "schema_version": 3,
     "solution": false,
     "task": false
    }
   },
   "outputs": [
    {
     "name": "stdout",
     "output_type": "stream",
     "text": [
      "prediction error:  4.35488493420556e-15\n"
     ]
    }
   ],
   "source": [
    "# DIRECT INVERSE APPROACH\n",
    "sk_model = LR(fit_intercept=True)\n",
    "sk_model.fit(X_train, y_train)\n",
    "sk_pred = sk_model.predict(X_train)\n",
    "\n",
    "model = LinearRegression(fit_intercept=True)\n",
    "model.fit(X_train, y_train)\n",
    "pred = model.predict(X_train)\n",
    "\n",
    "error = rel_error(pred, sk_pred)\n",
    "assert error <= 1e-14\n",
    "print(\"prediction error: \", error)"
   ]
  },
  {
   "cell_type": "code",
   "execution_count": 22,
   "metadata": {
    "deletable": false,
    "editable": false,
    "nbgrader": {
     "cell_type": "code",
     "checksum": "a745a016521d45e3b82ceb09d2810cce",
     "grade": true,
     "grade_id": "cell-4b23ad5ab726d0e9",
     "locked": true,
     "points": 2,
     "schema_version": 3,
     "solution": false,
     "task": false
    }
   },
   "outputs": [
    {
     "name": "stdout",
     "output_type": "stream",
     "text": [
      "prediction error cholesky:  3.9169122150176046e-15\n",
      "prediction error qr:  3.2131831680749515e-15\n",
      "prediction error svd:  3.9169122150176046e-15\n"
     ]
    }
   ],
   "source": [
    "# OTHER APPROACHES\n",
    "sk_model = LR(fit_intercept=True)\n",
    "sk_model.fit(X_train, y_train)\n",
    "sk_pred = sk_model.predict(X_train)\n",
    "\n",
    "model_cholesky = LinearRegression(fit_intercept=True, method=\"cholesky\")\n",
    "model_cholesky.fit(X_train, y_train)\n",
    "pred_cholesky = model_cholesky.predict(X_train)\n",
    "\n",
    "error_cholesky = rel_error(pred_cholesky, sk_pred)\n",
    "assert error_cholesky <= 1e-11\n",
    "print(\"prediction error cholesky: \", error_cholesky)\n",
    "\n",
    "model_qr = LinearRegression(fit_intercept=True, method=\"qr\")\n",
    "model_qr.fit(X_train, y_train)\n",
    "pred_qr = model_qr.predict(X_train)\n",
    "\n",
    "error_qr = rel_error(pred_qr, sk_pred)\n",
    "assert error_qr <= 1e-11\n",
    "print(\"prediction error qr: \", error_qr)\n",
    "\n",
    "model_svd = LinearRegression(fit_intercept=True, method=\"svd\")\n",
    "model_svd.fit(X_train, y_train)\n",
    "pred_svd = model_cholesky.predict(X_train)\n",
    "\n",
    "error_cholesky = rel_error(pred_svd, sk_pred)\n",
    "assert error_cholesky <= 1e-11\n",
    "print(\"prediction error svd: \", error_cholesky)"
   ]
  },
  {
   "cell_type": "markdown",
   "metadata": {
    "deletable": false,
    "editable": false,
    "nbgrader": {
     "cell_type": "markdown",
     "checksum": "64b273435217b384d4d560a4f85448f3",
     "grade": false,
     "grade_id": "cell-3b3e6a1f253ca9e9",
     "locked": true,
     "points": 1,
     "schema_version": 3,
     "solution": false,
     "task": true
    }
   },
   "source": [
    "Compare the running time of the different approaches on a large dataset"
   ]
  }
 ],
 "metadata": {
  "kernelspec": {
   "display_name": "Python 3",
   "language": "python",
   "name": "python3"
  },
  "language_info": {
   "codemirror_mode": {
    "name": "ipython",
    "version": 3
   },
   "file_extension": ".py",
   "mimetype": "text/x-python",
   "name": "python",
   "nbconvert_exporter": "python",
   "pygments_lexer": "ipython3",
   "version": "3.7.6"
  }
 },
 "nbformat": 4,
 "nbformat_minor": 4
}
