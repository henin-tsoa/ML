{
 "cells": [
  {
   "cell_type": "code",
   "execution_count": 1,
   "id": "6d6fd35e",
   "metadata": {
    "_cell_guid": "b1076dfc-b9ad-4769-8c92-a6c4dae69d19",
    "_uuid": "8f2839f25d086af736a60e9eeb907d3b93b6e0e5",
    "execution": {
     "iopub.execute_input": "2021-08-26T17:44:02.292090Z",
     "iopub.status.busy": "2021-08-26T17:44:02.279237Z",
     "iopub.status.idle": "2021-08-26T17:44:03.954444Z",
     "shell.execute_reply": "2021-08-26T17:44:03.953569Z",
     "shell.execute_reply.started": "2021-08-26T08:01:37.603026Z"
    },
    "papermill": {
     "duration": 1.765381,
     "end_time": "2021-08-26T17:44:03.954668",
     "exception": false,
     "start_time": "2021-08-26T17:44:02.189287",
     "status": "completed"
    },
    "tags": []
   },
   "outputs": [
    {
     "name": "stdout",
     "output_type": "stream",
     "text": [
      "/kaggle/input/capetownhousingmodif/cape_town_data_modif.csv\n",
      "/kaggle/input/cape-town-housing/cape_town_data.csv\n"
     ]
    }
   ],
   "source": [
    "# This Python 3 environment comes with many helpful analytics libraries installed\n",
    "# It is defined by the kaggle/python Docker image: https://github.com/kaggle/docker-python\n",
    "# For example, here's several helpful packages to load\n",
    "\n",
    "import numpy as np # linear algebra\n",
    "import pandas as pd # data processing, CSV file I/O (e.g. pd.read_csv)\n",
    "import re\n",
    "import matplotlib.pyplot as plt\n",
    "import seaborn as sns\n",
    "from sklearn.model_selection import train_test_split\n",
    "from sklearn.model_selection import cross_val_score\n",
    "from sklearn.impute import SimpleImputer\n",
    "from sklearn.compose import ColumnTransformer\n",
    "from sklearn.pipeline import Pipeline\n",
    "from sklearn.preprocessing import OneHotEncoder\n",
    "from sklearn.ensemble import RandomForestRegressor\n",
    "from sklearn.preprocessing import MinMaxScaler\n",
    "import category_encoders as ce\n",
    "from sklearn.ensemble import StackingRegressor\n",
    "from sklearn import tree\n",
    "from xgboost import XGBRegressor\n",
    "from sklearn.ensemble import ExtraTreesClassifier\n",
    "from sklearn.linear_model import Ridge\n",
    "from sklearn.linear_model import LinearRegression\n",
    "from sklearn.linear_model import Lasso\n",
    "from sklearn.metrics import mean_squared_log_error\n",
    "import math\n",
    "from sklearn.model_selection import RandomizedSearchCV\n",
    "from sklearn.model_selection import GridSearchCV\n",
    "from sklearn.tree import DecisionTreeClassifier\n",
    "\n",
    "\n",
    "# Input data files are available in the read-only \"../input/\" directory\n",
    "# For example, running this (by clicking run or pressing Shift+Enter) will list all files under the input directory\n",
    "\n",
    "import os\n",
    "for dirname, _, filenames in os.walk('/kaggle/input'):\n",
    "    for filename in filenames:\n",
    "        print(os.path.join(dirname, filename))\n",
    "\n",
    "# You can write up to 20GB to the current directory (/kaggle/working/) that gets preserved as output when you create a version using \"Save & Run All\" \n",
    "# You can also write temporary files to /kaggle/temp/, but they won't be saved outside of the current session\n",
    "\n",
    "pd.set_option(\"display.max_columns\", None)"
   ]
  },
  {
   "cell_type": "markdown",
   "id": "76c11ecf",
   "metadata": {
    "papermill": {
     "duration": 0.081049,
     "end_time": "2021-08-26T17:44:04.118311",
     "exception": false,
     "start_time": "2021-08-26T17:44:04.037262",
     "status": "completed"
    },
    "tags": []
   },
   "source": [
    "# Problem Preparation"
   ]
  },
  {
   "cell_type": "markdown",
   "id": "e954e546",
   "metadata": {
    "papermill": {
     "duration": 0.079713,
     "end_time": "2021-08-26T17:44:04.279183",
     "exception": false,
     "start_time": "2021-08-26T17:44:04.199470",
     "status": "completed"
    },
    "tags": []
   },
   "source": [
    "Chargement du fichier csv en pandas dataframe. \n",
    "\n",
    "A noter qu'on n'utilise pas ici le fichier original \"property24_data.csv\", mais un fichier légèrement modifié, \"cape-town-housing-modif.csv\", avec modifications de 3 lignes où, les quotes étaient mal placées pour que l'algorithme suivant fonctionne correctement.\n",
    "\n",
    "Comme le fichier a une forme particulière, il a fallu un algorithme particulier pour charger le ficher. En voici les détails:\n",
    "* lecture du fichier ligne par ligne,\n",
    "* suppression des caractères de nouvelle ligne \"\\n\",\n",
    "* enregistrement de l'adresse, de la ville et de la région de chaque ligne dans une variable ,\n",
    "* suppression de l'adresse, ville et de la région de la ligne,\n",
    "* suppression des quotes,\n",
    "* conversion de la ligne en liste et en dataframe,\n",
    "* concatenation de toutes les dataframes,\n",
    "* insertion de la colonne de l'adresse, ville et de la région"
   ]
  },
  {
   "cell_type": "code",
   "execution_count": 2,
   "id": "635c6cbe",
   "metadata": {
    "execution": {
     "iopub.execute_input": "2021-08-26T17:44:04.457282Z",
     "iopub.status.busy": "2021-08-26T17:44:04.456568Z",
     "iopub.status.idle": "2021-08-26T17:44:38.814783Z",
     "shell.execute_reply": "2021-08-26T17:44:38.815396Z",
     "shell.execute_reply.started": "2021-08-26T06:31:19.088067Z"
    },
    "papermill": {
     "duration": 34.455344,
     "end_time": "2021-08-26T17:44:38.815627",
     "exception": false,
     "start_time": "2021-08-26T17:44:04.360283",
     "status": "completed"
    },
    "tags": []
   },
   "outputs": [],
   "source": [
    "col = [\"Bathrooms\",\"Bedrooms\",\"Erf Size\",\"Floor Size\",\"Garages\",\"Listing Date\",\"Listing Number\",\"Pet Friendly\",\"Price\",\n",
    "       \"Type of Property\",\"Garden\",\"Pool\",\"Secure Parking\",\"Parking\",\"No Pets Allowed\",\"Furnished\",\"Flatlet\",\n",
    "       \"Fibre Internet\",\"Furnished (Optional)\",\"ADSL Internet\",\"Satellite Internet\",\"Fixed WiMax Internet\"]\n",
    "org_data = pd.DataFrame(columns=col)\n",
    "Towns = []\n",
    "\n",
    "# Dataset loading\n",
    "\n",
    "with open (\"../input/capetownhousingmodif/cape_town_data_modif.csv\", \"r\") as myfile:\n",
    "    lines = myfile.readlines()\n",
    "\n",
    "for i in range(len(lines)):\n",
    "    if i != 0:\n",
    "        line = re.sub('\\n', '', lines[i])\n",
    "        town = re.search('(?<=\\\"\")(.*?)(?=\\\"\")', line)\n",
    "        #print(\"Town : \" , town.group(0))\n",
    "        line = line.replace('\"\"' + town.group(0) + '\"\",', '')\n",
    "        Towns.append(town.group(0))\n",
    "        line = re.sub('\"', '', line)\n",
    "        line = line.split(',')\n",
    "        org_data = org_data.append(pd.DataFrame([line[:22]], columns=col), ignore_index=True)"
   ]
  },
  {
   "cell_type": "code",
   "execution_count": 3,
   "id": "ccbd0b85",
   "metadata": {
    "execution": {
     "iopub.execute_input": "2021-08-26T17:44:38.997353Z",
     "iopub.status.busy": "2021-08-26T17:44:38.996617Z",
     "iopub.status.idle": "2021-08-26T17:44:39.034690Z",
     "shell.execute_reply": "2021-08-26T17:44:39.034106Z",
     "shell.execute_reply.started": "2021-08-26T06:32:38.825833Z"
    },
    "papermill": {
     "duration": 0.133832,
     "end_time": "2021-08-26T17:44:39.034854",
     "exception": false,
     "start_time": "2021-08-26T17:44:38.901022",
     "status": "completed"
    },
    "tags": []
   },
   "outputs": [
    {
     "data": {
      "text/html": [
       "<div>\n",
       "<style scoped>\n",
       "    .dataframe tbody tr th:only-of-type {\n",
       "        vertical-align: middle;\n",
       "    }\n",
       "\n",
       "    .dataframe tbody tr th {\n",
       "        vertical-align: top;\n",
       "    }\n",
       "\n",
       "    .dataframe thead th {\n",
       "        text-align: right;\n",
       "    }\n",
       "</style>\n",
       "<table border=\"1\" class=\"dataframe\">\n",
       "  <thead>\n",
       "    <tr style=\"text-align: right;\">\n",
       "      <th></th>\n",
       "      <th>Bathrooms</th>\n",
       "      <th>Bedrooms</th>\n",
       "      <th>Erf Size</th>\n",
       "      <th>Floor Size</th>\n",
       "      <th>Garages</th>\n",
       "      <th>Listing Date</th>\n",
       "      <th>Listing Number</th>\n",
       "      <th>Pet Friendly</th>\n",
       "      <th>Price</th>\n",
       "      <th>Type of Property</th>\n",
       "      <th>Garden</th>\n",
       "      <th>Pool</th>\n",
       "      <th>Secure Parking</th>\n",
       "      <th>Parking</th>\n",
       "      <th>No Pets Allowed</th>\n",
       "      <th>Furnished</th>\n",
       "      <th>Flatlet</th>\n",
       "      <th>Fibre Internet</th>\n",
       "      <th>Furnished (Optional)</th>\n",
       "      <th>ADSL Internet</th>\n",
       "      <th>Satellite Internet</th>\n",
       "      <th>Fixed WiMax Internet</th>\n",
       "      <th>Town</th>\n",
       "    </tr>\n",
       "  </thead>\n",
       "  <tbody>\n",
       "    <tr>\n",
       "      <th>0</th>\n",
       "      <td>3.0</td>\n",
       "      <td>3.0</td>\n",
       "      <td>304 m²</td>\n",
       "      <td>326 m²</td>\n",
       "      <td>2.0</td>\n",
       "      <td>10 July 2020</td>\n",
       "      <td>108859219</td>\n",
       "      <td>1.0</td>\n",
       "      <td>6480000.0</td>\n",
       "      <td>House</td>\n",
       "      <td></td>\n",
       "      <td></td>\n",
       "      <td></td>\n",
       "      <td></td>\n",
       "      <td></td>\n",
       "      <td></td>\n",
       "      <td></td>\n",
       "      <td></td>\n",
       "      <td></td>\n",
       "      <td></td>\n",
       "      <td></td>\n",
       "      <td></td>\n",
       "      <td>Tokai, Cape Town</td>\n",
       "    </tr>\n",
       "    <tr>\n",
       "      <th>1</th>\n",
       "      <td>3.0</td>\n",
       "      <td>3.0</td>\n",
       "      <td></td>\n",
       "      <td>140 m²</td>\n",
       "      <td>2.0</td>\n",
       "      <td>23 September 2020</td>\n",
       "      <td>109153971</td>\n",
       "      <td>1.0</td>\n",
       "      <td>6250000.0</td>\n",
       "      <td>Townhouse</td>\n",
       "      <td></td>\n",
       "      <td></td>\n",
       "      <td></td>\n",
       "      <td></td>\n",
       "      <td></td>\n",
       "      <td></td>\n",
       "      <td></td>\n",
       "      <td></td>\n",
       "      <td></td>\n",
       "      <td></td>\n",
       "      <td></td>\n",
       "      <td></td>\n",
       "      <td>14 Graham Road, Sea Point, Cape Town</td>\n",
       "    </tr>\n",
       "    <tr>\n",
       "      <th>2</th>\n",
       "      <td>3.5</td>\n",
       "      <td>4.0</td>\n",
       "      <td>659 m²</td>\n",
       "      <td>300 m²</td>\n",
       "      <td>2.0</td>\n",
       "      <td>23 September 2020</td>\n",
       "      <td>109154367</td>\n",
       "      <td></td>\n",
       "      <td>13950000.0</td>\n",
       "      <td>House</td>\n",
       "      <td>1.0</td>\n",
       "      <td>1.0</td>\n",
       "      <td>2.0</td>\n",
       "      <td></td>\n",
       "      <td></td>\n",
       "      <td></td>\n",
       "      <td></td>\n",
       "      <td></td>\n",
       "      <td></td>\n",
       "      <td></td>\n",
       "      <td></td>\n",
       "      <td></td>\n",
       "      <td>Camps Bay, Cape Town</td>\n",
       "    </tr>\n",
       "    <tr>\n",
       "      <th>3</th>\n",
       "      <td>1.0</td>\n",
       "      <td>2.0</td>\n",
       "      <td></td>\n",
       "      <td></td>\n",
       "      <td></td>\n",
       "      <td>23 September 2020</td>\n",
       "      <td>109154455</td>\n",
       "      <td></td>\n",
       "      <td>1050000.0</td>\n",
       "      <td>Apartment / Flat</td>\n",
       "      <td></td>\n",
       "      <td></td>\n",
       "      <td></td>\n",
       "      <td>1.0</td>\n",
       "      <td></td>\n",
       "      <td></td>\n",
       "      <td></td>\n",
       "      <td></td>\n",
       "      <td></td>\n",
       "      <td></td>\n",
       "      <td></td>\n",
       "      <td></td>\n",
       "      <td>Ottery, Cape Town</td>\n",
       "    </tr>\n",
       "    <tr>\n",
       "      <th>4</th>\n",
       "      <td>1.0</td>\n",
       "      <td>1.0</td>\n",
       "      <td></td>\n",
       "      <td>61 m²</td>\n",
       "      <td></td>\n",
       "      <td>23 July 2020</td>\n",
       "      <td>108907258</td>\n",
       "      <td></td>\n",
       "      <td>1265000.0</td>\n",
       "      <td>Apartment / Flat</td>\n",
       "      <td></td>\n",
       "      <td></td>\n",
       "      <td>1.0</td>\n",
       "      <td></td>\n",
       "      <td></td>\n",
       "      <td></td>\n",
       "      <td></td>\n",
       "      <td></td>\n",
       "      <td></td>\n",
       "      <td></td>\n",
       "      <td></td>\n",
       "      <td></td>\n",
       "      <td>Muizenberg, Cape Town</td>\n",
       "    </tr>\n",
       "  </tbody>\n",
       "</table>\n",
       "</div>"
      ],
      "text/plain": [
       "  Bathrooms Bedrooms Erf Size Floor Size Garages       Listing Date  \\\n",
       "0       3.0      3.0   304 m²     326 m²     2.0       10 July 2020   \n",
       "1       3.0      3.0              140 m²     2.0  23 September 2020   \n",
       "2       3.5      4.0   659 m²     300 m²     2.0  23 September 2020   \n",
       "3       1.0      2.0                              23 September 2020   \n",
       "4       1.0      1.0               61 m²               23 July 2020   \n",
       "\n",
       "  Listing Number Pet Friendly       Price  Type of Property Garden Pool  \\\n",
       "0      108859219          1.0   6480000.0             House               \n",
       "1      109153971          1.0   6250000.0         Townhouse               \n",
       "2      109154367               13950000.0             House    1.0  1.0   \n",
       "3      109154455                1050000.0  Apartment / Flat               \n",
       "4      108907258                1265000.0  Apartment / Flat               \n",
       "\n",
       "  Secure Parking Parking No Pets Allowed Furnished Flatlet Fibre Internet  \\\n",
       "0                                                                           \n",
       "1                                                                           \n",
       "2            2.0                                                            \n",
       "3                    1.0                                                    \n",
       "4            1.0                                                            \n",
       "\n",
       "  Furnished (Optional) ADSL Internet Satellite Internet Fixed WiMax Internet  \\\n",
       "0                                                                              \n",
       "1                                                                              \n",
       "2                                                                              \n",
       "3                                                                              \n",
       "4                                                                              \n",
       "\n",
       "                                   Town  \n",
       "0                      Tokai, Cape Town  \n",
       "1  14 Graham Road, Sea Point, Cape Town  \n",
       "2                  Camps Bay, Cape Town  \n",
       "3                     Ottery, Cape Town  \n",
       "4                 Muizenberg, Cape Town  "
      ]
     },
     "execution_count": 3,
     "metadata": {},
     "output_type": "execute_result"
    }
   ],
   "source": [
    "org_data['Town'] = Towns\n",
    "org_data.head()"
   ]
  },
  {
   "cell_type": "markdown",
   "id": "cf1ff987",
   "metadata": {
    "papermill": {
     "duration": 0.082272,
     "end_time": "2021-08-26T17:44:39.203315",
     "exception": false,
     "start_time": "2021-08-26T17:44:39.121043",
     "status": "completed"
    },
    "tags": []
   },
   "source": [
    "# Data Summary"
   ]
  },
  {
   "cell_type": "markdown",
   "id": "404b9ae0",
   "metadata": {
    "papermill": {
     "duration": 0.083925,
     "end_time": "2021-08-26T17:44:39.372485",
     "exception": false,
     "start_time": "2021-08-26T17:44:39.288560",
     "status": "completed"
    },
    "tags": []
   },
   "source": [
    "## Descriptive Stats"
   ]
  },
  {
   "cell_type": "markdown",
   "id": "23d420e9",
   "metadata": {
    "papermill": {
     "duration": 0.083309,
     "end_time": "2021-08-26T17:44:39.539636",
     "exception": false,
     "start_time": "2021-08-26T17:44:39.456327",
     "status": "completed"
    },
    "tags": []
   },
   "source": [
    "Dans cette première partie de \"Data Summary\", on applique des méthodes de statistiques descriptives aux données pour avoir un premier aperçu des données et des relations entre les caractéristiques\n",
    "* quelques indicateurs statistiques\n",
    "* corrélations entre caractéristiques\n",
    "* Skewness ou inclinaison de chaque caractéristique"
   ]
  },
  {
   "cell_type": "code",
   "execution_count": 4,
   "id": "afb2129e",
   "metadata": {
    "execution": {
     "iopub.execute_input": "2021-08-26T17:44:39.749700Z",
     "iopub.status.busy": "2021-08-26T17:44:39.745769Z",
     "iopub.status.idle": "2021-08-26T17:44:39.755448Z",
     "shell.execute_reply": "2021-08-26T17:44:39.754784Z",
     "shell.execute_reply.started": "2021-08-26T06:33:00.898076Z"
    },
    "papermill": {
     "duration": 0.132362,
     "end_time": "2021-08-26T17:44:39.755589",
     "exception": false,
     "start_time": "2021-08-26T17:44:39.623227",
     "status": "completed"
    },
    "tags": []
   },
   "outputs": [
    {
     "data": {
      "text/html": [
       "<div>\n",
       "<style scoped>\n",
       "    .dataframe tbody tr th:only-of-type {\n",
       "        vertical-align: middle;\n",
       "    }\n",
       "\n",
       "    .dataframe tbody tr th {\n",
       "        vertical-align: top;\n",
       "    }\n",
       "\n",
       "    .dataframe thead th {\n",
       "        text-align: right;\n",
       "    }\n",
       "</style>\n",
       "<table border=\"1\" class=\"dataframe\">\n",
       "  <thead>\n",
       "    <tr style=\"text-align: right;\">\n",
       "      <th></th>\n",
       "      <th>Bathrooms</th>\n",
       "      <th>Bedrooms</th>\n",
       "      <th>Erf Size</th>\n",
       "      <th>Floor Size</th>\n",
       "      <th>Garages</th>\n",
       "      <th>Listing Date</th>\n",
       "      <th>Listing Number</th>\n",
       "      <th>Pet Friendly</th>\n",
       "      <th>Price</th>\n",
       "      <th>Type of Property</th>\n",
       "      <th>Garden</th>\n",
       "      <th>Pool</th>\n",
       "      <th>Secure Parking</th>\n",
       "      <th>Parking</th>\n",
       "      <th>No Pets Allowed</th>\n",
       "      <th>Furnished</th>\n",
       "      <th>Flatlet</th>\n",
       "      <th>Fibre Internet</th>\n",
       "      <th>Furnished (Optional)</th>\n",
       "      <th>ADSL Internet</th>\n",
       "      <th>Satellite Internet</th>\n",
       "      <th>Fixed WiMax Internet</th>\n",
       "      <th>Town</th>\n",
       "    </tr>\n",
       "  </thead>\n",
       "  <tbody>\n",
       "    <tr>\n",
       "      <th>0</th>\n",
       "      <td>3.0</td>\n",
       "      <td>3.0</td>\n",
       "      <td>304 m²</td>\n",
       "      <td>326 m²</td>\n",
       "      <td>2.0</td>\n",
       "      <td>10 July 2020</td>\n",
       "      <td>108859219</td>\n",
       "      <td>1.0</td>\n",
       "      <td>6480000.0</td>\n",
       "      <td>House</td>\n",
       "      <td></td>\n",
       "      <td></td>\n",
       "      <td></td>\n",
       "      <td></td>\n",
       "      <td></td>\n",
       "      <td></td>\n",
       "      <td></td>\n",
       "      <td></td>\n",
       "      <td></td>\n",
       "      <td></td>\n",
       "      <td></td>\n",
       "      <td></td>\n",
       "      <td>Tokai, Cape Town</td>\n",
       "    </tr>\n",
       "    <tr>\n",
       "      <th>1</th>\n",
       "      <td>3.0</td>\n",
       "      <td>3.0</td>\n",
       "      <td></td>\n",
       "      <td>140 m²</td>\n",
       "      <td>2.0</td>\n",
       "      <td>23 September 2020</td>\n",
       "      <td>109153971</td>\n",
       "      <td>1.0</td>\n",
       "      <td>6250000.0</td>\n",
       "      <td>Townhouse</td>\n",
       "      <td></td>\n",
       "      <td></td>\n",
       "      <td></td>\n",
       "      <td></td>\n",
       "      <td></td>\n",
       "      <td></td>\n",
       "      <td></td>\n",
       "      <td></td>\n",
       "      <td></td>\n",
       "      <td></td>\n",
       "      <td></td>\n",
       "      <td></td>\n",
       "      <td>14 Graham Road, Sea Point, Cape Town</td>\n",
       "    </tr>\n",
       "    <tr>\n",
       "      <th>2</th>\n",
       "      <td>3.5</td>\n",
       "      <td>4.0</td>\n",
       "      <td>659 m²</td>\n",
       "      <td>300 m²</td>\n",
       "      <td>2.0</td>\n",
       "      <td>23 September 2020</td>\n",
       "      <td>109154367</td>\n",
       "      <td></td>\n",
       "      <td>13950000.0</td>\n",
       "      <td>House</td>\n",
       "      <td>1.0</td>\n",
       "      <td>1.0</td>\n",
       "      <td>2.0</td>\n",
       "      <td></td>\n",
       "      <td></td>\n",
       "      <td></td>\n",
       "      <td></td>\n",
       "      <td></td>\n",
       "      <td></td>\n",
       "      <td></td>\n",
       "      <td></td>\n",
       "      <td></td>\n",
       "      <td>Camps Bay, Cape Town</td>\n",
       "    </tr>\n",
       "    <tr>\n",
       "      <th>3</th>\n",
       "      <td>1.0</td>\n",
       "      <td>2.0</td>\n",
       "      <td></td>\n",
       "      <td></td>\n",
       "      <td></td>\n",
       "      <td>23 September 2020</td>\n",
       "      <td>109154455</td>\n",
       "      <td></td>\n",
       "      <td>1050000.0</td>\n",
       "      <td>Apartment / Flat</td>\n",
       "      <td></td>\n",
       "      <td></td>\n",
       "      <td></td>\n",
       "      <td>1.0</td>\n",
       "      <td></td>\n",
       "      <td></td>\n",
       "      <td></td>\n",
       "      <td></td>\n",
       "      <td></td>\n",
       "      <td></td>\n",
       "      <td></td>\n",
       "      <td></td>\n",
       "      <td>Ottery, Cape Town</td>\n",
       "    </tr>\n",
       "    <tr>\n",
       "      <th>4</th>\n",
       "      <td>1.0</td>\n",
       "      <td>1.0</td>\n",
       "      <td></td>\n",
       "      <td>61 m²</td>\n",
       "      <td></td>\n",
       "      <td>23 July 2020</td>\n",
       "      <td>108907258</td>\n",
       "      <td></td>\n",
       "      <td>1265000.0</td>\n",
       "      <td>Apartment / Flat</td>\n",
       "      <td></td>\n",
       "      <td></td>\n",
       "      <td>1.0</td>\n",
       "      <td></td>\n",
       "      <td></td>\n",
       "      <td></td>\n",
       "      <td></td>\n",
       "      <td></td>\n",
       "      <td></td>\n",
       "      <td></td>\n",
       "      <td></td>\n",
       "      <td></td>\n",
       "      <td>Muizenberg, Cape Town</td>\n",
       "    </tr>\n",
       "    <tr>\n",
       "      <th>5</th>\n",
       "      <td>3.0</td>\n",
       "      <td>6.0</td>\n",
       "      <td>677 m²</td>\n",
       "      <td></td>\n",
       "      <td></td>\n",
       "      <td>18 September 2020</td>\n",
       "      <td>109136653</td>\n",
       "      <td>1.0</td>\n",
       "      <td>9900000.0</td>\n",
       "      <td>House</td>\n",
       "      <td></td>\n",
       "      <td></td>\n",
       "      <td></td>\n",
       "      <td>8.0</td>\n",
       "      <td></td>\n",
       "      <td></td>\n",
       "      <td></td>\n",
       "      <td></td>\n",
       "      <td></td>\n",
       "      <td></td>\n",
       "      <td></td>\n",
       "      <td></td>\n",
       "      <td>7 Breda Street, Oranjezicht, Cape Town</td>\n",
       "    </tr>\n",
       "    <tr>\n",
       "      <th>6</th>\n",
       "      <td>3.5</td>\n",
       "      <td>3.0</td>\n",
       "      <td></td>\n",
       "      <td>410 m²</td>\n",
       "      <td>2.0</td>\n",
       "      <td>24 July 2020</td>\n",
       "      <td>108909235</td>\n",
       "      <td></td>\n",
       "      <td>55000000.0</td>\n",
       "      <td>Apartment / Flat</td>\n",
       "      <td></td>\n",
       "      <td>1.0</td>\n",
       "      <td></td>\n",
       "      <td></td>\n",
       "      <td>1.0</td>\n",
       "      <td></td>\n",
       "      <td></td>\n",
       "      <td></td>\n",
       "      <td></td>\n",
       "      <td></td>\n",
       "      <td></td>\n",
       "      <td></td>\n",
       "      <td>Waterfront, Cape Town</td>\n",
       "    </tr>\n",
       "    <tr>\n",
       "      <th>7</th>\n",
       "      <td>4.5</td>\n",
       "      <td>4.0</td>\n",
       "      <td></td>\n",
       "      <td>300 m²</td>\n",
       "      <td></td>\n",
       "      <td>23 September 2020</td>\n",
       "      <td>109154447</td>\n",
       "      <td>1.0</td>\n",
       "      <td>15999000.0</td>\n",
       "      <td>Apartment / Flat</td>\n",
       "      <td></td>\n",
       "      <td>1.0</td>\n",
       "      <td></td>\n",
       "      <td>2.0</td>\n",
       "      <td></td>\n",
       "      <td></td>\n",
       "      <td></td>\n",
       "      <td></td>\n",
       "      <td></td>\n",
       "      <td></td>\n",
       "      <td></td>\n",
       "      <td></td>\n",
       "      <td>Sea Point, Cape Town</td>\n",
       "    </tr>\n",
       "    <tr>\n",
       "      <th>8</th>\n",
       "      <td>1.0</td>\n",
       "      <td>1.0</td>\n",
       "      <td></td>\n",
       "      <td>51 m²</td>\n",
       "      <td></td>\n",
       "      <td>08 September 2020</td>\n",
       "      <td>109087490</td>\n",
       "      <td></td>\n",
       "      <td>1385000.0</td>\n",
       "      <td>Apartment / Flat</td>\n",
       "      <td></td>\n",
       "      <td></td>\n",
       "      <td></td>\n",
       "      <td>1.0</td>\n",
       "      <td>1.0</td>\n",
       "      <td></td>\n",
       "      <td></td>\n",
       "      <td></td>\n",
       "      <td></td>\n",
       "      <td></td>\n",
       "      <td></td>\n",
       "      <td></td>\n",
       "      <td>36 Clifford Ave, Vredehoek, Cape Town</td>\n",
       "    </tr>\n",
       "    <tr>\n",
       "      <th>9</th>\n",
       "      <td>1.0</td>\n",
       "      <td>0.5</td>\n",
       "      <td></td>\n",
       "      <td>43 m²</td>\n",
       "      <td></td>\n",
       "      <td>07 September 2020</td>\n",
       "      <td>109072931</td>\n",
       "      <td></td>\n",
       "      <td>1400000.0</td>\n",
       "      <td>Apartment / Flat</td>\n",
       "      <td></td>\n",
       "      <td>1.0</td>\n",
       "      <td></td>\n",
       "      <td>1.0</td>\n",
       "      <td>1.0</td>\n",
       "      <td>1.0</td>\n",
       "      <td></td>\n",
       "      <td></td>\n",
       "      <td></td>\n",
       "      <td></td>\n",
       "      <td></td>\n",
       "      <td></td>\n",
       "      <td>Cape Town City Centre, Cape Town</td>\n",
       "    </tr>\n",
       "    <tr>\n",
       "      <th>10</th>\n",
       "      <td>1.5</td>\n",
       "      <td>2.0</td>\n",
       "      <td></td>\n",
       "      <td>57 m²</td>\n",
       "      <td></td>\n",
       "      <td>23 September 2020</td>\n",
       "      <td>109154135</td>\n",
       "      <td>1.0</td>\n",
       "      <td>1475000.0</td>\n",
       "      <td>Townhouse</td>\n",
       "      <td></td>\n",
       "      <td>1.0</td>\n",
       "      <td>2.0</td>\n",
       "      <td></td>\n",
       "      <td></td>\n",
       "      <td></td>\n",
       "      <td></td>\n",
       "      <td></td>\n",
       "      <td></td>\n",
       "      <td></td>\n",
       "      <td></td>\n",
       "      <td></td>\n",
       "      <td>5 Hamlet Way, Pinelands, Cape Town</td>\n",
       "    </tr>\n",
       "    <tr>\n",
       "      <th>11</th>\n",
       "      <td>8.0</td>\n",
       "      <td>8.0</td>\n",
       "      <td>2 842 m²</td>\n",
       "      <td>650 m²</td>\n",
       "      <td>3.0</td>\n",
       "      <td>23 September 2020</td>\n",
       "      <td>109154306</td>\n",
       "      <td>1.0</td>\n",
       "      <td>20000000.0</td>\n",
       "      <td>House</td>\n",
       "      <td>1.0</td>\n",
       "      <td>1.0</td>\n",
       "      <td></td>\n",
       "      <td>8.0</td>\n",
       "      <td></td>\n",
       "      <td>1.0</td>\n",
       "      <td></td>\n",
       "      <td></td>\n",
       "      <td></td>\n",
       "      <td></td>\n",
       "      <td></td>\n",
       "      <td></td>\n",
       "      <td>Kenilworth Upper, Cape Town</td>\n",
       "    </tr>\n",
       "    <tr>\n",
       "      <th>12</th>\n",
       "      <td>2.0</td>\n",
       "      <td>3.0</td>\n",
       "      <td>645 m²</td>\n",
       "      <td></td>\n",
       "      <td></td>\n",
       "      <td>23 September 2020</td>\n",
       "      <td>109153823</td>\n",
       "      <td></td>\n",
       "      <td>2195000.0</td>\n",
       "      <td>House</td>\n",
       "      <td></td>\n",
       "      <td></td>\n",
       "      <td></td>\n",
       "      <td>2.0</td>\n",
       "      <td>1.0</td>\n",
       "      <td></td>\n",
       "      <td></td>\n",
       "      <td></td>\n",
       "      <td></td>\n",
       "      <td></td>\n",
       "      <td></td>\n",
       "      <td></td>\n",
       "      <td>Thornton, Cape Town</td>\n",
       "    </tr>\n",
       "    <tr>\n",
       "      <th>13</th>\n",
       "      <td>3.0</td>\n",
       "      <td>4.0</td>\n",
       "      <td>1 085 m²</td>\n",
       "      <td></td>\n",
       "      <td></td>\n",
       "      <td>23 September 2020</td>\n",
       "      <td>109154445</td>\n",
       "      <td></td>\n",
       "      <td>4450000.0</td>\n",
       "      <td>House</td>\n",
       "      <td></td>\n",
       "      <td>1.0</td>\n",
       "      <td></td>\n",
       "      <td>5.0</td>\n",
       "      <td></td>\n",
       "      <td></td>\n",
       "      <td></td>\n",
       "      <td></td>\n",
       "      <td></td>\n",
       "      <td></td>\n",
       "      <td></td>\n",
       "      <td></td>\n",
       "      <td>Tokai, Cape Town</td>\n",
       "    </tr>\n",
       "    <tr>\n",
       "      <th>14</th>\n",
       "      <td>4.5</td>\n",
       "      <td>4.0</td>\n",
       "      <td>252 m²</td>\n",
       "      <td></td>\n",
       "      <td>1.0</td>\n",
       "      <td>23 September 2020</td>\n",
       "      <td>109154270</td>\n",
       "      <td>1.0</td>\n",
       "      <td>4850000.0</td>\n",
       "      <td>House</td>\n",
       "      <td>1.0</td>\n",
       "      <td>1.0</td>\n",
       "      <td></td>\n",
       "      <td>1.0</td>\n",
       "      <td></td>\n",
       "      <td></td>\n",
       "      <td>1.0</td>\n",
       "      <td></td>\n",
       "      <td></td>\n",
       "      <td></td>\n",
       "      <td></td>\n",
       "      <td></td>\n",
       "      <td>12 Faure Street, Gardens, Cape Town</td>\n",
       "    </tr>\n",
       "    <tr>\n",
       "      <th>15</th>\n",
       "      <td>3.0</td>\n",
       "      <td>3.0</td>\n",
       "      <td></td>\n",
       "      <td>192 m²</td>\n",
       "      <td>2.0</td>\n",
       "      <td>24 July 2020</td>\n",
       "      <td>108909566</td>\n",
       "      <td></td>\n",
       "      <td>28000000.0</td>\n",
       "      <td>Apartment / Flat</td>\n",
       "      <td></td>\n",
       "      <td>1.0</td>\n",
       "      <td></td>\n",
       "      <td></td>\n",
       "      <td>1.0</td>\n",
       "      <td>1.0</td>\n",
       "      <td></td>\n",
       "      <td></td>\n",
       "      <td></td>\n",
       "      <td></td>\n",
       "      <td></td>\n",
       "      <td></td>\n",
       "      <td>Waterfront, Cape Town</td>\n",
       "    </tr>\n",
       "    <tr>\n",
       "      <th>16</th>\n",
       "      <td>2.0</td>\n",
       "      <td>2.0</td>\n",
       "      <td>281 m²</td>\n",
       "      <td>140 m²</td>\n",
       "      <td>1.0</td>\n",
       "      <td>23 September 2020</td>\n",
       "      <td>109154201</td>\n",
       "      <td>1.0</td>\n",
       "      <td>4950000.0</td>\n",
       "      <td>House</td>\n",
       "      <td></td>\n",
       "      <td>1.0</td>\n",
       "      <td></td>\n",
       "      <td></td>\n",
       "      <td></td>\n",
       "      <td></td>\n",
       "      <td></td>\n",
       "      <td></td>\n",
       "      <td></td>\n",
       "      <td></td>\n",
       "      <td></td>\n",
       "      <td></td>\n",
       "      <td>Sea Point, Cape Town</td>\n",
       "    </tr>\n",
       "    <tr>\n",
       "      <th>17</th>\n",
       "      <td>2.0</td>\n",
       "      <td>2.0</td>\n",
       "      <td>209 m²</td>\n",
       "      <td>106 m²</td>\n",
       "      <td>1.0</td>\n",
       "      <td>25 July 2020</td>\n",
       "      <td>108912704</td>\n",
       "      <td></td>\n",
       "      <td>2500000.0</td>\n",
       "      <td>House</td>\n",
       "      <td></td>\n",
       "      <td>1.0</td>\n",
       "      <td></td>\n",
       "      <td></td>\n",
       "      <td></td>\n",
       "      <td></td>\n",
       "      <td></td>\n",
       "      <td></td>\n",
       "      <td></td>\n",
       "      <td></td>\n",
       "      <td></td>\n",
       "      <td></td>\n",
       "      <td>Harfield Village, Cape Town</td>\n",
       "    </tr>\n",
       "    <tr>\n",
       "      <th>18</th>\n",
       "      <td>1.0</td>\n",
       "      <td>3.0</td>\n",
       "      <td></td>\n",
       "      <td></td>\n",
       "      <td>1.0</td>\n",
       "      <td>23 September 2020</td>\n",
       "      <td>109154145</td>\n",
       "      <td></td>\n",
       "      <td>690000.0</td>\n",
       "      <td>House</td>\n",
       "      <td></td>\n",
       "      <td></td>\n",
       "      <td></td>\n",
       "      <td>5.0</td>\n",
       "      <td></td>\n",
       "      <td></td>\n",
       "      <td></td>\n",
       "      <td></td>\n",
       "      <td></td>\n",
       "      <td></td>\n",
       "      <td></td>\n",
       "      <td></td>\n",
       "      <td>Parkwood, Cape Town</td>\n",
       "    </tr>\n",
       "    <tr>\n",
       "      <th>19</th>\n",
       "      <td>1.0</td>\n",
       "      <td>2.0</td>\n",
       "      <td></td>\n",
       "      <td>86 m²</td>\n",
       "      <td></td>\n",
       "      <td>23 September 2020</td>\n",
       "      <td>109153982</td>\n",
       "      <td></td>\n",
       "      <td>3500000.0</td>\n",
       "      <td>Apartment / Flat</td>\n",
       "      <td></td>\n",
       "      <td></td>\n",
       "      <td></td>\n",
       "      <td></td>\n",
       "      <td></td>\n",
       "      <td></td>\n",
       "      <td></td>\n",
       "      <td></td>\n",
       "      <td></td>\n",
       "      <td></td>\n",
       "      <td></td>\n",
       "      <td></td>\n",
       "      <td>16 Fir Avenue, Bantry Bay, Cape Town</td>\n",
       "    </tr>\n",
       "  </tbody>\n",
       "</table>\n",
       "</div>"
      ],
      "text/plain": [
       "   Bathrooms Bedrooms  Erf Size Floor Size Garages       Listing Date  \\\n",
       "0        3.0      3.0    304 m²     326 m²     2.0       10 July 2020   \n",
       "1        3.0      3.0               140 m²     2.0  23 September 2020   \n",
       "2        3.5      4.0    659 m²     300 m²     2.0  23 September 2020   \n",
       "3        1.0      2.0                               23 September 2020   \n",
       "4        1.0      1.0                61 m²               23 July 2020   \n",
       "5        3.0      6.0    677 m²                     18 September 2020   \n",
       "6        3.5      3.0               410 m²     2.0       24 July 2020   \n",
       "7        4.5      4.0               300 m²          23 September 2020   \n",
       "8        1.0      1.0                51 m²          08 September 2020   \n",
       "9        1.0      0.5                43 m²          07 September 2020   \n",
       "10       1.5      2.0                57 m²          23 September 2020   \n",
       "11       8.0      8.0  2 842 m²     650 m²     3.0  23 September 2020   \n",
       "12       2.0      3.0    645 m²                     23 September 2020   \n",
       "13       3.0      4.0  1 085 m²                     23 September 2020   \n",
       "14       4.5      4.0    252 m²                1.0  23 September 2020   \n",
       "15       3.0      3.0               192 m²     2.0       24 July 2020   \n",
       "16       2.0      2.0    281 m²     140 m²     1.0  23 September 2020   \n",
       "17       2.0      2.0    209 m²     106 m²     1.0       25 July 2020   \n",
       "18       1.0      3.0                          1.0  23 September 2020   \n",
       "19       1.0      2.0                86 m²          23 September 2020   \n",
       "\n",
       "   Listing Number Pet Friendly       Price  Type of Property Garden Pool  \\\n",
       "0       108859219          1.0   6480000.0             House               \n",
       "1       109153971          1.0   6250000.0         Townhouse               \n",
       "2       109154367               13950000.0             House    1.0  1.0   \n",
       "3       109154455                1050000.0  Apartment / Flat               \n",
       "4       108907258                1265000.0  Apartment / Flat               \n",
       "5       109136653          1.0   9900000.0             House               \n",
       "6       108909235               55000000.0  Apartment / Flat         1.0   \n",
       "7       109154447          1.0  15999000.0  Apartment / Flat         1.0   \n",
       "8       109087490                1385000.0  Apartment / Flat               \n",
       "9       109072931                1400000.0  Apartment / Flat         1.0   \n",
       "10      109154135          1.0   1475000.0         Townhouse         1.0   \n",
       "11      109154306          1.0  20000000.0             House    1.0  1.0   \n",
       "12      109153823                2195000.0             House               \n",
       "13      109154445                4450000.0             House         1.0   \n",
       "14      109154270          1.0   4850000.0             House    1.0  1.0   \n",
       "15      108909566               28000000.0  Apartment / Flat         1.0   \n",
       "16      109154201          1.0   4950000.0             House         1.0   \n",
       "17      108912704                2500000.0             House         1.0   \n",
       "18      109154145                 690000.0             House               \n",
       "19      109153982                3500000.0  Apartment / Flat               \n",
       "\n",
       "   Secure Parking Parking No Pets Allowed Furnished Flatlet Fibre Internet  \\\n",
       "0                                                                            \n",
       "1                                                                            \n",
       "2             2.0                                                            \n",
       "3                     1.0                                                    \n",
       "4             1.0                                                            \n",
       "5                     8.0                                                    \n",
       "6                                     1.0                                    \n",
       "7                     2.0                                                    \n",
       "8                     1.0             1.0                                    \n",
       "9                     1.0             1.0       1.0                          \n",
       "10            2.0                                                            \n",
       "11                    8.0                       1.0                          \n",
       "12                    2.0             1.0                                    \n",
       "13                    5.0                                                    \n",
       "14                    1.0                               1.0                  \n",
       "15                                    1.0       1.0                          \n",
       "16                                                                           \n",
       "17                                                                           \n",
       "18                    5.0                                                    \n",
       "19                                                                           \n",
       "\n",
       "   Furnished (Optional) ADSL Internet Satellite Internet Fixed WiMax Internet  \\\n",
       "0                                                                               \n",
       "1                                                                               \n",
       "2                                                                               \n",
       "3                                                                               \n",
       "4                                                                               \n",
       "5                                                                               \n",
       "6                                                                               \n",
       "7                                                                               \n",
       "8                                                                               \n",
       "9                                                                               \n",
       "10                                                                              \n",
       "11                                                                              \n",
       "12                                                                              \n",
       "13                                                                              \n",
       "14                                                                              \n",
       "15                                                                              \n",
       "16                                                                              \n",
       "17                                                                              \n",
       "18                                                                              \n",
       "19                                                                              \n",
       "\n",
       "                                      Town  \n",
       "0                         Tokai, Cape Town  \n",
       "1     14 Graham Road, Sea Point, Cape Town  \n",
       "2                     Camps Bay, Cape Town  \n",
       "3                        Ottery, Cape Town  \n",
       "4                    Muizenberg, Cape Town  \n",
       "5   7 Breda Street, Oranjezicht, Cape Town  \n",
       "6                    Waterfront, Cape Town  \n",
       "7                     Sea Point, Cape Town  \n",
       "8    36 Clifford Ave, Vredehoek, Cape Town  \n",
       "9         Cape Town City Centre, Cape Town  \n",
       "10      5 Hamlet Way, Pinelands, Cape Town  \n",
       "11             Kenilworth Upper, Cape Town  \n",
       "12                     Thornton, Cape Town  \n",
       "13                        Tokai, Cape Town  \n",
       "14     12 Faure Street, Gardens, Cape Town  \n",
       "15                   Waterfront, Cape Town  \n",
       "16                    Sea Point, Cape Town  \n",
       "17             Harfield Village, Cape Town  \n",
       "18                     Parkwood, Cape Town  \n",
       "19    16 Fir Avenue, Bantry Bay, Cape Town  "
      ]
     },
     "execution_count": 4,
     "metadata": {},
     "output_type": "execute_result"
    }
   ],
   "source": [
    "# View the first 20 rows of the data\n",
    "org_data.head(20)"
   ]
  },
  {
   "cell_type": "code",
   "execution_count": 5,
   "id": "182d554f",
   "metadata": {
    "execution": {
     "iopub.execute_input": "2021-08-26T17:44:39.928066Z",
     "iopub.status.busy": "2021-08-26T17:44:39.927106Z",
     "iopub.status.idle": "2021-08-26T17:44:39.931342Z",
     "shell.execute_reply": "2021-08-26T17:44:39.930686Z",
     "shell.execute_reply.started": "2021-08-26T06:33:05.290195Z"
    },
    "papermill": {
     "duration": 0.093336,
     "end_time": "2021-08-26T17:44:39.931487",
     "exception": false,
     "start_time": "2021-08-26T17:44:39.838151",
     "status": "completed"
    },
    "tags": []
   },
   "outputs": [
    {
     "data": {
      "text/plain": [
       "(7901, 23)"
      ]
     },
     "execution_count": 5,
     "metadata": {},
     "output_type": "execute_result"
    }
   ],
   "source": [
    "# data dimensions\n",
    "org_data.shape"
   ]
  },
  {
   "cell_type": "code",
   "execution_count": 6,
   "id": "f34d845c",
   "metadata": {
    "execution": {
     "iopub.execute_input": "2021-08-26T17:44:40.106704Z",
     "iopub.status.busy": "2021-08-26T17:44:40.106017Z",
     "iopub.status.idle": "2021-08-26T17:44:40.110389Z",
     "shell.execute_reply": "2021-08-26T17:44:40.109813Z",
     "shell.execute_reply.started": "2021-08-26T06:33:07.89027Z"
    },
    "papermill": {
     "duration": 0.096069,
     "end_time": "2021-08-26T17:44:40.110540",
     "exception": false,
     "start_time": "2021-08-26T17:44:40.014471",
     "status": "completed"
    },
    "tags": []
   },
   "outputs": [
    {
     "data": {
      "text/plain": [
       "Bathrooms               object\n",
       "Bedrooms                object\n",
       "Erf Size                object\n",
       "Floor Size              object\n",
       "Garages                 object\n",
       "Listing Date            object\n",
       "Listing Number          object\n",
       "Pet Friendly            object\n",
       "Price                   object\n",
       "Type of Property        object\n",
       "Garden                  object\n",
       "Pool                    object\n",
       "Secure Parking          object\n",
       "Parking                 object\n",
       "No Pets Allowed         object\n",
       "Furnished               object\n",
       "Flatlet                 object\n",
       "Fibre Internet          object\n",
       "Furnished (Optional)    object\n",
       "ADSL Internet           object\n",
       "Satellite Internet      object\n",
       "Fixed WiMax Internet    object\n",
       "Town                    object\n",
       "dtype: object"
      ]
     },
     "execution_count": 6,
     "metadata": {},
     "output_type": "execute_result"
    }
   ],
   "source": [
    "# Datatypes for each feature\n",
    "org_data.dtypes"
   ]
  },
  {
   "cell_type": "code",
   "execution_count": 7,
   "id": "74cbb8d4",
   "metadata": {
    "execution": {
     "iopub.execute_input": "2021-08-26T17:44:40.288892Z",
     "iopub.status.busy": "2021-08-26T17:44:40.286784Z",
     "iopub.status.idle": "2021-08-26T17:44:40.291977Z",
     "shell.execute_reply": "2021-08-26T17:44:40.291229Z",
     "shell.execute_reply.started": "2021-08-26T06:33:10.576442Z"
    },
    "papermill": {
     "duration": 0.09509,
     "end_time": "2021-08-26T17:44:40.292139",
     "exception": false,
     "start_time": "2021-08-26T17:44:40.197049",
     "status": "completed"
    },
    "tags": []
   },
   "outputs": [],
   "source": [
    "data_1 = org_data.copy()"
   ]
  },
  {
   "cell_type": "code",
   "execution_count": 8,
   "id": "6098b8e9",
   "metadata": {
    "execution": {
     "iopub.execute_input": "2021-08-26T17:44:40.467299Z",
     "iopub.status.busy": "2021-08-26T17:44:40.466578Z",
     "iopub.status.idle": "2021-08-26T17:44:40.848589Z",
     "shell.execute_reply": "2021-08-26T17:44:40.847990Z",
     "shell.execute_reply.started": "2021-08-26T06:33:11.898358Z"
    },
    "papermill": {
     "duration": 0.471484,
     "end_time": "2021-08-26T17:44:40.848729",
     "exception": false,
     "start_time": "2021-08-26T17:44:40.377245",
     "status": "completed"
    },
    "tags": []
   },
   "outputs": [],
   "source": [
    "data_1 = data_1.replace(r'^\\s*$', np.nan, regex=True)"
   ]
  },
  {
   "cell_type": "code",
   "execution_count": 9,
   "id": "f304d58b",
   "metadata": {
    "execution": {
     "iopub.execute_input": "2021-08-26T17:44:41.054497Z",
     "iopub.status.busy": "2021-08-26T17:44:41.053543Z",
     "iopub.status.idle": "2021-08-26T17:44:41.058199Z",
     "shell.execute_reply": "2021-08-26T17:44:41.057689Z",
     "shell.execute_reply.started": "2021-08-26T06:33:14.071869Z"
    },
    "papermill": {
     "duration": 0.117289,
     "end_time": "2021-08-26T17:44:41.058343",
     "exception": false,
     "start_time": "2021-08-26T17:44:40.941054",
     "status": "completed"
    },
    "tags": []
   },
   "outputs": [
    {
     "data": {
      "text/html": [
       "<div>\n",
       "<style scoped>\n",
       "    .dataframe tbody tr th:only-of-type {\n",
       "        vertical-align: middle;\n",
       "    }\n",
       "\n",
       "    .dataframe tbody tr th {\n",
       "        vertical-align: top;\n",
       "    }\n",
       "\n",
       "    .dataframe thead th {\n",
       "        text-align: right;\n",
       "    }\n",
       "</style>\n",
       "<table border=\"1\" class=\"dataframe\">\n",
       "  <thead>\n",
       "    <tr style=\"text-align: right;\">\n",
       "      <th></th>\n",
       "      <th>Bathrooms</th>\n",
       "      <th>Bedrooms</th>\n",
       "      <th>Erf Size</th>\n",
       "      <th>Floor Size</th>\n",
       "      <th>Garages</th>\n",
       "      <th>Listing Date</th>\n",
       "      <th>Listing Number</th>\n",
       "      <th>Pet Friendly</th>\n",
       "      <th>Price</th>\n",
       "      <th>Type of Property</th>\n",
       "      <th>Garden</th>\n",
       "      <th>Pool</th>\n",
       "      <th>Secure Parking</th>\n",
       "      <th>Parking</th>\n",
       "      <th>No Pets Allowed</th>\n",
       "      <th>Furnished</th>\n",
       "      <th>Flatlet</th>\n",
       "      <th>Fibre Internet</th>\n",
       "      <th>Furnished (Optional)</th>\n",
       "      <th>ADSL Internet</th>\n",
       "      <th>Satellite Internet</th>\n",
       "      <th>Fixed WiMax Internet</th>\n",
       "      <th>Town</th>\n",
       "    </tr>\n",
       "  </thead>\n",
       "  <tbody>\n",
       "    <tr>\n",
       "      <th>0</th>\n",
       "      <td>3.0</td>\n",
       "      <td>3.0</td>\n",
       "      <td>304 m²</td>\n",
       "      <td>326 m²</td>\n",
       "      <td>2.0</td>\n",
       "      <td>10 July 2020</td>\n",
       "      <td>108859219</td>\n",
       "      <td>1.0</td>\n",
       "      <td>6480000.0</td>\n",
       "      <td>House</td>\n",
       "      <td>NaN</td>\n",
       "      <td>NaN</td>\n",
       "      <td>NaN</td>\n",
       "      <td>NaN</td>\n",
       "      <td>NaN</td>\n",
       "      <td>NaN</td>\n",
       "      <td>NaN</td>\n",
       "      <td>NaN</td>\n",
       "      <td>NaN</td>\n",
       "      <td>NaN</td>\n",
       "      <td>NaN</td>\n",
       "      <td>NaN</td>\n",
       "      <td>Tokai, Cape Town</td>\n",
       "    </tr>\n",
       "    <tr>\n",
       "      <th>1</th>\n",
       "      <td>3.0</td>\n",
       "      <td>3.0</td>\n",
       "      <td>NaN</td>\n",
       "      <td>140 m²</td>\n",
       "      <td>2.0</td>\n",
       "      <td>23 September 2020</td>\n",
       "      <td>109153971</td>\n",
       "      <td>1.0</td>\n",
       "      <td>6250000.0</td>\n",
       "      <td>Townhouse</td>\n",
       "      <td>NaN</td>\n",
       "      <td>NaN</td>\n",
       "      <td>NaN</td>\n",
       "      <td>NaN</td>\n",
       "      <td>NaN</td>\n",
       "      <td>NaN</td>\n",
       "      <td>NaN</td>\n",
       "      <td>NaN</td>\n",
       "      <td>NaN</td>\n",
       "      <td>NaN</td>\n",
       "      <td>NaN</td>\n",
       "      <td>NaN</td>\n",
       "      <td>14 Graham Road, Sea Point, Cape Town</td>\n",
       "    </tr>\n",
       "    <tr>\n",
       "      <th>2</th>\n",
       "      <td>3.5</td>\n",
       "      <td>4.0</td>\n",
       "      <td>659 m²</td>\n",
       "      <td>300 m²</td>\n",
       "      <td>2.0</td>\n",
       "      <td>23 September 2020</td>\n",
       "      <td>109154367</td>\n",
       "      <td>NaN</td>\n",
       "      <td>13950000.0</td>\n",
       "      <td>House</td>\n",
       "      <td>1.0</td>\n",
       "      <td>1.0</td>\n",
       "      <td>2.0</td>\n",
       "      <td>NaN</td>\n",
       "      <td>NaN</td>\n",
       "      <td>NaN</td>\n",
       "      <td>NaN</td>\n",
       "      <td>NaN</td>\n",
       "      <td>NaN</td>\n",
       "      <td>NaN</td>\n",
       "      <td>NaN</td>\n",
       "      <td>NaN</td>\n",
       "      <td>Camps Bay, Cape Town</td>\n",
       "    </tr>\n",
       "    <tr>\n",
       "      <th>3</th>\n",
       "      <td>1.0</td>\n",
       "      <td>2.0</td>\n",
       "      <td>NaN</td>\n",
       "      <td>NaN</td>\n",
       "      <td>NaN</td>\n",
       "      <td>23 September 2020</td>\n",
       "      <td>109154455</td>\n",
       "      <td>NaN</td>\n",
       "      <td>1050000.0</td>\n",
       "      <td>Apartment / Flat</td>\n",
       "      <td>NaN</td>\n",
       "      <td>NaN</td>\n",
       "      <td>NaN</td>\n",
       "      <td>1.0</td>\n",
       "      <td>NaN</td>\n",
       "      <td>NaN</td>\n",
       "      <td>NaN</td>\n",
       "      <td>NaN</td>\n",
       "      <td>NaN</td>\n",
       "      <td>NaN</td>\n",
       "      <td>NaN</td>\n",
       "      <td>NaN</td>\n",
       "      <td>Ottery, Cape Town</td>\n",
       "    </tr>\n",
       "    <tr>\n",
       "      <th>4</th>\n",
       "      <td>1.0</td>\n",
       "      <td>1.0</td>\n",
       "      <td>NaN</td>\n",
       "      <td>61 m²</td>\n",
       "      <td>NaN</td>\n",
       "      <td>23 July 2020</td>\n",
       "      <td>108907258</td>\n",
       "      <td>NaN</td>\n",
       "      <td>1265000.0</td>\n",
       "      <td>Apartment / Flat</td>\n",
       "      <td>NaN</td>\n",
       "      <td>NaN</td>\n",
       "      <td>1.0</td>\n",
       "      <td>NaN</td>\n",
       "      <td>NaN</td>\n",
       "      <td>NaN</td>\n",
       "      <td>NaN</td>\n",
       "      <td>NaN</td>\n",
       "      <td>NaN</td>\n",
       "      <td>NaN</td>\n",
       "      <td>NaN</td>\n",
       "      <td>NaN</td>\n",
       "      <td>Muizenberg, Cape Town</td>\n",
       "    </tr>\n",
       "  </tbody>\n",
       "</table>\n",
       "</div>"
      ],
      "text/plain": [
       "  Bathrooms Bedrooms Erf Size Floor Size Garages       Listing Date  \\\n",
       "0       3.0      3.0   304 m²     326 m²     2.0       10 July 2020   \n",
       "1       3.0      3.0      NaN     140 m²     2.0  23 September 2020   \n",
       "2       3.5      4.0   659 m²     300 m²     2.0  23 September 2020   \n",
       "3       1.0      2.0      NaN        NaN     NaN  23 September 2020   \n",
       "4       1.0      1.0      NaN      61 m²     NaN       23 July 2020   \n",
       "\n",
       "  Listing Number Pet Friendly       Price  Type of Property Garden Pool  \\\n",
       "0      108859219          1.0   6480000.0             House    NaN  NaN   \n",
       "1      109153971          1.0   6250000.0         Townhouse    NaN  NaN   \n",
       "2      109154367          NaN  13950000.0             House    1.0  1.0   \n",
       "3      109154455          NaN   1050000.0  Apartment / Flat    NaN  NaN   \n",
       "4      108907258          NaN   1265000.0  Apartment / Flat    NaN  NaN   \n",
       "\n",
       "  Secure Parking Parking No Pets Allowed Furnished Flatlet Fibre Internet  \\\n",
       "0            NaN     NaN             NaN       NaN     NaN            NaN   \n",
       "1            NaN     NaN             NaN       NaN     NaN            NaN   \n",
       "2            2.0     NaN             NaN       NaN     NaN            NaN   \n",
       "3            NaN     1.0             NaN       NaN     NaN            NaN   \n",
       "4            1.0     NaN             NaN       NaN     NaN            NaN   \n",
       "\n",
       "  Furnished (Optional) ADSL Internet Satellite Internet Fixed WiMax Internet  \\\n",
       "0                  NaN           NaN                NaN                  NaN   \n",
       "1                  NaN           NaN                NaN                  NaN   \n",
       "2                  NaN           NaN                NaN                  NaN   \n",
       "3                  NaN           NaN                NaN                  NaN   \n",
       "4                  NaN           NaN                NaN                  NaN   \n",
       "\n",
       "                                   Town  \n",
       "0                      Tokai, Cape Town  \n",
       "1  14 Graham Road, Sea Point, Cape Town  \n",
       "2                  Camps Bay, Cape Town  \n",
       "3                     Ottery, Cape Town  \n",
       "4                 Muizenberg, Cape Town  "
      ]
     },
     "execution_count": 9,
     "metadata": {},
     "output_type": "execute_result"
    }
   ],
   "source": [
    "data_1.head()"
   ]
  },
  {
   "cell_type": "code",
   "execution_count": 10,
   "id": "ca49fadd",
   "metadata": {
    "execution": {
     "iopub.execute_input": "2021-08-26T17:44:41.269052Z",
     "iopub.status.busy": "2021-08-26T17:44:41.268337Z",
     "iopub.status.idle": "2021-08-26T17:44:41.271916Z",
     "shell.execute_reply": "2021-08-26T17:44:41.271263Z",
     "shell.execute_reply.started": "2021-08-26T06:33:17.472684Z"
    },
    "papermill": {
     "duration": 0.129442,
     "end_time": "2021-08-26T17:44:41.272079",
     "exception": false,
     "start_time": "2021-08-26T17:44:41.142637",
     "status": "completed"
    },
    "tags": []
   },
   "outputs": [],
   "source": [
    "# Cast type of some columns\n",
    "data_1['Bathrooms'] = data_1['Bathrooms'].astype(float, errors='ignore')\n",
    "data_1['Bedrooms'] = data_1['Bedrooms'].astype(float)\n",
    "data_1['Garages'] = data_1['Garages'].astype(float)\n",
    "data_1['Listing Number'] = data_1['Listing Number'].astype(float)\n",
    "data_1['Pet Friendly'] = data_1['Pet Friendly'].astype(float)\n",
    "data_1['Parking'] = data_1['Parking'].astype(float)\n",
    "data_1['No Pets Allowed'] = data_1['No Pets Allowed'].astype(float)\n",
    "data_1['ADSL Internet'] = data_1['ADSL Internet'].astype(float)\n",
    "data_1['Satellite Internet'] = data_1['Satellite Internet'].astype(float)\n",
    "data_1['Fixed WiMax Internet'] = data_1['Fixed WiMax Internet'].astype(float)\n",
    "data_1['Garden'] = data_1['Garden'].astype(float)\n",
    "data_1['Pool'] = data_1['Pool'].astype(float)\n",
    "data_1['Secure Parking'] = data_1['Secure Parking'].astype(float)\n",
    "data_1['Price'] = data_1['Price'].astype(float)\n",
    "data_1['Flatlet'] = data_1['Flatlet'].astype(float)\n",
    "data_1['Fibre Internet'] = data_1['Fibre Internet'].astype(float)\n",
    "data_1['Furnished (Optional)'] = data_1['Furnished (Optional)'].astype(float)\n",
    "data_1['Furnished'] = data_1['Furnished'].astype(float)"
   ]
  },
  {
   "cell_type": "code",
   "execution_count": 11,
   "id": "d4acc9b8",
   "metadata": {
    "execution": {
     "iopub.execute_input": "2021-08-26T17:44:41.448010Z",
     "iopub.status.busy": "2021-08-26T17:44:41.447306Z",
     "iopub.status.idle": "2021-08-26T17:44:41.451571Z",
     "shell.execute_reply": "2021-08-26T17:44:41.450946Z",
     "shell.execute_reply.started": "2021-08-26T06:33:19.264648Z"
    },
    "papermill": {
     "duration": 0.095763,
     "end_time": "2021-08-26T17:44:41.451718",
     "exception": false,
     "start_time": "2021-08-26T17:44:41.355955",
     "status": "completed"
    },
    "tags": []
   },
   "outputs": [
    {
     "data": {
      "text/plain": [
       "Bathrooms               float64\n",
       "Bedrooms                float64\n",
       "Erf Size                 object\n",
       "Floor Size               object\n",
       "Garages                 float64\n",
       "Listing Date             object\n",
       "Listing Number          float64\n",
       "Pet Friendly            float64\n",
       "Price                   float64\n",
       "Type of Property         object\n",
       "Garden                  float64\n",
       "Pool                    float64\n",
       "Secure Parking          float64\n",
       "Parking                 float64\n",
       "No Pets Allowed         float64\n",
       "Furnished               float64\n",
       "Flatlet                 float64\n",
       "Fibre Internet          float64\n",
       "Furnished (Optional)    float64\n",
       "ADSL Internet           float64\n",
       "Satellite Internet      float64\n",
       "Fixed WiMax Internet    float64\n",
       "Town                     object\n",
       "dtype: object"
      ]
     },
     "execution_count": 11,
     "metadata": {},
     "output_type": "execute_result"
    }
   ],
   "source": [
    "data_1.dtypes"
   ]
  },
  {
   "cell_type": "markdown",
   "id": "19935176",
   "metadata": {
    "papermill": {
     "duration": 0.084949,
     "end_time": "2021-08-26T17:44:41.621262",
     "exception": false,
     "start_time": "2021-08-26T17:44:41.536313",
     "status": "completed"
    },
    "tags": []
   },
   "source": [
    "### Convert values in ha to m²"
   ]
  },
  {
   "cell_type": "code",
   "execution_count": 12,
   "id": "9b54c41c",
   "metadata": {
    "execution": {
     "iopub.execute_input": "2021-08-26T17:44:41.810052Z",
     "iopub.status.busy": "2021-08-26T17:44:41.809379Z",
     "iopub.status.idle": "2021-08-26T17:44:41.813713Z",
     "shell.execute_reply": "2021-08-26T17:44:41.814199Z",
     "shell.execute_reply.started": "2021-08-26T06:33:22.632887Z"
    },
    "papermill": {
     "duration": 0.096555,
     "end_time": "2021-08-26T17:44:41.814380",
     "exception": false,
     "start_time": "2021-08-26T17:44:41.717825",
     "status": "completed"
    },
    "tags": []
   },
   "outputs": [
    {
     "data": {
      "text/plain": [
       "0       304 m²\n",
       "1          NaN\n",
       "2       659 m²\n",
       "3          NaN\n",
       "4          NaN\n",
       "5       677 m²\n",
       "6          NaN\n",
       "7          NaN\n",
       "8          NaN\n",
       "9          NaN\n",
       "10         NaN\n",
       "11    2 842 m²\n",
       "12      645 m²\n",
       "13    1 085 m²\n",
       "14      252 m²\n",
       "15         NaN\n",
       "16      281 m²\n",
       "17      209 m²\n",
       "18         NaN\n",
       "19         NaN\n",
       "Name: Erf Size, dtype: object"
      ]
     },
     "execution_count": 12,
     "metadata": {},
     "output_type": "execute_result"
    }
   ],
   "source": [
    "data_1['Erf Size'].head(20)"
   ]
  },
  {
   "cell_type": "code",
   "execution_count": 13,
   "id": "776b6ba4",
   "metadata": {
    "execution": {
     "iopub.execute_input": "2021-08-26T17:44:41.991668Z",
     "iopub.status.busy": "2021-08-26T17:44:41.990874Z",
     "iopub.status.idle": "2021-08-26T17:44:41.994140Z",
     "shell.execute_reply": "2021-08-26T17:44:41.993563Z",
     "shell.execute_reply.started": "2021-08-26T06:33:25.752756Z"
    },
    "papermill": {
     "duration": 0.095022,
     "end_time": "2021-08-26T17:44:41.994293",
     "exception": false,
     "start_time": "2021-08-26T17:44:41.899271",
     "status": "completed"
    },
    "tags": []
   },
   "outputs": [],
   "source": [
    "def remove_unit(x):\n",
    "    \"\"\"Remove units ha or m² from string x\"\"\"\n",
    "    if x != '0':\n",
    "        x = x.replace(\" \", \"\")\n",
    "        x = x[:-2]\n",
    "    return x"
   ]
  },
  {
   "cell_type": "code",
   "execution_count": 14,
   "id": "8c982e96",
   "metadata": {
    "execution": {
     "iopub.execute_input": "2021-08-26T17:44:42.177938Z",
     "iopub.status.busy": "2021-08-26T17:44:42.177213Z",
     "iopub.status.idle": "2021-08-26T17:44:42.213434Z",
     "shell.execute_reply": "2021-08-26T17:44:42.212842Z",
     "shell.execute_reply.started": "2021-08-26T06:33:27.027886Z"
    },
    "papermill": {
     "duration": 0.13393,
     "end_time": "2021-08-26T17:44:42.213583",
     "exception": false,
     "start_time": "2021-08-26T17:44:42.079653",
     "status": "completed"
    },
    "tags": []
   },
   "outputs": [],
   "source": [
    "def convert_ha_to_m2(df, column):\n",
    "    \"\"\"Convert all values in ha in df[column] to m²\"\"\"\n",
    "    ha_index = list(df[df[column].str.contains(\"ha\", na=False)][column].index)\n",
    "    df[column] = df[column].fillna('0')\n",
    "    df[column] = df[column].apply(remove_unit)\n",
    "    return ha_index\n",
    "\n",
    "ha_index = convert_ha_to_m2(data_1, 'Erf Size')\n",
    "data_1['Erf Size'] = data_1['Erf Size'].astype(float)\n",
    "data_1.loc[ha_index, ['Erf Size']] = data_1.loc[ha_index, ['Erf Size']] * 10000"
   ]
  },
  {
   "cell_type": "code",
   "execution_count": 15,
   "id": "a9b02c43",
   "metadata": {
    "execution": {
     "iopub.execute_input": "2021-08-26T17:44:42.391042Z",
     "iopub.status.busy": "2021-08-26T17:44:42.390292Z",
     "iopub.status.idle": "2021-08-26T17:44:42.394297Z",
     "shell.execute_reply": "2021-08-26T17:44:42.393745Z",
     "shell.execute_reply.started": "2021-08-26T06:33:29.421934Z"
    },
    "papermill": {
     "duration": 0.096225,
     "end_time": "2021-08-26T17:44:42.394462",
     "exception": false,
     "start_time": "2021-08-26T17:44:42.298237",
     "status": "completed"
    },
    "tags": []
   },
   "outputs": [
    {
     "data": {
      "text/plain": [
       "0    304.0\n",
       "1      0.0\n",
       "2    659.0\n",
       "3      0.0\n",
       "4      0.0\n",
       "5    677.0\n",
       "6      0.0\n",
       "7      0.0\n",
       "8      0.0\n",
       "9      0.0\n",
       "Name: Erf Size, dtype: float64"
      ]
     },
     "execution_count": 15,
     "metadata": {},
     "output_type": "execute_result"
    }
   ],
   "source": [
    "data_1['Erf Size'].head(10)"
   ]
  },
  {
   "cell_type": "code",
   "execution_count": 16,
   "id": "5abd2247",
   "metadata": {
    "execution": {
     "iopub.execute_input": "2021-08-26T17:44:42.576524Z",
     "iopub.status.busy": "2021-08-26T17:44:42.575795Z",
     "iopub.status.idle": "2021-08-26T17:44:42.578472Z",
     "shell.execute_reply": "2021-08-26T17:44:42.578972Z",
     "shell.execute_reply.started": "2021-08-26T06:33:32.067537Z"
    },
    "papermill": {
     "duration": 0.099017,
     "end_time": "2021-08-26T17:44:42.579170",
     "exception": false,
     "start_time": "2021-08-26T17:44:42.480153",
     "status": "completed"
    },
    "tags": []
   },
   "outputs": [
    {
     "data": {
      "text/html": [
       "<div>\n",
       "<style scoped>\n",
       "    .dataframe tbody tr th:only-of-type {\n",
       "        vertical-align: middle;\n",
       "    }\n",
       "\n",
       "    .dataframe tbody tr th {\n",
       "        vertical-align: top;\n",
       "    }\n",
       "\n",
       "    .dataframe thead th {\n",
       "        text-align: right;\n",
       "    }\n",
       "</style>\n",
       "<table border=\"1\" class=\"dataframe\">\n",
       "  <thead>\n",
       "    <tr style=\"text-align: right;\">\n",
       "      <th></th>\n",
       "      <th>Erf Size</th>\n",
       "    </tr>\n",
       "  </thead>\n",
       "  <tbody>\n",
       "    <tr>\n",
       "      <th>2681</th>\n",
       "      <td>720000.0</td>\n",
       "    </tr>\n",
       "    <tr>\n",
       "      <th>3179</th>\n",
       "      <td>4950000.0</td>\n",
       "    </tr>\n",
       "    <tr>\n",
       "      <th>4276</th>\n",
       "      <td>94900000.0</td>\n",
       "    </tr>\n",
       "    <tr>\n",
       "      <th>4503</th>\n",
       "      <td>840000.0</td>\n",
       "    </tr>\n",
       "    <tr>\n",
       "      <th>5869</th>\n",
       "      <td>3010000.0</td>\n",
       "    </tr>\n",
       "    <tr>\n",
       "      <th>7742</th>\n",
       "      <td>4040000.0</td>\n",
       "    </tr>\n",
       "  </tbody>\n",
       "</table>\n",
       "</div>"
      ],
      "text/plain": [
       "        Erf Size\n",
       "2681    720000.0\n",
       "3179   4950000.0\n",
       "4276  94900000.0\n",
       "4503    840000.0\n",
       "5869   3010000.0\n",
       "7742   4040000.0"
      ]
     },
     "execution_count": 16,
     "metadata": {},
     "output_type": "execute_result"
    }
   ],
   "source": [
    "data_1.loc[ha_index, ['Erf Size']]"
   ]
  },
  {
   "cell_type": "code",
   "execution_count": 17,
   "id": "ddaa5e3a",
   "metadata": {
    "execution": {
     "iopub.execute_input": "2021-08-26T17:44:42.775494Z",
     "iopub.status.busy": "2021-08-26T17:44:42.774757Z",
     "iopub.status.idle": "2021-08-26T17:44:42.782780Z",
     "shell.execute_reply": "2021-08-26T17:44:42.782238Z",
     "shell.execute_reply.started": "2021-08-26T06:33:34.542262Z"
    },
    "papermill": {
     "duration": 0.118461,
     "end_time": "2021-08-26T17:44:42.782952",
     "exception": false,
     "start_time": "2021-08-26T17:44:42.664491",
     "status": "completed"
    },
    "tags": []
   },
   "outputs": [],
   "source": [
    "ha_index_2 = convert_ha_to_m2(data_1, 'Floor Size')\n",
    "data_1['Floor Size'] = data_1['Floor Size'].astype(float)\n",
    "data_1.loc[ha_index_2, ['Floor Size']] = data_1.loc[ha_index_2, ['Floor Size']] * 10000"
   ]
  },
  {
   "cell_type": "code",
   "execution_count": 18,
   "id": "aab3c98a",
   "metadata": {
    "execution": {
     "iopub.execute_input": "2021-08-26T17:44:42.960207Z",
     "iopub.status.busy": "2021-08-26T17:44:42.959216Z",
     "iopub.status.idle": "2021-08-26T17:44:42.963366Z",
     "shell.execute_reply": "2021-08-26T17:44:42.963880Z",
     "shell.execute_reply.started": "2021-08-26T06:33:36.193774Z"
    },
    "papermill": {
     "duration": 0.095477,
     "end_time": "2021-08-26T17:44:42.964082",
     "exception": false,
     "start_time": "2021-08-26T17:44:42.868605",
     "status": "completed"
    },
    "tags": []
   },
   "outputs": [],
   "source": [
    "data_1['Erf Size'].replace(0., np.nan, inplace=True)\n",
    "data_1['Floor Size'].replace(0., np.nan, inplace=True)"
   ]
  },
  {
   "cell_type": "markdown",
   "id": "d65febbd",
   "metadata": {
    "papermill": {
     "duration": 0.085159,
     "end_time": "2021-08-26T17:44:43.135763",
     "exception": false,
     "start_time": "2021-08-26T17:44:43.050604",
     "status": "completed"
    },
    "tags": []
   },
   "source": [
    "### Parsing date "
   ]
  },
  {
   "cell_type": "code",
   "execution_count": 19,
   "id": "b0698425",
   "metadata": {
    "execution": {
     "iopub.execute_input": "2021-08-26T17:44:43.315186Z",
     "iopub.status.busy": "2021-08-26T17:44:43.314487Z",
     "iopub.status.idle": "2021-08-26T17:44:43.329795Z",
     "shell.execute_reply": "2021-08-26T17:44:43.330345Z",
     "shell.execute_reply.started": "2021-08-26T06:33:40.907007Z"
    },
    "papermill": {
     "duration": 0.109271,
     "end_time": "2021-08-26T17:44:43.330516",
     "exception": false,
     "start_time": "2021-08-26T17:44:43.221245",
     "status": "completed"
    },
    "tags": []
   },
   "outputs": [],
   "source": [
    "data_1['Listing Date'] = pd.to_datetime(data_1['Listing Date'], infer_datetime_format=True)"
   ]
  },
  {
   "cell_type": "code",
   "execution_count": 20,
   "id": "dfcc4353",
   "metadata": {
    "execution": {
     "iopub.execute_input": "2021-08-26T17:44:43.509191Z",
     "iopub.status.busy": "2021-08-26T17:44:43.507372Z",
     "iopub.status.idle": "2021-08-26T17:44:43.592940Z",
     "shell.execute_reply": "2021-08-26T17:44:43.592375Z",
     "shell.execute_reply.started": "2021-08-26T06:33:48.971613Z"
    },
    "papermill": {
     "duration": 0.177372,
     "end_time": "2021-08-26T17:44:43.593099",
     "exception": false,
     "start_time": "2021-08-26T17:44:43.415727",
     "status": "completed"
    },
    "tags": []
   },
   "outputs": [
    {
     "data": {
      "text/html": [
       "<div>\n",
       "<style scoped>\n",
       "    .dataframe tbody tr th:only-of-type {\n",
       "        vertical-align: middle;\n",
       "    }\n",
       "\n",
       "    .dataframe tbody tr th {\n",
       "        vertical-align: top;\n",
       "    }\n",
       "\n",
       "    .dataframe thead th {\n",
       "        text-align: right;\n",
       "    }\n",
       "</style>\n",
       "<table border=\"1\" class=\"dataframe\">\n",
       "  <thead>\n",
       "    <tr style=\"text-align: right;\">\n",
       "      <th></th>\n",
       "      <th>Bathrooms</th>\n",
       "      <th>Bedrooms</th>\n",
       "      <th>Erf Size</th>\n",
       "      <th>Floor Size</th>\n",
       "      <th>Garages</th>\n",
       "      <th>Listing Number</th>\n",
       "      <th>Pet Friendly</th>\n",
       "      <th>Price</th>\n",
       "      <th>Garden</th>\n",
       "      <th>Pool</th>\n",
       "      <th>Secure Parking</th>\n",
       "      <th>Parking</th>\n",
       "      <th>No Pets Allowed</th>\n",
       "      <th>Furnished</th>\n",
       "      <th>Flatlet</th>\n",
       "      <th>Fibre Internet</th>\n",
       "      <th>Furnished (Optional)</th>\n",
       "      <th>ADSL Internet</th>\n",
       "      <th>Satellite Internet</th>\n",
       "      <th>Fixed WiMax Internet</th>\n",
       "    </tr>\n",
       "  </thead>\n",
       "  <tbody>\n",
       "    <tr>\n",
       "      <th>count</th>\n",
       "      <td>7812.000000</td>\n",
       "      <td>7661.000000</td>\n",
       "      <td>3.635000e+03</td>\n",
       "      <td>5869.000000</td>\n",
       "      <td>3732.000000</td>\n",
       "      <td>7.901000e+03</td>\n",
       "      <td>2026.0</td>\n",
       "      <td>7.846000e+03</td>\n",
       "      <td>2030.0</td>\n",
       "      <td>2738.0</td>\n",
       "      <td>666.000000</td>\n",
       "      <td>3423.000000</td>\n",
       "      <td>1319.0</td>\n",
       "      <td>299.0</td>\n",
       "      <td>414.0</td>\n",
       "      <td>795.0</td>\n",
       "      <td>22.0</td>\n",
       "      <td>40.0</td>\n",
       "      <td>12.0</td>\n",
       "      <td>1.0</td>\n",
       "    </tr>\n",
       "    <tr>\n",
       "      <th>mean</th>\n",
       "      <td>2.059908</td>\n",
       "      <td>2.615651</td>\n",
       "      <td>3.072695e+04</td>\n",
       "      <td>144.080763</td>\n",
       "      <td>1.641881</td>\n",
       "      <td>1.084730e+08</td>\n",
       "      <td>1.0</td>\n",
       "      <td>5.658831e+06</td>\n",
       "      <td>1.0</td>\n",
       "      <td>1.0</td>\n",
       "      <td>2.018018</td>\n",
       "      <td>1.887526</td>\n",
       "      <td>1.0</td>\n",
       "      <td>1.0</td>\n",
       "      <td>1.0</td>\n",
       "      <td>1.0</td>\n",
       "      <td>1.0</td>\n",
       "      <td>1.0</td>\n",
       "      <td>1.0</td>\n",
       "      <td>1.0</td>\n",
       "    </tr>\n",
       "    <tr>\n",
       "      <th>std</th>\n",
       "      <td>1.452088</td>\n",
       "      <td>1.629366</td>\n",
       "      <td>1.578416e+06</td>\n",
       "      <td>168.396558</td>\n",
       "      <td>0.921994</td>\n",
       "      <td>7.972524e+05</td>\n",
       "      <td>0.0</td>\n",
       "      <td>8.081759e+06</td>\n",
       "      <td>0.0</td>\n",
       "      <td>0.0</td>\n",
       "      <td>1.620259</td>\n",
       "      <td>1.749317</td>\n",
       "      <td>0.0</td>\n",
       "      <td>0.0</td>\n",
       "      <td>0.0</td>\n",
       "      <td>0.0</td>\n",
       "      <td>0.0</td>\n",
       "      <td>0.0</td>\n",
       "      <td>0.0</td>\n",
       "      <td>NaN</td>\n",
       "    </tr>\n",
       "    <tr>\n",
       "      <th>min</th>\n",
       "      <td>0.500000</td>\n",
       "      <td>0.500000</td>\n",
       "      <td>5.000000e+00</td>\n",
       "      <td>17.000000</td>\n",
       "      <td>1.000000</td>\n",
       "      <td>1.003926e+08</td>\n",
       "      <td>1.0</td>\n",
       "      <td>1.990000e+05</td>\n",
       "      <td>1.0</td>\n",
       "      <td>1.0</td>\n",
       "      <td>1.000000</td>\n",
       "      <td>1.000000</td>\n",
       "      <td>1.0</td>\n",
       "      <td>1.0</td>\n",
       "      <td>1.0</td>\n",
       "      <td>1.0</td>\n",
       "      <td>1.0</td>\n",
       "      <td>1.0</td>\n",
       "      <td>1.0</td>\n",
       "      <td>1.0</td>\n",
       "    </tr>\n",
       "    <tr>\n",
       "      <th>25%</th>\n",
       "      <td>1.000000</td>\n",
       "      <td>2.000000</td>\n",
       "      <td>1.665000e+02</td>\n",
       "      <td>61.000000</td>\n",
       "      <td>1.000000</td>\n",
       "      <td>1.082583e+08</td>\n",
       "      <td>1.0</td>\n",
       "      <td>1.850000e+06</td>\n",
       "      <td>1.0</td>\n",
       "      <td>1.0</td>\n",
       "      <td>1.000000</td>\n",
       "      <td>1.000000</td>\n",
       "      <td>1.0</td>\n",
       "      <td>1.0</td>\n",
       "      <td>1.0</td>\n",
       "      <td>1.0</td>\n",
       "      <td>1.0</td>\n",
       "      <td>1.0</td>\n",
       "      <td>1.0</td>\n",
       "      <td>1.0</td>\n",
       "    </tr>\n",
       "    <tr>\n",
       "      <th>50%</th>\n",
       "      <td>2.000000</td>\n",
       "      <td>2.000000</td>\n",
       "      <td>4.250000e+02</td>\n",
       "      <td>90.000000</td>\n",
       "      <td>1.000000</td>\n",
       "      <td>1.087737e+08</td>\n",
       "      <td>1.0</td>\n",
       "      <td>2.995000e+06</td>\n",
       "      <td>1.0</td>\n",
       "      <td>1.0</td>\n",
       "      <td>2.000000</td>\n",
       "      <td>1.000000</td>\n",
       "      <td>1.0</td>\n",
       "      <td>1.0</td>\n",
       "      <td>1.0</td>\n",
       "      <td>1.0</td>\n",
       "      <td>1.0</td>\n",
       "      <td>1.0</td>\n",
       "      <td>1.0</td>\n",
       "      <td>1.0</td>\n",
       "    </tr>\n",
       "    <tr>\n",
       "      <th>75%</th>\n",
       "      <td>2.500000</td>\n",
       "      <td>3.000000</td>\n",
       "      <td>7.900000e+02</td>\n",
       "      <td>162.000000</td>\n",
       "      <td>2.000000</td>\n",
       "      <td>1.089901e+08</td>\n",
       "      <td>1.0</td>\n",
       "      <td>5.990000e+06</td>\n",
       "      <td>1.0</td>\n",
       "      <td>1.0</td>\n",
       "      <td>2.000000</td>\n",
       "      <td>2.000000</td>\n",
       "      <td>1.0</td>\n",
       "      <td>1.0</td>\n",
       "      <td>1.0</td>\n",
       "      <td>1.0</td>\n",
       "      <td>1.0</td>\n",
       "      <td>1.0</td>\n",
       "      <td>1.0</td>\n",
       "      <td>1.0</td>\n",
       "    </tr>\n",
       "    <tr>\n",
       "      <th>max</th>\n",
       "      <td>30.000000</td>\n",
       "      <td>33.000000</td>\n",
       "      <td>9.490000e+07</td>\n",
       "      <td>4029.000000</td>\n",
       "      <td>20.000000</td>\n",
       "      <td>1.091545e+08</td>\n",
       "      <td>1.0</td>\n",
       "      <td>1.725000e+08</td>\n",
       "      <td>1.0</td>\n",
       "      <td>1.0</td>\n",
       "      <td>15.000000</td>\n",
       "      <td>50.000000</td>\n",
       "      <td>1.0</td>\n",
       "      <td>1.0</td>\n",
       "      <td>1.0</td>\n",
       "      <td>1.0</td>\n",
       "      <td>1.0</td>\n",
       "      <td>1.0</td>\n",
       "      <td>1.0</td>\n",
       "      <td>1.0</td>\n",
       "    </tr>\n",
       "  </tbody>\n",
       "</table>\n",
       "</div>"
      ],
      "text/plain": [
       "         Bathrooms     Bedrooms      Erf Size   Floor Size      Garages  \\\n",
       "count  7812.000000  7661.000000  3.635000e+03  5869.000000  3732.000000   \n",
       "mean      2.059908     2.615651  3.072695e+04   144.080763     1.641881   \n",
       "std       1.452088     1.629366  1.578416e+06   168.396558     0.921994   \n",
       "min       0.500000     0.500000  5.000000e+00    17.000000     1.000000   \n",
       "25%       1.000000     2.000000  1.665000e+02    61.000000     1.000000   \n",
       "50%       2.000000     2.000000  4.250000e+02    90.000000     1.000000   \n",
       "75%       2.500000     3.000000  7.900000e+02   162.000000     2.000000   \n",
       "max      30.000000    33.000000  9.490000e+07  4029.000000    20.000000   \n",
       "\n",
       "       Listing Number  Pet Friendly         Price  Garden    Pool  \\\n",
       "count    7.901000e+03        2026.0  7.846000e+03  2030.0  2738.0   \n",
       "mean     1.084730e+08           1.0  5.658831e+06     1.0     1.0   \n",
       "std      7.972524e+05           0.0  8.081759e+06     0.0     0.0   \n",
       "min      1.003926e+08           1.0  1.990000e+05     1.0     1.0   \n",
       "25%      1.082583e+08           1.0  1.850000e+06     1.0     1.0   \n",
       "50%      1.087737e+08           1.0  2.995000e+06     1.0     1.0   \n",
       "75%      1.089901e+08           1.0  5.990000e+06     1.0     1.0   \n",
       "max      1.091545e+08           1.0  1.725000e+08     1.0     1.0   \n",
       "\n",
       "       Secure Parking      Parking  No Pets Allowed  Furnished  Flatlet  \\\n",
       "count      666.000000  3423.000000           1319.0      299.0    414.0   \n",
       "mean         2.018018     1.887526              1.0        1.0      1.0   \n",
       "std          1.620259     1.749317              0.0        0.0      0.0   \n",
       "min          1.000000     1.000000              1.0        1.0      1.0   \n",
       "25%          1.000000     1.000000              1.0        1.0      1.0   \n",
       "50%          2.000000     1.000000              1.0        1.0      1.0   \n",
       "75%          2.000000     2.000000              1.0        1.0      1.0   \n",
       "max         15.000000    50.000000              1.0        1.0      1.0   \n",
       "\n",
       "       Fibre Internet  Furnished (Optional)  ADSL Internet  \\\n",
       "count           795.0                  22.0           40.0   \n",
       "mean              1.0                   1.0            1.0   \n",
       "std               0.0                   0.0            0.0   \n",
       "min               1.0                   1.0            1.0   \n",
       "25%               1.0                   1.0            1.0   \n",
       "50%               1.0                   1.0            1.0   \n",
       "75%               1.0                   1.0            1.0   \n",
       "max               1.0                   1.0            1.0   \n",
       "\n",
       "       Satellite Internet  Fixed WiMax Internet  \n",
       "count                12.0                   1.0  \n",
       "mean                  1.0                   1.0  \n",
       "std                   0.0                   NaN  \n",
       "min                   1.0                   1.0  \n",
       "25%                   1.0                   1.0  \n",
       "50%                   1.0                   1.0  \n",
       "75%                   1.0                   1.0  \n",
       "max                   1.0                   1.0  "
      ]
     },
     "execution_count": 20,
     "metadata": {},
     "output_type": "execute_result"
    }
   ],
   "source": [
    "#Statistical summary\n",
    "data_1.describe()"
   ]
  },
  {
   "cell_type": "markdown",
   "id": "f84db058",
   "metadata": {
    "papermill": {
     "duration": 0.089132,
     "end_time": "2021-08-26T17:44:43.769998",
     "exception": false,
     "start_time": "2021-08-26T17:44:43.680866",
     "status": "completed"
    },
    "tags": []
   },
   "source": [
    "On a une première idée ici des données.\n",
    "* On peut voir que beaucoup de colonnes ont des données manquantes\n",
    "* On remarque aussi que les colonnes suivantes ont un grand écart entre le 75è quartile et la valeur maximale:\n",
    "    * Bathrooms, Bedrooms, Erf Size, Floor Size, Garage, Price, Secure Parking, Parking"
   ]
  },
  {
   "cell_type": "code",
   "execution_count": 21,
   "id": "15ba76a5",
   "metadata": {
    "execution": {
     "iopub.execute_input": "2021-08-26T17:44:43.949284Z",
     "iopub.status.busy": "2021-08-26T17:44:43.948555Z",
     "iopub.status.idle": "2021-08-26T17:44:43.976657Z",
     "shell.execute_reply": "2021-08-26T17:44:43.976082Z",
     "shell.execute_reply.started": "2021-08-26T06:37:07.775422Z"
    },
    "papermill": {
     "duration": 0.119376,
     "end_time": "2021-08-26T17:44:43.976812",
     "exception": false,
     "start_time": "2021-08-26T17:44:43.857436",
     "status": "completed"
    },
    "tags": []
   },
   "outputs": [
    {
     "name": "stdout",
     "output_type": "stream",
     "text": [
      "                      Bathrooms  Bedrooms  Erf Size  Floor Size   Garages  \\\n",
      "Bathrooms              1.000000  0.801156  0.032456    0.693075  0.518036   \n",
      "Bedrooms               0.801156  1.000000  0.024708    0.650964  0.447563   \n",
      "Erf Size               0.032456  0.024708  1.000000    0.254525  0.125320   \n",
      "Floor Size             0.693075  0.650964  0.254525    1.000000  0.581723   \n",
      "Garages                0.518036  0.447563  0.125320    0.581723  1.000000   \n",
      "Listing Number        -0.141370 -0.073896  0.006688   -0.135424 -0.103038   \n",
      "Pet Friendly                NaN       NaN       NaN         NaN       NaN   \n",
      "Price                  0.596821  0.437259 -0.007885    0.678998  0.442069   \n",
      "Garden                      NaN       NaN       NaN         NaN       NaN   \n",
      "Pool                        NaN       NaN       NaN         NaN       NaN   \n",
      "Secure Parking         0.541859  0.590233  0.222675    0.550429  0.468450   \n",
      "Parking                0.422612  0.516976 -0.006044    0.550475  0.359716   \n",
      "No Pets Allowed             NaN       NaN       NaN         NaN       NaN   \n",
      "Furnished                   NaN       NaN       NaN         NaN       NaN   \n",
      "Flatlet                     NaN       NaN       NaN         NaN       NaN   \n",
      "Fibre Internet              NaN       NaN       NaN         NaN       NaN   \n",
      "Furnished (Optional)        NaN       NaN       NaN         NaN       NaN   \n",
      "ADSL Internet               NaN       NaN       NaN         NaN       NaN   \n",
      "Satellite Internet          NaN       NaN       NaN         NaN       NaN   \n",
      "Fixed WiMax Internet        NaN       NaN       NaN         NaN       NaN   \n",
      "\n",
      "                      Listing Number  Pet Friendly     Price  Garden  Pool  \\\n",
      "Bathrooms                  -0.141370           NaN  0.596821     NaN   NaN   \n",
      "Bedrooms                   -0.073896           NaN  0.437259     NaN   NaN   \n",
      "Erf Size                    0.006688           NaN -0.007885     NaN   NaN   \n",
      "Floor Size                 -0.135424           NaN  0.678998     NaN   NaN   \n",
      "Garages                    -0.103038           NaN  0.442069     NaN   NaN   \n",
      "Listing Number              1.000000           NaN -0.204770     NaN   NaN   \n",
      "Pet Friendly                     NaN           NaN       NaN     NaN   NaN   \n",
      "Price                      -0.204770           NaN  1.000000     NaN   NaN   \n",
      "Garden                           NaN           NaN       NaN     NaN   NaN   \n",
      "Pool                             NaN           NaN       NaN     NaN   NaN   \n",
      "Secure Parking              0.038205           NaN  0.371979     NaN   NaN   \n",
      "Parking                    -0.036264           NaN  0.268624     NaN   NaN   \n",
      "No Pets Allowed                  NaN           NaN       NaN     NaN   NaN   \n",
      "Furnished                        NaN           NaN       NaN     NaN   NaN   \n",
      "Flatlet                          NaN           NaN       NaN     NaN   NaN   \n",
      "Fibre Internet                   NaN           NaN       NaN     NaN   NaN   \n",
      "Furnished (Optional)             NaN           NaN       NaN     NaN   NaN   \n",
      "ADSL Internet                    NaN           NaN       NaN     NaN   NaN   \n",
      "Satellite Internet               NaN           NaN       NaN     NaN   NaN   \n",
      "Fixed WiMax Internet             NaN           NaN       NaN     NaN   NaN   \n",
      "\n",
      "                      Secure Parking   Parking  No Pets Allowed  Furnished  \\\n",
      "Bathrooms                   0.541859  0.422612              NaN        NaN   \n",
      "Bedrooms                    0.590233  0.516976              NaN        NaN   \n",
      "Erf Size                    0.222675 -0.006044              NaN        NaN   \n",
      "Floor Size                  0.550429  0.550475              NaN        NaN   \n",
      "Garages                     0.468450  0.359716              NaN        NaN   \n",
      "Listing Number              0.038205 -0.036264              NaN        NaN   \n",
      "Pet Friendly                     NaN       NaN              NaN        NaN   \n",
      "Price                       0.371979  0.268624              NaN        NaN   \n",
      "Garden                           NaN       NaN              NaN        NaN   \n",
      "Pool                             NaN       NaN              NaN        NaN   \n",
      "Secure Parking              1.000000 -0.296078              NaN        NaN   \n",
      "Parking                    -0.296078  1.000000              NaN        NaN   \n",
      "No Pets Allowed                  NaN       NaN              NaN        NaN   \n",
      "Furnished                        NaN       NaN              NaN        NaN   \n",
      "Flatlet                          NaN       NaN              NaN        NaN   \n",
      "Fibre Internet                   NaN       NaN              NaN        NaN   \n",
      "Furnished (Optional)             NaN       NaN              NaN        NaN   \n",
      "ADSL Internet                    NaN       NaN              NaN        NaN   \n",
      "Satellite Internet               NaN       NaN              NaN        NaN   \n",
      "Fixed WiMax Internet             NaN       NaN              NaN        NaN   \n",
      "\n",
      "                      Flatlet  Fibre Internet  Furnished (Optional)  \\\n",
      "Bathrooms                 NaN             NaN                   NaN   \n",
      "Bedrooms                  NaN             NaN                   NaN   \n",
      "Erf Size                  NaN             NaN                   NaN   \n",
      "Floor Size                NaN             NaN                   NaN   \n",
      "Garages                   NaN             NaN                   NaN   \n",
      "Listing Number            NaN             NaN                   NaN   \n",
      "Pet Friendly              NaN             NaN                   NaN   \n",
      "Price                     NaN             NaN                   NaN   \n",
      "Garden                    NaN             NaN                   NaN   \n",
      "Pool                      NaN             NaN                   NaN   \n",
      "Secure Parking            NaN             NaN                   NaN   \n",
      "Parking                   NaN             NaN                   NaN   \n",
      "No Pets Allowed           NaN             NaN                   NaN   \n",
      "Furnished                 NaN             NaN                   NaN   \n",
      "Flatlet                   NaN             NaN                   NaN   \n",
      "Fibre Internet            NaN             NaN                   NaN   \n",
      "Furnished (Optional)      NaN             NaN                   NaN   \n",
      "ADSL Internet             NaN             NaN                   NaN   \n",
      "Satellite Internet        NaN             NaN                   NaN   \n",
      "Fixed WiMax Internet      NaN             NaN                   NaN   \n",
      "\n",
      "                      ADSL Internet  Satellite Internet  Fixed WiMax Internet  \n",
      "Bathrooms                       NaN                 NaN                   NaN  \n",
      "Bedrooms                        NaN                 NaN                   NaN  \n",
      "Erf Size                        NaN                 NaN                   NaN  \n",
      "Floor Size                      NaN                 NaN                   NaN  \n",
      "Garages                         NaN                 NaN                   NaN  \n",
      "Listing Number                  NaN                 NaN                   NaN  \n",
      "Pet Friendly                    NaN                 NaN                   NaN  \n",
      "Price                           NaN                 NaN                   NaN  \n",
      "Garden                          NaN                 NaN                   NaN  \n",
      "Pool                            NaN                 NaN                   NaN  \n",
      "Secure Parking                  NaN                 NaN                   NaN  \n",
      "Parking                         NaN                 NaN                   NaN  \n",
      "No Pets Allowed                 NaN                 NaN                   NaN  \n",
      "Furnished                       NaN                 NaN                   NaN  \n",
      "Flatlet                         NaN                 NaN                   NaN  \n",
      "Fibre Internet                  NaN                 NaN                   NaN  \n",
      "Furnished (Optional)            NaN                 NaN                   NaN  \n",
      "ADSL Internet                   NaN                 NaN                   NaN  \n",
      "Satellite Internet              NaN                 NaN                   NaN  \n",
      "Fixed WiMax Internet            NaN                 NaN                   NaN  \n"
     ]
    }
   ],
   "source": [
    "# Pairwise Pearson Correlations\n",
    "print(data_1.corr(method='pearson'))"
   ]
  },
  {
   "cell_type": "markdown",
   "id": "4a9a81fe",
   "metadata": {
    "papermill": {
     "duration": 0.087667,
     "end_time": "2021-08-26T17:44:44.151981",
     "exception": false,
     "start_time": "2021-08-26T17:44:44.064314",
     "status": "completed"
    },
    "tags": []
   },
   "source": [
    "* On remarque ici qu'il y a une très forte corrélation entre certaines colonnes \n",
    "    * Bathrooms et Bedrooms corr > 0.8\n",
    "    * Bathrooms et Floor Size corr > 0.69\n",
    "    * Bedrooms et Floor Size corr > 0.65\n",
    "    * Price et Floor Size corr > 0.67\n"
   ]
  },
  {
   "cell_type": "code",
   "execution_count": 22,
   "id": "8a961dae",
   "metadata": {
    "execution": {
     "iopub.execute_input": "2021-08-26T17:44:44.385337Z",
     "iopub.status.busy": "2021-08-26T17:44:44.384625Z",
     "iopub.status.idle": "2021-08-26T17:44:44.399595Z",
     "shell.execute_reply": "2021-08-26T17:44:44.398956Z",
     "shell.execute_reply.started": "2021-08-26T06:41:03.092899Z"
    },
    "papermill": {
     "duration": 0.106781,
     "end_time": "2021-08-26T17:44:44.399768",
     "exception": false,
     "start_time": "2021-08-26T17:44:44.292987",
     "status": "completed"
    },
    "tags": []
   },
   "outputs": [
    {
     "name": "stdout",
     "output_type": "stream",
     "text": [
      "Bathrooms                3.822694\n",
      "Bedrooms                 3.274795\n",
      "Erf Size                59.796236\n",
      "Floor Size               7.135220\n",
      "Garages                  4.501643\n",
      "Listing Number          -2.614363\n",
      "Pet Friendly             0.000000\n",
      "Price                    5.712808\n",
      "Garden                   0.000000\n",
      "Pool                     0.000000\n",
      "Secure Parking           3.115331\n",
      "Parking                  9.027897\n",
      "No Pets Allowed          0.000000\n",
      "Furnished                0.000000\n",
      "Flatlet                  0.000000\n",
      "Fibre Internet           0.000000\n",
      "Furnished (Optional)     0.000000\n",
      "ADSL Internet            0.000000\n",
      "Satellite Internet       0.000000\n",
      "Fixed WiMax Internet          NaN\n",
      "dtype: float64\n"
     ]
    }
   ],
   "source": [
    "# Skew for each feature\n",
    "print(data_1.skew())"
   ]
  },
  {
   "cell_type": "markdown",
   "id": "3befe062",
   "metadata": {
    "papermill": {
     "duration": 0.087427,
     "end_time": "2021-08-26T17:44:44.575303",
     "exception": false,
     "start_time": "2021-08-26T17:44:44.487876",
     "status": "completed"
    },
    "tags": []
   },
   "source": [
    "La colonne Erf Size semble être très inclinée"
   ]
  },
  {
   "cell_type": "markdown",
   "id": "d0fc0b0b",
   "metadata": {
    "papermill": {
     "duration": 0.087917,
     "end_time": "2021-08-26T17:44:44.751503",
     "exception": false,
     "start_time": "2021-08-26T17:44:44.663586",
     "status": "completed"
    },
    "tags": []
   },
   "source": [
    "## Data visualization"
   ]
  },
  {
   "cell_type": "markdown",
   "id": "ba8c0310",
   "metadata": {
    "papermill": {
     "duration": 0.08763,
     "end_time": "2021-08-26T17:44:44.927326",
     "exception": false,
     "start_time": "2021-08-26T17:44:44.839696",
     "status": "completed"
    },
    "tags": []
   },
   "source": [
    "Dans cette deuxième partie de la \"Data Summary\", on visualise les données pour avoir un meilleur aperçu des relations entre les caractéristiques et des particularité des données\n",
    "* histogrammes\n",
    "* boxplots\n",
    "* tableau de corrélation\n",
    "* scatterplots"
   ]
  },
  {
   "cell_type": "code",
   "execution_count": 23,
   "id": "d2b75bb9",
   "metadata": {
    "execution": {
     "iopub.execute_input": "2021-08-26T17:44:45.108792Z",
     "iopub.status.busy": "2021-08-26T17:44:45.108133Z",
     "iopub.status.idle": "2021-08-26T17:44:48.552574Z",
     "shell.execute_reply": "2021-08-26T17:44:48.553095Z",
     "shell.execute_reply.started": "2021-08-26T06:42:49.069306Z"
    },
    "papermill": {
     "duration": 3.537736,
     "end_time": "2021-08-26T17:44:48.553273",
     "exception": false,
     "start_time": "2021-08-26T17:44:45.015537",
     "status": "completed"
    },
    "tags": []
   },
   "outputs": [
    {
     "data": {
      "image/png": "[encoded data removed]",
      "text/plain": [
       "<Figure size 1296x1440 with 25 Axes>"
      ]
     },
     "metadata": {
      "needs_background": "light"
     },
     "output_type": "display_data"
    }
   ],
   "source": [
    "# Histograms\n",
    "data_1.hist(figsize=(18,20))\n",
    "plt.show()"
   ]
  },
  {
   "cell_type": "code",
   "execution_count": 24,
   "id": "b581a01f",
   "metadata": {
    "execution": {
     "iopub.execute_input": "2021-08-26T17:44:48.745251Z",
     "iopub.status.busy": "2021-08-26T17:44:48.744532Z",
     "iopub.status.idle": "2021-08-26T17:44:50.992255Z",
     "shell.execute_reply": "2021-08-26T17:44:50.992747Z",
     "shell.execute_reply.started": "2021-08-26T06:43:00.099601Z"
    },
    "papermill": {
     "duration": 2.347315,
     "end_time": "2021-08-26T17:44:50.992964",
     "exception": false,
     "start_time": "2021-08-26T17:44:48.645649",
     "status": "completed"
    },
    "tags": []
   },
   "outputs": [
    {
     "data": {
      "image/png": "[encoded data removed]",
      "text/plain": [
       "<Figure size 1296x1440 with 24 Axes>"
      ]
     },
     "metadata": {
      "needs_background": "light"
     },
     "output_type": "display_data"
    }
   ],
   "source": [
    "# Box plots\n",
    "data_1.plot(kind='box', subplots=True, sharex=False, sharey=False, figsize=(18,20), layout=(6,4))\n",
    "plt.show()"
   ]
  },
  {
   "cell_type": "markdown",
   "id": "24772915",
   "metadata": {
    "papermill": {
     "duration": 0.092501,
     "end_time": "2021-08-26T17:44:51.178161",
     "exception": false,
     "start_time": "2021-08-26T17:44:51.085660",
     "status": "completed"
    },
    "tags": []
   },
   "source": [
    "On remarque que beaucoup des colonnes à valeurs non booléens ont des beaucoup d'outliers. Heureusement, avec l'utilisation de la métrique RMSLE (Root Mean Squared Log Error), il n'y a aucun problème avec les outliers"
   ]
  },
  {
   "cell_type": "code",
   "execution_count": 25,
   "id": "c86992f3",
   "metadata": {
    "execution": {
     "iopub.execute_input": "2021-08-26T17:44:51.381847Z",
     "iopub.status.busy": "2021-08-26T17:44:51.381161Z",
     "iopub.status.idle": "2021-08-26T17:44:52.274622Z",
     "shell.execute_reply": "2021-08-26T17:44:52.273948Z",
     "shell.execute_reply.started": "2021-08-26T06:44:34.057893Z"
    },
    "papermill": {
     "duration": 1.004899,
     "end_time": "2021-08-26T17:44:52.274766",
     "exception": false,
     "start_time": "2021-08-26T17:44:51.269867",
     "status": "completed"
    },
    "tags": []
   },
   "outputs": [
    {
     "data": {
      "image/png": "[encoded data removed]",
      "text/plain": [
       "<Figure size 864x864 with 2 Axes>"
      ]
     },
     "metadata": {
      "needs_background": "light"
     },
     "output_type": "display_data"
    }
   ],
   "source": [
    "fig, ax = plt.subplots(figsize=(12,12))\n",
    "sns.heatmap(data_1.corr(), annot=True, ax=ax)\n",
    "plt.show()"
   ]
  },
  {
   "cell_type": "markdown",
   "id": "4ea1d4df",
   "metadata": {
    "papermill": {
     "duration": 0.095186,
     "end_time": "2021-08-26T17:44:52.465596",
     "exception": false,
     "start_time": "2021-08-26T17:44:52.370410",
     "status": "completed"
    },
    "tags": []
   },
   "source": [
    "Cette matrice de corrélation confirme ce qui a été dit sur les colonnes fortement correlées : \n",
    "   * Bathrooms et Bedrooms corr > 0.8\n",
    "   * Bathrooms et Floor Size corr > 0.69\n",
    "   * Bedrooms et Floor Size corr > 0.65\n",
    "   * Price et Floor Size corr > 0.67"
   ]
  },
  {
   "cell_type": "markdown",
   "id": "2caf87c9",
   "metadata": {
    "papermill": {
     "duration": 0.094498,
     "end_time": "2021-08-26T17:44:52.655103",
     "exception": false,
     "start_time": "2021-08-26T17:44:52.560605",
     "status": "completed"
    },
    "tags": []
   },
   "source": [
    "Dans la suite, on va faire des scatterplots des colonnes fortement correlées pour confirmer les études statistiques fait ci-dessus"
   ]
  },
  {
   "cell_type": "code",
   "execution_count": 26,
   "id": "9db14551",
   "metadata": {
    "execution": {
     "iopub.execute_input": "2021-08-26T17:44:52.853969Z",
     "iopub.status.busy": "2021-08-26T17:44:52.853279Z",
     "iopub.status.idle": "2021-08-26T17:44:53.309352Z",
     "shell.execute_reply": "2021-08-26T17:44:53.308766Z",
     "shell.execute_reply.started": "2021-08-26T06:46:26.681619Z"
    },
    "papermill": {
     "duration": 0.559139,
     "end_time": "2021-08-26T17:44:53.309517",
     "exception": false,
     "start_time": "2021-08-26T17:44:52.750378",
     "status": "completed"
    },
    "tags": []
   },
   "outputs": [
    {
     "data": {
      "image/png": "[encoded data removed]",
      "text/plain": [
       "<Figure size 432x288 with 1 Axes>"
      ]
     },
     "metadata": {
      "needs_background": "light"
     },
     "output_type": "display_data"
    }
   ],
   "source": [
    "# Scatter plots\n",
    "sns.scatterplot(data=data_1, x='Bathrooms', y='Bedrooms')\n",
    "plt.show()"
   ]
  },
  {
   "cell_type": "code",
   "execution_count": 27,
   "id": "0e24e604",
   "metadata": {
    "execution": {
     "iopub.execute_input": "2021-08-26T17:44:53.511663Z",
     "iopub.status.busy": "2021-08-26T17:44:53.510986Z",
     "iopub.status.idle": "2021-08-26T17:44:53.724775Z",
     "shell.execute_reply": "2021-08-26T17:44:53.725289Z",
     "shell.execute_reply.started": "2021-08-26T06:47:33.287593Z"
    },
    "papermill": {
     "duration": 0.318358,
     "end_time": "2021-08-26T17:44:53.725480",
     "exception": false,
     "start_time": "2021-08-26T17:44:53.407122",
     "status": "completed"
    },
    "tags": []
   },
   "outputs": [
    {
     "data": {
      "text/plain": [
       "<AxesSubplot:xlabel='Bathrooms', ylabel='Price'>"
      ]
     },
     "execution_count": 27,
     "metadata": {},
     "output_type": "execute_result"
    },
    {
     "data": {
      "image/png": "[encoded data removed]",
      "text/plain": [
       "<Figure size 432x288 with 1 Axes>"
      ]
     },
     "metadata": {
      "needs_background": "light"
     },
     "output_type": "display_data"
    }
   ],
   "source": [
    "sns.scatterplot(data=data_1, x='Bathrooms', y='Price')"
   ]
  },
  {
   "cell_type": "code",
   "execution_count": 28,
   "id": "5705830a",
   "metadata": {
    "execution": {
     "iopub.execute_input": "2021-08-26T17:44:53.922122Z",
     "iopub.status.busy": "2021-08-26T17:44:53.921444Z",
     "iopub.status.idle": "2021-08-26T17:44:54.131627Z",
     "shell.execute_reply": "2021-08-26T17:44:54.132117Z",
     "shell.execute_reply.started": "2021-08-26T06:47:37.095881Z"
    },
    "papermill": {
     "duration": 0.310157,
     "end_time": "2021-08-26T17:44:54.132299",
     "exception": false,
     "start_time": "2021-08-26T17:44:53.822142",
     "status": "completed"
    },
    "tags": []
   },
   "outputs": [
    {
     "data": {
      "text/plain": [
       "<AxesSubplot:xlabel='Floor Size', ylabel='Bathrooms'>"
      ]
     },
     "execution_count": 28,
     "metadata": {},
     "output_type": "execute_result"
    },
    {
     "data": {
      "image/png": "[encoded data removed]",
      "text/plain": [
       "<Figure size 432x288 with 1 Axes>"
      ]
     },
     "metadata": {
      "needs_background": "light"
     },
     "output_type": "display_data"
    }
   ],
   "source": [
    "sns.scatterplot(data=data_1, y='Bathrooms', x='Floor Size')"
   ]
  },
  {
   "cell_type": "code",
   "execution_count": 29,
   "id": "64259450",
   "metadata": {
    "execution": {
     "iopub.execute_input": "2021-08-26T17:44:54.333608Z",
     "iopub.status.busy": "2021-08-26T17:44:54.332942Z",
     "iopub.status.idle": "2021-08-26T17:44:54.554909Z",
     "shell.execute_reply": "2021-08-26T17:44:54.555396Z",
     "shell.execute_reply.started": "2021-08-26T06:47:40.327557Z"
    },
    "papermill": {
     "duration": 0.323957,
     "end_time": "2021-08-26T17:44:54.555586",
     "exception": false,
     "start_time": "2021-08-26T17:44:54.231629",
     "status": "completed"
    },
    "tags": []
   },
   "outputs": [
    {
     "data": {
      "text/plain": [
       "<AxesSubplot:xlabel='Floor Size', ylabel='Bedrooms'>"
      ]
     },
     "execution_count": 29,
     "metadata": {},
     "output_type": "execute_result"
    },
    {
     "data": {
      "image/png": "[encoded data removed]",
      "text/plain": [
       "<Figure size 432x288 with 1 Axes>"
      ]
     },
     "metadata": {
      "needs_background": "light"
     },
     "output_type": "display_data"
    }
   ],
   "source": [
    "sns.scatterplot(data=data_1, y='Bedrooms', x='Floor Size')"
   ]
  },
  {
   "cell_type": "code",
   "execution_count": 30,
   "id": "b0fd49e7",
   "metadata": {
    "execution": {
     "iopub.execute_input": "2021-08-26T17:44:54.758565Z",
     "iopub.status.busy": "2021-08-26T17:44:54.757865Z",
     "iopub.status.idle": "2021-08-26T17:44:54.980395Z",
     "shell.execute_reply": "2021-08-26T17:44:54.980899Z",
     "shell.execute_reply.started": "2021-08-26T06:47:44.492388Z"
    },
    "papermill": {
     "duration": 0.326236,
     "end_time": "2021-08-26T17:44:54.981108",
     "exception": false,
     "start_time": "2021-08-26T17:44:54.654872",
     "status": "completed"
    },
    "tags": []
   },
   "outputs": [
    {
     "data": {
      "text/plain": [
       "<AxesSubplot:xlabel='Floor Size', ylabel='Price'>"
      ]
     },
     "execution_count": 30,
     "metadata": {},
     "output_type": "execute_result"
    },
    {
     "data": {
      "image/png": "[encoded data removed]",
      "text/plain": [
       "<Figure size 432x288 with 1 Axes>"
      ]
     },
     "metadata": {
      "needs_background": "light"
     },
     "output_type": "display_data"
    }
   ],
   "source": [
    "sns.scatterplot(data=data_1, y='Price', x='Floor Size')"
   ]
  },
  {
   "cell_type": "markdown",
   "id": "3b2c589d",
   "metadata": {
    "papermill": {
     "duration": 0.100262,
     "end_time": "2021-08-26T17:44:55.183043",
     "exception": false,
     "start_time": "2021-08-26T17:44:55.082781",
     "status": "completed"
    },
    "tags": []
   },
   "source": [
    "# Splitting the data "
   ]
  },
  {
   "cell_type": "markdown",
   "id": "397b0aa1",
   "metadata": {
    "papermill": {
     "duration": 0.100236,
     "end_time": "2021-08-26T17:44:55.383665",
     "exception": false,
     "start_time": "2021-08-26T17:44:55.283429",
     "status": "completed"
    },
    "tags": []
   },
   "source": [
    "Division des données en données d'entrainement et données de test"
   ]
  },
  {
   "cell_type": "code",
   "execution_count": 31,
   "id": "4d01e8fe",
   "metadata": {
    "execution": {
     "iopub.execute_input": "2021-08-26T17:44:55.589642Z",
     "iopub.status.busy": "2021-08-26T17:44:55.588473Z",
     "iopub.status.idle": "2021-08-26T17:44:55.593457Z",
     "shell.execute_reply": "2021-08-26T17:44:55.593941Z",
     "shell.execute_reply.started": "2021-08-26T06:51:09.051545Z"
    },
    "papermill": {
     "duration": 0.110089,
     "end_time": "2021-08-26T17:44:55.594122",
     "exception": false,
     "start_time": "2021-08-26T17:44:55.484033",
     "status": "completed"
    },
    "tags": []
   },
   "outputs": [],
   "source": [
    "data_2 = data_1.copy()"
   ]
  },
  {
   "cell_type": "code",
   "execution_count": 32,
   "id": "f2dd408c",
   "metadata": {
    "execution": {
     "iopub.execute_input": "2021-08-26T17:44:55.803363Z",
     "iopub.status.busy": "2021-08-26T17:44:55.802291Z",
     "iopub.status.idle": "2021-08-26T17:44:55.808342Z",
     "shell.execute_reply": "2021-08-26T17:44:55.808825Z",
     "shell.execute_reply.started": "2021-08-26T06:51:10.442867Z"
    },
    "papermill": {
     "duration": 0.113364,
     "end_time": "2021-08-26T17:44:55.809027",
     "exception": false,
     "start_time": "2021-08-26T17:44:55.695663",
     "status": "completed"
    },
    "tags": []
   },
   "outputs": [],
   "source": [
    "without_price = list(data_1[data_1['Price'].isna()].index)"
   ]
  },
  {
   "cell_type": "code",
   "execution_count": 33,
   "id": "79e1fe25",
   "metadata": {
    "execution": {
     "iopub.execute_input": "2021-08-26T17:44:56.017453Z",
     "iopub.status.busy": "2021-08-26T17:44:56.016429Z",
     "iopub.status.idle": "2021-08-26T17:44:56.023110Z",
     "shell.execute_reply": "2021-08-26T17:44:56.023597Z",
     "shell.execute_reply.started": "2021-08-26T06:51:11.781149Z"
    },
    "papermill": {
     "duration": 0.111819,
     "end_time": "2021-08-26T17:44:56.023784",
     "exception": false,
     "start_time": "2021-08-26T17:44:55.911965",
     "status": "completed"
    },
    "tags": []
   },
   "outputs": [],
   "source": [
    "data_2 = data_2.drop(index=without_price)"
   ]
  },
  {
   "cell_type": "code",
   "execution_count": 34,
   "id": "6a812ebb",
   "metadata": {
    "execution": {
     "iopub.execute_input": "2021-08-26T17:44:56.231187Z",
     "iopub.status.busy": "2021-08-26T17:44:56.230136Z",
     "iopub.status.idle": "2021-08-26T17:44:56.236366Z",
     "shell.execute_reply": "2021-08-26T17:44:56.236827Z",
     "shell.execute_reply.started": "2021-08-26T06:51:13.866083Z"
    },
    "papermill": {
     "duration": 0.111219,
     "end_time": "2021-08-26T17:44:56.237015",
     "exception": false,
     "start_time": "2021-08-26T17:44:56.125796",
     "status": "completed"
    },
    "tags": []
   },
   "outputs": [],
   "source": [
    "y = data_2.Price\n",
    "X = data_2.copy()\n",
    "del X['Price']"
   ]
  },
  {
   "cell_type": "code",
   "execution_count": 35,
   "id": "349248ae",
   "metadata": {
    "execution": {
     "iopub.execute_input": "2021-08-26T17:44:56.442684Z",
     "iopub.status.busy": "2021-08-26T17:44:56.441598Z",
     "iopub.status.idle": "2021-08-26T17:44:56.449678Z",
     "shell.execute_reply": "2021-08-26T17:44:56.450170Z",
     "shell.execute_reply.started": "2021-08-26T06:51:15.254465Z"
    },
    "papermill": {
     "duration": 0.112591,
     "end_time": "2021-08-26T17:44:56.450354",
     "exception": false,
     "start_time": "2021-08-26T17:44:56.337763",
     "status": "completed"
    },
    "tags": []
   },
   "outputs": [],
   "source": [
    "# Splitting the data into train data and test data\n",
    "X_train, X_test, y_train, y_test = train_test_split(X, y, test_size=0.2)"
   ]
  },
  {
   "cell_type": "code",
   "execution_count": 36,
   "id": "cd1ef31e",
   "metadata": {
    "execution": {
     "iopub.execute_input": "2021-08-26T17:44:56.654505Z",
     "iopub.status.busy": "2021-08-26T17:44:56.653426Z",
     "iopub.status.idle": "2021-08-26T17:44:56.660659Z",
     "shell.execute_reply": "2021-08-26T17:44:56.660020Z",
     "shell.execute_reply.started": "2021-08-26T06:51:16.586926Z"
    },
    "papermill": {
     "duration": 0.110339,
     "end_time": "2021-08-26T17:44:56.660802",
     "exception": false,
     "start_time": "2021-08-26T17:44:56.550463",
     "status": "completed"
    },
    "tags": []
   },
   "outputs": [
    {
     "name": "stdout",
     "output_type": "stream",
     "text": [
      "X_train  (6276, 22)\n",
      "X_test  (1570, 22)\n"
     ]
    }
   ],
   "source": [
    "print(\"X_train \", X_train.shape)\n",
    "print(\"X_test \",X_test.shape)"
   ]
  },
  {
   "cell_type": "markdown",
   "id": "c050515d",
   "metadata": {
    "papermill": {
     "duration": 0.102633,
     "end_time": "2021-08-26T17:44:56.865784",
     "exception": false,
     "start_time": "2021-08-26T17:44:56.763151",
     "status": "completed"
    },
    "tags": []
   },
   "source": [
    "# Data Preparation"
   ]
  },
  {
   "cell_type": "markdown",
   "id": "6a41303a",
   "metadata": {
    "papermill": {
     "duration": 0.100474,
     "end_time": "2021-08-26T17:44:57.068000",
     "exception": false,
     "start_time": "2021-08-26T17:44:56.967526",
     "status": "completed"
    },
    "tags": []
   },
   "source": [
    "Traitement des données:\n",
    "* traintement des missing values\n",
    "* encodage des valeurs catégorielles"
   ]
  },
  {
   "cell_type": "code",
   "execution_count": 37,
   "id": "ddcd7591",
   "metadata": {
    "execution": {
     "iopub.execute_input": "2021-08-26T17:44:57.274651Z",
     "iopub.status.busy": "2021-08-26T17:44:57.273892Z",
     "iopub.status.idle": "2021-08-26T17:44:57.278097Z",
     "shell.execute_reply": "2021-08-26T17:44:57.277566Z",
     "shell.execute_reply.started": "2021-08-26T06:51:29.166502Z"
    },
    "papermill": {
     "duration": 0.109361,
     "end_time": "2021-08-26T17:44:57.278239",
     "exception": false,
     "start_time": "2021-08-26T17:44:57.168878",
     "status": "completed"
    },
    "tags": []
   },
   "outputs": [],
   "source": [
    "X_train_1 = X_train.copy()\n",
    "y_train_1 = y_train.copy()"
   ]
  },
  {
   "cell_type": "code",
   "execution_count": 38,
   "id": "d148c5c8",
   "metadata": {
    "execution": {
     "iopub.execute_input": "2021-08-26T17:44:57.484310Z",
     "iopub.status.busy": "2021-08-26T17:44:57.483618Z",
     "iopub.status.idle": "2021-08-26T17:44:57.754269Z",
     "shell.execute_reply": "2021-08-26T17:44:57.754788Z",
     "shell.execute_reply.started": "2021-08-26T06:51:30.585773Z"
    },
    "papermill": {
     "duration": 0.375959,
     "end_time": "2021-08-26T17:44:57.754983",
     "exception": false,
     "start_time": "2021-08-26T17:44:57.379024",
     "status": "completed"
    },
    "tags": []
   },
   "outputs": [
    {
     "data": {
      "image/png": "[encoded data removed]",
      "text/plain": [
       "<Figure size 432x288 with 1 Axes>"
      ]
     },
     "metadata": {
      "needs_background": "light"
     },
     "output_type": "display_data"
    }
   ],
   "source": [
    "X_train_1.isna().sum().plot(kind='bar')\n",
    "plt.show()"
   ]
  },
  {
   "cell_type": "markdown",
   "id": "9a692b5b",
   "metadata": {
    "papermill": {
     "duration": 0.103942,
     "end_time": "2021-08-26T17:44:57.960670",
     "exception": false,
     "start_time": "2021-08-26T17:44:57.856728",
     "status": "completed"
    },
    "tags": []
   },
   "source": [
    "On a des valeurs manquantes dans toutes les colonnes sauf les colonnes Listing Date, Listing Number et Town"
   ]
  },
  {
   "cell_type": "markdown",
   "id": "78430219",
   "metadata": {
    "papermill": {
     "duration": 0.105577,
     "end_time": "2021-08-26T17:44:58.169837",
     "exception": false,
     "start_time": "2021-08-26T17:44:58.064260",
     "status": "completed"
    },
    "tags": []
   },
   "source": [
    "On remplace le contenu de Town par la ville où est localisée la maison / Appartement à vendre"
   ]
  },
  {
   "cell_type": "code",
   "execution_count": 39,
   "id": "05795b48",
   "metadata": {
    "execution": {
     "iopub.execute_input": "2021-08-26T17:44:58.379976Z",
     "iopub.status.busy": "2021-08-26T17:44:58.379250Z",
     "iopub.status.idle": "2021-08-26T17:44:58.393582Z",
     "shell.execute_reply": "2021-08-26T17:44:58.394108Z",
     "shell.execute_reply.started": "2021-08-26T06:59:06.201414Z"
    },
    "papermill": {
     "duration": 0.12192,
     "end_time": "2021-08-26T17:44:58.394296",
     "exception": false,
     "start_time": "2021-08-26T17:44:58.272376",
     "status": "completed"
    },
    "tags": []
   },
   "outputs": [],
   "source": [
    "def get_city(x):\n",
    "    \"\"\"Get the city from the column town and remove the address and the region\"\"\"\n",
    "    x = x.split(\",\")\n",
    "    if len(x) == 3:\n",
    "        return x[1].replace(\" \", \"\")\n",
    "    elif len(x) == 2:\n",
    "        return x[0].replace(\" \", \"\")\n",
    "    elif len(x) == 1:\n",
    "        return x[0].replace(\" \", \"\")\n",
    "    \n",
    "X_train_1['Town'] = X_train_1['Town'].apply(get_city)"
   ]
  },
  {
   "cell_type": "markdown",
   "id": "d268ea28",
   "metadata": {
    "papermill": {
     "duration": 0.102641,
     "end_time": "2021-08-26T17:44:58.600022",
     "exception": false,
     "start_time": "2021-08-26T17:44:58.497381",
     "status": "completed"
    },
    "tags": []
   },
   "source": [
    "Dans la suite, on va définir une pipeline pour transformer les données.\n",
    "\n",
    "* Transformations des colonnes:\n",
    "    * Bathrooms et Bedrooms: \n",
    "        * Les données manquantes sont peu nombreux\n",
    "        * Logiquement, il n'y a pas de maison / appartement en vent sans bathrooms ni bedrooms\n",
    "        * On va imputer la valeur des données manquantes avec les valeurs les plus fréquentes\n",
    "    * Erf Size et Floor Size:\n",
    "        * On a beaucoup d'outliers\n",
    "        * On impute avec la valeur médiane au lieu de la moyenne\n",
    "    * 'Garages', 'Pet Friendly',\n",
    "       'Garden', 'Pool', 'Secure Parking', 'Parking', 'No Pets Allowed',\n",
    "       'Furnished', 'Flatlet', 'Fibre Internet', 'Furnished (Optional)',\n",
    "       'ADSL Internet', 'Satellite Internet', 'Fixed WiMax Internet':\n",
    "        * Ce sont des colonnes à valeurs booléennes\n",
    "        * On impute les valeurs manquantes avec 0\n",
    "    * Type of Property:\n",
    "        * Colonne catégorielle avec valeurs nominales\n",
    "        * cardinalité = 3\n",
    "        * On utilise One Hot Encoder pour encoder les variables\n",
    "    * Town:\n",
    "        * Colonne catégorielle avec valeurs nominales\n",
    "        * Très grande cardinalité \n",
    "        * On va utiliser un \"target value\" encoder par l'utilisation de cat boost encoder pour éviter des problèmes de data leakage"
   ]
  },
  {
   "cell_type": "code",
   "execution_count": 40,
   "id": "3b3043a9",
   "metadata": {
    "execution": {
     "iopub.execute_input": "2021-08-26T17:44:58.834575Z",
     "iopub.status.busy": "2021-08-26T17:44:58.833876Z",
     "iopub.status.idle": "2021-08-26T17:44:58.842012Z",
     "shell.execute_reply": "2021-08-26T17:44:58.842580Z",
     "shell.execute_reply.started": "2021-08-26T07:22:35.992153Z"
    },
    "papermill": {
     "duration": 0.122138,
     "end_time": "2021-08-26T17:44:58.842790",
     "exception": false,
     "start_time": "2021-08-26T17:44:58.720652",
     "status": "completed"
    },
    "tags": []
   },
   "outputs": [],
   "source": [
    "# Preprocessing Bathrooms and Bedrooms features\n",
    "bb_transformer = SimpleImputer(strategy='most_frequent')\n",
    "bb_cols = ['Bathrooms', 'Bedrooms']\n",
    "\n",
    "# Preprocessing Erf Size and Floor Size\n",
    "size_transformer = SimpleImputer(strategy='median')\n",
    "size_cols = ['Erf Size', 'Floor Size']\n",
    "\n",
    "# Preprocessing boolean features\n",
    "bool_transformer = SimpleImputer(strategy='constant')\n",
    "bool_cols = ['Garages', 'Pet Friendly',\n",
    "       'Garden', 'Pool', 'Secure Parking', 'Parking', 'No Pets Allowed',\n",
    "       'Furnished', 'Flatlet', 'Fibre Internet', 'Furnished (Optional)',\n",
    "       'ADSL Internet', 'Satellite Internet', 'Fixed WiMax Internet' ]\n",
    "\n",
    "# Preprocessing Type of Property\n",
    "top_transformer = OneHotEncoder(handle_unknown='ignore')\n",
    "top_cols = ['Type of Property']\n",
    "\n",
    "# Categorical variable Town encoding\n",
    "cbe_encoder = ce.cat_boost.CatBoostEncoder()\n",
    "cbe_cols = ['Town']\n",
    "\n",
    "# Bundle all preprocessors\n",
    "preprocessor = ColumnTransformer(\n",
    "    remainder='passthrough',\n",
    "    transformers=[\n",
    "        ('bb_transformer', bb_transformer, bb_cols),\n",
    "        ('size_transformer', size_transformer, size_cols),\n",
    "        ('bool_transformer', bool_transformer, bool_cols),\n",
    "        ('top_transformer', top_transformer, top_cols),\n",
    "        ('cbe_encoder', cbe_encoder, cbe_cols)\n",
    "    ])"
   ]
  },
  {
   "cell_type": "markdown",
   "id": "190a9cf7",
   "metadata": {
    "papermill": {
     "duration": 0.101816,
     "end_time": "2021-08-26T17:44:59.047993",
     "exception": false,
     "start_time": "2021-08-26T17:44:58.946177",
     "status": "completed"
    },
    "tags": []
   },
   "source": [
    "# Training with all the features"
   ]
  },
  {
   "cell_type": "markdown",
   "id": "87ea98ec",
   "metadata": {
    "papermill": {
     "duration": 0.103819,
     "end_time": "2021-08-26T17:44:59.257528",
     "exception": false,
     "start_time": "2021-08-26T17:44:59.153709",
     "status": "completed"
    },
    "tags": []
   },
   "source": [
    "Entrainement d'un modèle RandomForest avec toutes les caratéristiques"
   ]
  },
  {
   "cell_type": "code",
   "execution_count": 41,
   "id": "0a4646c4",
   "metadata": {
    "execution": {
     "iopub.execute_input": "2021-08-26T17:44:59.465035Z",
     "iopub.status.busy": "2021-08-26T17:44:59.464316Z",
     "iopub.status.idle": "2021-08-26T17:44:59.468791Z",
     "shell.execute_reply": "2021-08-26T17:44:59.469345Z",
     "shell.execute_reply.started": "2021-08-26T07:23:41.802935Z"
    },
    "papermill": {
     "duration": 0.109694,
     "end_time": "2021-08-26T17:44:59.469512",
     "exception": false,
     "start_time": "2021-08-26T17:44:59.359818",
     "status": "completed"
    },
    "tags": []
   },
   "outputs": [],
   "source": [
    "X_train_2 = X_train_1.copy()\n",
    "y_train_2 = y_train_1.copy()"
   ]
  },
  {
   "cell_type": "code",
   "execution_count": 42,
   "id": "4d6ead8e",
   "metadata": {
    "execution": {
     "iopub.execute_input": "2021-08-26T17:44:59.676994Z",
     "iopub.status.busy": "2021-08-26T17:44:59.676305Z",
     "iopub.status.idle": "2021-08-26T17:44:59.716128Z",
     "shell.execute_reply": "2021-08-26T17:44:59.716716Z",
     "shell.execute_reply.started": "2021-08-26T07:23:46.82687Z"
    },
    "papermill": {
     "duration": 0.145242,
     "end_time": "2021-08-26T17:44:59.716913",
     "exception": false,
     "start_time": "2021-08-26T17:44:59.571671",
     "status": "completed"
    },
    "tags": []
   },
   "outputs": [],
   "source": [
    "# Convert Date to numeric\n",
    "import datetime as dt\n",
    "X_train_2['Listing Date']=X_train_2['Listing Date'].map(dt.datetime.toordinal)"
   ]
  },
  {
   "cell_type": "code",
   "execution_count": 43,
   "id": "5455ee6a",
   "metadata": {
    "execution": {
     "iopub.execute_input": "2021-08-26T17:44:59.935956Z",
     "iopub.status.busy": "2021-08-26T17:44:59.933543Z",
     "iopub.status.idle": "2021-08-26T17:45:37.107859Z",
     "shell.execute_reply": "2021-08-26T17:45:37.108405Z",
     "shell.execute_reply.started": "2021-08-26T07:23:53.081399Z"
    },
    "papermill": {
     "duration": 37.286383,
     "end_time": "2021-08-26T17:45:37.108587",
     "exception": false,
     "start_time": "2021-08-26T17:44:59.822204",
     "status": "completed"
    },
    "tags": []
   },
   "outputs": [
    {
     "name": "stdout",
     "output_type": "stream",
     "text": [
      "Random Forest Model scores [0.12668218 0.14423937 0.11831131 0.14154813 0.14861721 0.12737368\n",
      " 0.11819169 0.13129806 0.13852331 0.14858858]\n",
      "Random Forest Model mean scores 0.1343373504354258\n"
     ]
    }
   ],
   "source": [
    "model_1 = RandomForestRegressor(n_estimators=100, random_state=0)\n",
    "\n",
    "pipeline_1 = Pipeline(steps=[('preprocessor', preprocessor),\n",
    "                             ('model', model_1)\n",
    "                            ])\n",
    "scores_1 = -1 * cross_val_score(pipeline_1, X_train_2, y_train_2, cv=10, \n",
    "                                scoring='neg_mean_squared_log_error')\n",
    "print(\"Random Forest Model scores\", scores_1)\n",
    "print(\"Random Forest Model mean scores\", scores_1.mean())"
   ]
  },
  {
   "cell_type": "code",
   "execution_count": 44,
   "id": "8af4a015",
   "metadata": {
    "execution": {
     "iopub.execute_input": "2021-08-26T17:45:37.320705Z",
     "iopub.status.busy": "2021-08-26T17:45:37.320025Z",
     "iopub.status.idle": "2021-08-26T17:45:37.323756Z",
     "shell.execute_reply": "2021-08-26T17:45:37.322880Z",
     "shell.execute_reply.started": "2021-08-26T07:24:36.270592Z"
    },
    "papermill": {
     "duration": 0.111876,
     "end_time": "2021-08-26T17:45:37.323956",
     "exception": false,
     "start_time": "2021-08-26T17:45:37.212080",
     "status": "completed"
    },
    "tags": []
   },
   "outputs": [
    {
     "name": "stdout",
     "output_type": "stream",
     "text": [
      "Random Forest Model mean scores with RMSLE after training 0.3665206002879317\n"
     ]
    }
   ],
   "source": [
    "print(\"Random Forest Model mean scores with RMSLE after training\", math.sqrt(scores_1.mean()))"
   ]
  },
  {
   "cell_type": "code",
   "execution_count": 45,
   "id": "615b05b8",
   "metadata": {
    "execution": {
     "iopub.execute_input": "2021-08-26T17:45:37.551219Z",
     "iopub.status.busy": "2021-08-26T17:45:37.550538Z",
     "iopub.status.idle": "2021-08-26T17:45:37.555054Z",
     "shell.execute_reply": "2021-08-26T17:45:37.554420Z",
     "shell.execute_reply.started": "2021-08-26T07:24:58.552989Z"
    },
    "papermill": {
     "duration": 0.126465,
     "end_time": "2021-08-26T17:45:37.555198",
     "exception": false,
     "start_time": "2021-08-26T17:45:37.428733",
     "status": "completed"
    },
    "tags": []
   },
   "outputs": [
    {
     "name": "stderr",
     "output_type": "stream",
     "text": [
      "/opt/conda/lib/python3.7/site-packages/ipykernel_launcher.py:1: SettingWithCopyWarning: \n",
      "A value is trying to be set on a copy of a slice from a DataFrame.\n",
      "Try using .loc[row_indexer,col_indexer] = value instead\n",
      "\n",
      "See the caveats in the documentation: https://pandas.pydata.org/pandas-docs/stable/user_guide/indexing.html#returning-a-view-versus-a-copy\n",
      "  \"\"\"Entry point for launching an IPython kernel.\n",
      "/opt/conda/lib/python3.7/site-packages/ipykernel_launcher.py:2: SettingWithCopyWarning: \n",
      "A value is trying to be set on a copy of a slice from a DataFrame.\n",
      "Try using .loc[row_indexer,col_indexer] = value instead\n",
      "\n",
      "See the caveats in the documentation: https://pandas.pydata.org/pandas-docs/stable/user_guide/indexing.html#returning-a-view-versus-a-copy\n",
      "  \n"
     ]
    }
   ],
   "source": [
    "X_test['Town'] = X_test['Town'].apply(get_city)\n",
    "X_test['Listing Date'] = X_test['Listing Date'].map(dt.datetime.toordinal)"
   ]
  },
  {
   "cell_type": "code",
   "execution_count": 46,
   "id": "ad6883b7",
   "metadata": {
    "execution": {
     "iopub.execute_input": "2021-08-26T17:45:37.769142Z",
     "iopub.status.busy": "2021-08-26T17:45:37.768455Z",
     "iopub.status.idle": "2021-08-26T17:45:41.880453Z",
     "shell.execute_reply": "2021-08-26T17:45:41.879862Z",
     "shell.execute_reply.started": "2021-08-26T07:25:02.015804Z"
    },
    "papermill": {
     "duration": 4.222962,
     "end_time": "2021-08-26T17:45:41.880595",
     "exception": false,
     "start_time": "2021-08-26T17:45:37.657633",
     "status": "completed"
    },
    "tags": []
   },
   "outputs": [
    {
     "data": {
      "text/plain": [
       "Pipeline(steps=[('preprocessor',\n",
       "                 ColumnTransformer(remainder='passthrough',\n",
       "                                   transformers=[('bb_transformer',\n",
       "                                                  SimpleImputer(strategy='most_frequent'),\n",
       "                                                  ['Bathrooms', 'Bedrooms']),\n",
       "                                                 ('size_transformer',\n",
       "                                                  SimpleImputer(strategy='median'),\n",
       "                                                  ['Erf Size', 'Floor Size']),\n",
       "                                                 ('bool_transformer',\n",
       "                                                  SimpleImputer(strategy='constant'),\n",
       "                                                  ['Garages', 'Pet Friendly',\n",
       "                                                   'Garden', 'Pool',\n",
       "                                                   'Secure Parking', 'Parking',\n",
       "                                                   'No Pets Allowed',\n",
       "                                                   'Furnished', 'Flatlet',\n",
       "                                                   'Fibre Internet',\n",
       "                                                   'Furnished (Optional)',\n",
       "                                                   'ADSL Internet',\n",
       "                                                   'Satellite Internet',\n",
       "                                                   'Fixed WiMax Internet']),\n",
       "                                                 ('top_transformer',\n",
       "                                                  OneHotEncoder(handle_unknown='ignore'),\n",
       "                                                  ['Type of Property']),\n",
       "                                                 ('cbe_encoder',\n",
       "                                                  CatBoostEncoder(),\n",
       "                                                  ['Town'])])),\n",
       "                ('model', RandomForestRegressor(random_state=0))])"
      ]
     },
     "execution_count": 46,
     "metadata": {},
     "output_type": "execute_result"
    }
   ],
   "source": [
    "pipeline_1.fit(X_train_2, y_train_2)"
   ]
  },
  {
   "cell_type": "code",
   "execution_count": 47,
   "id": "08e6d52a",
   "metadata": {
    "execution": {
     "iopub.execute_input": "2021-08-26T17:45:42.098485Z",
     "iopub.status.busy": "2021-08-26T17:45:42.095198Z",
     "iopub.status.idle": "2021-08-26T17:45:42.168900Z",
     "shell.execute_reply": "2021-08-26T17:45:42.167289Z",
     "shell.execute_reply.started": "2021-08-26T07:25:09.921359Z"
    },
    "papermill": {
     "duration": 0.185207,
     "end_time": "2021-08-26T17:45:42.169111",
     "exception": false,
     "start_time": "2021-08-26T17:45:41.983904",
     "status": "completed"
    },
    "tags": []
   },
   "outputs": [
    {
     "name": "stdout",
     "output_type": "stream",
     "text": [
      "Final Random Forest model score with RMSLE: 0.35049213781584937\n"
     ]
    }
   ],
   "source": [
    "preds = pipeline_1.predict(X_test)\n",
    "score_preds = mean_squared_log_error(y_test, preds)\n",
    "print('Final Random Forest model score with RMSLE:', math.sqrt(score_preds))"
   ]
  },
  {
   "cell_type": "markdown",
   "id": "8a846d87",
   "metadata": {
    "papermill": {
     "duration": 0.105815,
     "end_time": "2021-08-26T17:45:42.381106",
     "exception": false,
     "start_time": "2021-08-26T17:45:42.275291",
     "status": "completed"
    },
    "tags": []
   },
   "source": [
    "Les scores de l'entrainement du modèle et de l'évaluation du modèle avec les données de test sont très proches. Le modèle ne fait pas d'overfitting "
   ]
  },
  {
   "cell_type": "markdown",
   "id": "e7fa8487",
   "metadata": {
    "papermill": {
     "duration": 0.104172,
     "end_time": "2021-08-26T17:45:42.589464",
     "exception": false,
     "start_time": "2021-08-26T17:45:42.485292",
     "status": "completed"
    },
    "tags": []
   },
   "source": [
    "### Random Forest hyperparameters tuning"
   ]
  },
  {
   "cell_type": "markdown",
   "id": "5f3fdb7a",
   "metadata": {
    "papermill": {
     "duration": 0.113037,
     "end_time": "2021-08-26T17:45:42.829393",
     "exception": false,
     "start_time": "2021-08-26T17:45:42.716356",
     "status": "completed"
    },
    "tags": []
   },
   "source": [
    "Source - hyperparameters tuning: \n",
    "https://towardsdatascience.com/hyperparameter-tuning-the-random-forest-in-python-using-scikit-learn-28d2aa77dd74"
   ]
  },
  {
   "cell_type": "code",
   "execution_count": 48,
   "id": "9e635cea",
   "metadata": {
    "execution": {
     "iopub.execute_input": "2021-08-26T17:45:43.045472Z",
     "iopub.status.busy": "2021-08-26T17:45:43.044727Z",
     "iopub.status.idle": "2021-08-26T17:45:43.048065Z",
     "shell.execute_reply": "2021-08-26T17:45:43.047453Z"
    },
    "papermill": {
     "duration": 0.115314,
     "end_time": "2021-08-26T17:45:43.048218",
     "exception": false,
     "start_time": "2021-08-26T17:45:42.932904",
     "status": "completed"
    },
    "tags": []
   },
   "outputs": [],
   "source": [
    "# Number of trees in random forest\n",
    "n_estimators = [int(x) for x in np.linspace(start = 200, stop = 1000, num = 10)]\n",
    "# Number of features to consider at every split\n",
    "max_features = ['auto', 'sqrt']\n",
    "# Maximum number of levels in tree\n",
    "max_depth = [int(x) for x in np.linspace(10, 110, num = 11)]\n",
    "max_depth.append(None)\n",
    "# Minimum number of samples required to split a node\n",
    "min_samples_split = [2, 5, 10]\n",
    "# Minimum number of samples required at each leaf node\n",
    "min_samples_leaf = [1, 2, 4]\n",
    "# Method of selecting samples for training each tree\n",
    "bootstrap = [True, False]\n",
    "\n",
    "# Create the random grid\n",
    "random_grid = {'n_estimators': n_estimators,\n",
    "               'max_features': max_features,\n",
    "               'max_depth': max_depth,\n",
    "               'min_samples_split': min_samples_split,\n",
    "               'min_samples_leaf': min_samples_leaf,\n",
    "               'bootstrap': bootstrap}"
   ]
  },
  {
   "cell_type": "code",
   "execution_count": 49,
   "id": "a4d17f35",
   "metadata": {
    "execution": {
     "iopub.execute_input": "2021-08-26T17:45:43.267806Z",
     "iopub.status.busy": "2021-08-26T17:45:43.267091Z",
     "iopub.status.idle": "2021-08-26T17:45:43.327249Z",
     "shell.execute_reply": "2021-08-26T17:45:43.326609Z",
     "shell.execute_reply.started": "2021-08-25T12:15:14.621848Z"
    },
    "papermill": {
     "duration": 0.174842,
     "end_time": "2021-08-26T17:45:43.327417",
     "exception": false,
     "start_time": "2021-08-26T17:45:43.152575",
     "status": "completed"
    },
    "tags": []
   },
   "outputs": [],
   "source": [
    "model_1_1 = RandomForestRegressor()\n",
    "\n",
    "pipeline_1_1 = Pipeline(steps=[('preprocessor', preprocessor),\n",
    "                             ('model', model_1_1)\n",
    "                            ])\n",
    "\n",
    "X_train_2_1 = preprocessor.fit_transform(X_train_2, y_train_2)\n",
    "\n",
    "cols = list(X_train_2.columns)\n",
    "\n",
    "top = pipeline_1_1['preprocessor'].transformers_[3][1]\\\n",
    "                   .get_feature_names(top_cols)\n",
    "\n",
    "cols.remove('Listing Date')\n",
    "cols.remove('Listing Number')\n",
    "cols.remove('Type of Property')\n",
    "cols.remove('Town')\n",
    "for i in top:\n",
    "    cols.append(i)\n",
    "cols.append('Town')\n",
    "cols.append('Listing Date')\n",
    "cols.append('Listing Number')\n",
    "\n",
    "X_train_2_1 = pd.DataFrame(X_train_2_1, columns=cols)"
   ]
  },
  {
   "cell_type": "code",
   "execution_count": 50,
   "id": "33f6609c",
   "metadata": {
    "execution": {
     "iopub.execute_input": "2021-08-26T17:45:43.544696Z",
     "iopub.status.busy": "2021-08-26T17:45:43.544035Z",
     "iopub.status.idle": "2021-08-26T19:07:14.111711Z",
     "shell.execute_reply": "2021-08-26T19:07:14.111128Z",
     "shell.execute_reply.started": "2021-08-25T12:15:54.757762Z"
    },
    "papermill": {
     "duration": 4890.679009,
     "end_time": "2021-08-26T19:07:14.111866",
     "exception": false,
     "start_time": "2021-08-26T17:45:43.432857",
     "status": "completed"
    },
    "tags": []
   },
   "outputs": [
    {
     "name": "stdout",
     "output_type": "stream",
     "text": [
      "Fitting 10 folds for each of 100 candidates, totalling 1000 fits\n"
     ]
    },
    {
     "name": "stderr",
     "output_type": "stream",
     "text": [
      "[Parallel(n_jobs=-1)]: Using backend LokyBackend with 4 concurrent workers.\n",
      "[Parallel(n_jobs=-1)]: Done  33 tasks      | elapsed:  1.9min\n",
      "[Parallel(n_jobs=-1)]: Done 154 tasks      | elapsed: 11.5min\n",
      "[Parallel(n_jobs=-1)]: Done 357 tasks      | elapsed: 29.5min\n",
      "[Parallel(n_jobs=-1)]: Done 640 tasks      | elapsed: 54.3min\n",
      "[Parallel(n_jobs=-1)]: Done 1000 out of 1000 | elapsed: 81.4min finished\n"
     ]
    },
    {
     "data": {
      "text/plain": [
       "RandomizedSearchCV(cv=10, estimator=RandomForestRegressor(), n_iter=100,\n",
       "                   n_jobs=-1,\n",
       "                   param_distributions={'bootstrap': [True, False],\n",
       "                                        'max_depth': [10, 20, 30, 40, 50, 60,\n",
       "                                                      70, 80, 90, 100, 110,\n",
       "                                                      None],\n",
       "                                        'max_features': ['auto', 'sqrt'],\n",
       "                                        'min_samples_leaf': [1, 2, 4],\n",
       "                                        'min_samples_split': [2, 5, 10],\n",
       "                                        'n_estimators': [200, 288, 377, 466,\n",
       "                                                         555, 644, 733, 822,\n",
       "                                                         911, 1000]},\n",
       "                   random_state=42, verbose=2)"
      ]
     },
     "execution_count": 50,
     "metadata": {},
     "output_type": "execute_result"
    }
   ],
   "source": [
    "# Random search of parameters, using 10 fold cross validation, \n",
    "# search across 100 different combinations, and use all available cores\n",
    "rf_random = RandomizedSearchCV(estimator = model_1_1, param_distributions = random_grid, n_iter = 100, \n",
    "                               cv = 10, verbose=2, random_state=42, n_jobs = -1)\n",
    "# Fit the random search model\n",
    "rf_random.fit(X_train_2_1, y_train_2)"
   ]
  },
  {
   "cell_type": "code",
   "execution_count": 51,
   "id": "99b30109",
   "metadata": {
    "execution": {
     "iopub.execute_input": "2021-08-26T19:07:14.335949Z",
     "iopub.status.busy": "2021-08-26T19:07:14.334942Z",
     "iopub.status.idle": "2021-08-26T19:07:14.339306Z",
     "shell.execute_reply": "2021-08-26T19:07:14.338659Z",
     "shell.execute_reply.started": "2021-08-25T13:47:05.658384Z"
    },
    "papermill": {
     "duration": 0.117357,
     "end_time": "2021-08-26T19:07:14.339448",
     "exception": false,
     "start_time": "2021-08-26T19:07:14.222091",
     "status": "completed"
    },
    "tags": []
   },
   "outputs": [
    {
     "data": {
      "text/plain": [
       "{'n_estimators': 288,\n",
       " 'min_samples_split': 2,\n",
       " 'min_samples_leaf': 1,\n",
       " 'max_features': 'sqrt',\n",
       " 'max_depth': None,\n",
       " 'bootstrap': False}"
      ]
     },
     "execution_count": 51,
     "metadata": {},
     "output_type": "execute_result"
    }
   ],
   "source": [
    "rf_random.best_params_"
   ]
  },
  {
   "cell_type": "code",
   "execution_count": 52,
   "id": "23ce0b5f",
   "metadata": {
    "execution": {
     "iopub.execute_input": "2021-08-26T19:07:14.564770Z",
     "iopub.status.busy": "2021-08-26T19:07:14.563684Z",
     "iopub.status.idle": "2021-08-26T19:07:14.614007Z",
     "shell.execute_reply": "2021-08-26T19:07:14.614528Z",
     "shell.execute_reply.started": "2021-08-25T13:48:51.093233Z"
    },
    "papermill": {
     "duration": 0.167407,
     "end_time": "2021-08-26T19:07:14.614713",
     "exception": false,
     "start_time": "2021-08-26T19:07:14.447306",
     "status": "completed"
    },
    "tags": []
   },
   "outputs": [],
   "source": [
    "X_test_1_1 = preprocessor.fit_transform(X_test, y_test)\n",
    "X_test_1_1 = pd.DataFrame(X_test_1_1, columns=cols)"
   ]
  },
  {
   "cell_type": "code",
   "execution_count": 53,
   "id": "5d95fd1f",
   "metadata": {
    "execution": {
     "iopub.execute_input": "2021-08-26T19:07:14.837830Z",
     "iopub.status.busy": "2021-08-26T19:07:14.837188Z",
     "iopub.status.idle": "2021-08-26T19:07:15.010642Z",
     "shell.execute_reply": "2021-08-26T19:07:15.009984Z",
     "shell.execute_reply.started": "2021-08-25T13:48:59.374603Z"
    },
    "papermill": {
     "duration": 0.287157,
     "end_time": "2021-08-26T19:07:15.010783",
     "exception": false,
     "start_time": "2021-08-26T19:07:14.723626",
     "status": "completed"
    },
    "tags": []
   },
   "outputs": [
    {
     "name": "stdout",
     "output_type": "stream",
     "text": [
      "Final scores with hyperparameters tunned with randomizedsearch  0.4240848310580822\n"
     ]
    }
   ],
   "source": [
    "best_random_model = rf_random.best_estimator_\n",
    "random_preds = best_random_model.predict(X_test_1_1)\n",
    "random_score = mean_squared_log_error(y_test, random_preds)\n",
    "print(\"Final scores with hyperparameters tunned with randomizedsearch \", math.sqrt(random_score))"
   ]
  },
  {
   "cell_type": "markdown",
   "id": "caa3d72a",
   "metadata": {
    "papermill": {
     "duration": 0.111775,
     "end_time": "2021-08-26T19:07:15.231567",
     "exception": false,
     "start_time": "2021-08-26T19:07:15.119792",
     "status": "completed"
    },
    "tags": []
   },
   "source": [
    "Le score obtenu après ajustement des hyperparamètres est encore assez élevé par rapport au premier modèle de Random Forest. Il s'impose alors de pousser un peu plus l'ajustement des hyperparamètres en les affinant en se basant sur les meilleurs hyperparamètres du randomized search ci-dessus."
   ]
  },
  {
   "cell_type": "code",
   "execution_count": 54,
   "id": "ccb0a3f0",
   "metadata": {
    "execution": {
     "iopub.execute_input": "2021-08-26T19:07:15.456110Z",
     "iopub.status.busy": "2021-08-26T19:07:15.455028Z",
     "iopub.status.idle": "2021-08-26T19:07:15.458405Z",
     "shell.execute_reply": "2021-08-26T19:07:15.457820Z",
     "shell.execute_reply.started": "2021-08-25T14:16:04.9117Z"
    },
    "papermill": {
     "duration": 0.118221,
     "end_time": "2021-08-26T19:07:15.458545",
     "exception": false,
     "start_time": "2021-08-26T19:07:15.340324",
     "status": "completed"
    },
    "tags": []
   },
   "outputs": [],
   "source": [
    "# Create the parameter grid based on the results of random search \n",
    "param_grid = {\n",
    "    'bootstrap': [False],\n",
    "    'max_depth': [90,100,110,120],\n",
    "    'max_features': ['sqrt'],\n",
    "    'min_samples_leaf': [1,2,3],\n",
    "    'min_samples_split': [2,4],\n",
    "    'n_estimators': [1000, 1050, 1100, 1150]\n",
    "}\n",
    "\n",
    "grid_search = GridSearchCV(estimator = model_1_1, param_grid = param_grid, \n",
    "                          cv = 10, n_jobs = -1, verbose = 2)"
   ]
  },
  {
   "cell_type": "code",
   "execution_count": 55,
   "id": "91067f83",
   "metadata": {
    "execution": {
     "iopub.execute_input": "2021-08-26T19:07:15.682524Z",
     "iopub.status.busy": "2021-08-26T19:07:15.681433Z",
     "iopub.status.idle": "2021-08-26T20:25:34.454710Z",
     "shell.execute_reply": "2021-08-26T20:25:34.454194Z",
     "shell.execute_reply.started": "2021-08-25T14:19:26.574631Z"
    },
    "papermill": {
     "duration": 4698.887856,
     "end_time": "2021-08-26T20:25:34.454861",
     "exception": false,
     "start_time": "2021-08-26T19:07:15.567005",
     "status": "completed"
    },
    "tags": []
   },
   "outputs": [
    {
     "name": "stdout",
     "output_type": "stream",
     "text": [
      "Fitting 10 folds for each of 96 candidates, totalling 960 fits\n"
     ]
    },
    {
     "name": "stderr",
     "output_type": "stream",
     "text": [
      "[Parallel(n_jobs=-1)]: Using backend LokyBackend with 4 concurrent workers.\n",
      "[Parallel(n_jobs=-1)]: Done  33 tasks      | elapsed:  3.7min\n",
      "[Parallel(n_jobs=-1)]: Done 154 tasks      | elapsed: 13.6min\n",
      "[Parallel(n_jobs=-1)]: Done 357 tasks      | elapsed: 30.2min\n",
      "[Parallel(n_jobs=-1)]: Done 640 tasks      | elapsed: 53.0min\n",
      "[Parallel(n_jobs=-1)]: Done 960 out of 960 | elapsed: 78.1min finished\n"
     ]
    },
    {
     "data": {
      "text/plain": [
       "GridSearchCV(cv=10, estimator=RandomForestRegressor(), n_jobs=-1,\n",
       "             param_grid={'bootstrap': [False], 'max_depth': [90, 100, 110, 120],\n",
       "                         'max_features': ['sqrt'],\n",
       "                         'min_samples_leaf': [1, 2, 3],\n",
       "                         'min_samples_split': [2, 4],\n",
       "                         'n_estimators': [1000, 1050, 1100, 1150]},\n",
       "             verbose=2)"
      ]
     },
     "execution_count": 55,
     "metadata": {},
     "output_type": "execute_result"
    }
   ],
   "source": [
    "grid_search.fit(X_train_2_1, y_train_2)"
   ]
  },
  {
   "cell_type": "code",
   "execution_count": 56,
   "id": "b40f7287",
   "metadata": {
    "execution": {
     "iopub.execute_input": "2021-08-26T20:25:34.679761Z",
     "iopub.status.busy": "2021-08-26T20:25:34.678738Z",
     "iopub.status.idle": "2021-08-26T20:25:34.683235Z",
     "shell.execute_reply": "2021-08-26T20:25:34.683721Z",
     "shell.execute_reply.started": "2021-08-25T15:57:52.660261Z"
    },
    "papermill": {
     "duration": 0.119411,
     "end_time": "2021-08-26T20:25:34.683884",
     "exception": false,
     "start_time": "2021-08-26T20:25:34.564473",
     "status": "completed"
    },
    "tags": []
   },
   "outputs": [
    {
     "data": {
      "text/plain": [
       "{'bootstrap': False,\n",
       " 'max_depth': 120,\n",
       " 'max_features': 'sqrt',\n",
       " 'min_samples_leaf': 1,\n",
       " 'min_samples_split': 4,\n",
       " 'n_estimators': 1050}"
      ]
     },
     "execution_count": 56,
     "metadata": {},
     "output_type": "execute_result"
    }
   ],
   "source": [
    "grid_search.best_params_"
   ]
  },
  {
   "cell_type": "code",
   "execution_count": 57,
   "id": "37d8136b",
   "metadata": {
    "execution": {
     "iopub.execute_input": "2021-08-26T20:25:34.910622Z",
     "iopub.status.busy": "2021-08-26T20:25:34.909548Z",
     "iopub.status.idle": "2021-08-26T20:25:35.403915Z",
     "shell.execute_reply": "2021-08-26T20:25:35.404436Z",
     "shell.execute_reply.started": "2021-08-25T15:58:09.649304Z"
    },
    "papermill": {
     "duration": 0.609472,
     "end_time": "2021-08-26T20:25:35.404604",
     "exception": false,
     "start_time": "2021-08-26T20:25:34.795132",
     "status": "completed"
    },
    "tags": []
   },
   "outputs": [
    {
     "name": "stdout",
     "output_type": "stream",
     "text": [
      "Final score with hyperparameters tunned with gridsearch  0.4261588906289102\n"
     ]
    }
   ],
   "source": [
    "grid_preds = grid_search.best_estimator_.predict(X_test_1_1)\n",
    "grid_score = mean_squared_log_error(y_test, grid_preds)\n",
    "print(\"Final score with hyperparameters tunned with gridsearch \", math.sqrt(grid_score))"
   ]
  },
  {
   "cell_type": "markdown",
   "id": "faf6cb83",
   "metadata": {
    "papermill": {
     "duration": 0.109076,
     "end_time": "2021-08-26T20:25:35.623120",
     "exception": false,
     "start_time": "2021-08-26T20:25:35.514044",
     "status": "completed"
    },
    "tags": []
   },
   "source": [
    "Le score obtenu avec les hyperparamètres ajustés par grid search n'est toujours pas meilleur que le premier score du premier modèle Random Forest"
   ]
  },
  {
   "cell_type": "markdown",
   "id": "989ace9a",
   "metadata": {
    "execution": {
     "iopub.execute_input": "2021-08-24T13:47:59.293084Z",
     "iopub.status.busy": "2021-08-24T13:47:59.29267Z",
     "iopub.status.idle": "2021-08-24T13:48:03.503395Z",
     "shell.execute_reply": "2021-08-24T13:48:03.502212Z",
     "shell.execute_reply.started": "2021-08-24T13:47:59.293041Z"
    },
    "papermill": {
     "duration": 0.109586,
     "end_time": "2021-08-26T20:25:35.842112",
     "exception": false,
     "start_time": "2021-08-26T20:25:35.732526",
     "status": "completed"
    },
    "tags": []
   },
   "source": [
    "### Conclusion\n",
    "Comme les scores ne  s'améliorent pas avec l'ajustement des hyperparamètres, comme perspective d'amélioration pour le score, il serait plus intéressant de voir un autre modèle "
   ]
  },
  {
   "cell_type": "markdown",
   "id": "2c9c67a4",
   "metadata": {
    "papermill": {
     "duration": 0.171462,
     "end_time": "2021-08-26T20:25:36.123718",
     "exception": false,
     "start_time": "2021-08-26T20:25:35.952256",
     "status": "completed"
    },
    "tags": []
   },
   "source": [
    "# Feature Selection"
   ]
  },
  {
   "cell_type": "markdown",
   "id": "46bfea54",
   "metadata": {
    "papermill": {
     "duration": 0.110134,
     "end_time": "2021-08-26T20:25:36.343037",
     "exception": false,
     "start_time": "2021-08-26T20:25:36.232903",
     "status": "completed"
    },
    "tags": []
   },
   "source": [
    "Sélections des features vraiment importants dans les données avec l'utilisation d'ExtraTreesClassifier"
   ]
  },
  {
   "cell_type": "code",
   "execution_count": 58,
   "id": "6af562fe",
   "metadata": {
    "execution": {
     "iopub.execute_input": "2021-08-26T20:25:36.566626Z",
     "iopub.status.busy": "2021-08-26T20:25:36.565592Z",
     "iopub.status.idle": "2021-08-26T20:25:54.369370Z",
     "shell.execute_reply": "2021-08-26T20:25:54.368705Z",
     "shell.execute_reply.started": "2021-08-26T07:34:24.163211Z"
    },
    "papermill": {
     "duration": 17.917516,
     "end_time": "2021-08-26T20:25:54.369514",
     "exception": false,
     "start_time": "2021-08-26T20:25:36.451998",
     "status": "completed"
    },
    "tags": []
   },
   "outputs": [
    {
     "data": {
      "text/plain": [
       "Pipeline(steps=[('preprocessor',\n",
       "                 ColumnTransformer(remainder='passthrough',\n",
       "                                   transformers=[('bb_transformer',\n",
       "                                                  SimpleImputer(strategy='most_frequent'),\n",
       "                                                  ['Bathrooms', 'Bedrooms']),\n",
       "                                                 ('size_transformer',\n",
       "                                                  SimpleImputer(strategy='median'),\n",
       "                                                  ['Erf Size', 'Floor Size']),\n",
       "                                                 ('bool_transformer',\n",
       "                                                  SimpleImputer(strategy='constant'),\n",
       "                                                  ['Garages', 'Pet Friendly',\n",
       "                                                   'Garden', 'Pool',\n",
       "                                                   'Secure Parking', 'Parking',\n",
       "                                                   'No Pets Allowed',\n",
       "                                                   'Furnished', 'Flatlet',\n",
       "                                                   'Fibre Internet',\n",
       "                                                   'Furnished (Optional)',\n",
       "                                                   'ADSL Internet',\n",
       "                                                   'Satellite Internet',\n",
       "                                                   'Fixed WiMax Internet']),\n",
       "                                                 ('top_transformer',\n",
       "                                                  OneHotEncoder(handle_unknown='ignore'),\n",
       "                                                  ['Type of Property']),\n",
       "                                                 ('cbe_encoder',\n",
       "                                                  CatBoostEncoder(),\n",
       "                                                  ['Town'])])),\n",
       "                ('model', ExtraTreesClassifier())])"
      ]
     },
     "execution_count": 58,
     "metadata": {},
     "output_type": "execute_result"
    }
   ],
   "source": [
    "# Preprocess data\n",
    "X_train_3 = preprocessor.fit_transform(X_train_2, y_train_2)\n",
    "\n",
    "# ExtraTreeClassifier Model\n",
    "extra_tree = ExtraTreesClassifier()\n",
    "\n",
    "# Pipeline\n",
    "pipeline_2 = Pipeline(steps=[('preprocessor', preprocessor),\n",
    "                             ('model', extra_tree)\n",
    "                            ])\n",
    "pipeline_2.fit(X_train_2, y_train_2)"
   ]
  },
  {
   "cell_type": "code",
   "execution_count": 59,
   "id": "0f8ca593",
   "metadata": {
    "execution": {
     "iopub.execute_input": "2021-08-26T20:25:54.595789Z",
     "iopub.status.busy": "2021-08-26T20:25:54.594757Z",
     "iopub.status.idle": "2021-08-26T20:25:54.624831Z",
     "shell.execute_reply": "2021-08-26T20:25:54.625301Z",
     "shell.execute_reply.started": "2021-08-26T07:34:51.917459Z"
    },
    "papermill": {
     "duration": 0.145836,
     "end_time": "2021-08-26T20:25:54.625474",
     "exception": false,
     "start_time": "2021-08-26T20:25:54.479638",
     "status": "completed"
    },
    "tags": []
   },
   "outputs": [
    {
     "name": "stdout",
     "output_type": "stream",
     "text": [
      "[5.95991947e-02 5.96723702e-02 8.36606172e-02 1.33758063e-01\n",
      " 4.65172562e-02 1.41550622e-02 2.01756255e-02 1.05216754e-02\n",
      " 1.82283726e-02 5.66767277e-02 1.30674415e-02 6.73318301e-03\n",
      " 5.94400215e-03 1.36043061e-02 1.34994356e-03 2.19783774e-03\n",
      " 7.45700921e-04 9.98468146e-05 2.34289573e-03 2.03238711e-03\n",
      " 1.72035598e-03 1.48841100e-01 1.47533714e-01 1.50822321e-01]\n"
     ]
    }
   ],
   "source": [
    "print(extra_tree.feature_importances_)"
   ]
  },
  {
   "cell_type": "markdown",
   "id": "3c75b721",
   "metadata": {
    "papermill": {
     "duration": 0.111091,
     "end_time": "2021-08-26T20:25:54.847115",
     "exception": false,
     "start_time": "2021-08-26T20:25:54.736024",
     "status": "completed"
    },
    "tags": []
   },
   "source": [
    "Les features ayant les scores les plus grands sont les plus importants du dataset.  "
   ]
  },
  {
   "cell_type": "code",
   "execution_count": 60,
   "id": "2d505693",
   "metadata": {
    "execution": {
     "iopub.execute_input": "2021-08-26T20:25:55.078208Z",
     "iopub.status.busy": "2021-08-26T20:25:55.077203Z",
     "iopub.status.idle": "2021-08-26T20:25:55.108977Z",
     "shell.execute_reply": "2021-08-26T20:25:55.108443Z",
     "shell.execute_reply.started": "2021-08-26T07:35:00.7961Z"
    },
    "papermill": {
     "duration": 0.149572,
     "end_time": "2021-08-26T20:25:55.109120",
     "exception": false,
     "start_time": "2021-08-26T20:25:54.959548",
     "status": "completed"
    },
    "tags": []
   },
   "outputs": [
    {
     "name": "stdout",
     "output_type": "stream",
     "text": [
      "[17 16 14 20 19 15 18 12 11  7 10 13  5  8  6  4  9  0  1  2  3 22 21 23]\n"
     ]
    }
   ],
   "source": [
    "importances = np.array(extra_tree.feature_importances_)\n",
    "arg_importances = np.argsort(importances)\n",
    "print(arg_importances)"
   ]
  },
  {
   "cell_type": "code",
   "execution_count": 61,
   "id": "aac3a906",
   "metadata": {
    "execution": {
     "iopub.execute_input": "2021-08-26T20:25:55.358096Z",
     "iopub.status.busy": "2021-08-26T20:25:55.357280Z",
     "iopub.status.idle": "2021-08-26T20:25:55.360658Z",
     "shell.execute_reply": "2021-08-26T20:25:55.361160Z",
     "shell.execute_reply.started": "2021-08-26T07:35:45.422796Z"
    },
    "papermill": {
     "duration": 0.139813,
     "end_time": "2021-08-26T20:25:55.361336",
     "exception": false,
     "start_time": "2021-08-26T20:25:55.221523",
     "status": "completed"
    },
    "tags": []
   },
   "outputs": [
    {
     "name": "stdout",
     "output_type": "stream",
     "text": [
      "   Bathrooms  Bedrooms  Erf Size  Floor Size  Garages  Pet Friendly  Garden  \\\n",
      "0        4.5       3.0     433.0       418.0      2.0           0.0     1.0   \n",
      "1        1.5       2.0     433.0        57.0      0.0           1.0     0.0   \n",
      "2        1.5       3.0     433.0       109.0      1.0           0.0     0.0   \n",
      "3        3.0       4.0     403.0        90.0      1.0           1.0     1.0   \n",
      "4        1.5       3.0     433.0        87.0      0.0           0.0     0.0   \n",
      "\n",
      "   Pool  Secure Parking  Parking  No Pets Allowed  Furnished  Flatlet  \\\n",
      "0   0.0             0.0      3.0              0.0        0.0      0.0   \n",
      "1   1.0             2.0      0.0              0.0        0.0      0.0   \n",
      "2   0.0             0.0      0.0              0.0        0.0      0.0   \n",
      "3   0.0             2.0      0.0              0.0        0.0      0.0   \n",
      "4   0.0             0.0      1.0              1.0        0.0      0.0   \n",
      "\n",
      "   Fibre Internet  Furnished (Optional)  ADSL Internet  Satellite Internet  \\\n",
      "0             0.0                   0.0            0.0                 0.0   \n",
      "1             0.0                   0.0            0.0                 0.0   \n",
      "2             0.0                   0.0            0.0                 0.0   \n",
      "3             0.0                   0.0            0.0                 0.0   \n",
      "4             0.0                   0.0            0.0                 0.0   \n",
      "\n",
      "   Fixed WiMax Internet  Type of Property_Apartment / Flat  \\\n",
      "0                   0.0                                1.0   \n",
      "1                   0.0                                0.0   \n",
      "2                   0.0                                1.0   \n",
      "3                   0.0                                0.0   \n",
      "4                   0.0                                1.0   \n",
      "\n",
      "   Type of Property_House  Type of Property_Townhouse          Town  \\\n",
      "0                     0.0                         0.0  5.738297e+06   \n",
      "1                     0.0                         1.0  5.738297e+06   \n",
      "2                     0.0                         0.0  5.738297e+06   \n",
      "3                     1.0                         0.0  5.738297e+06   \n",
      "4                     0.0                         0.0  5.738297e+06   \n",
      "\n",
      "   Listing Date  Listing Number  \n",
      "0      737412.0     108277280.0  \n",
      "1      737691.0     109154135.0  \n",
      "2      737406.0     108267604.0  \n",
      "3      737614.0     108845732.0  \n",
      "4      737670.0     109059396.0  \n"
     ]
    }
   ],
   "source": [
    "cols = list(X_train_2.columns)\n",
    "\n",
    "top = pipeline_2['preprocessor'].transformers_[3][1]\\\n",
    "                   .get_feature_names(top_cols)\n",
    "\n",
    "cols.remove('Listing Date')\n",
    "cols.remove('Listing Number')\n",
    "cols.remove('Type of Property')\n",
    "cols.remove('Town')\n",
    "for i in top:\n",
    "    cols.append(i)\n",
    "cols.append('Town')\n",
    "cols.append('Listing Date')\n",
    "cols.append('Listing Number')\n",
    "\n",
    "X_train_4 = pd.DataFrame(X_train_3, columns=cols)\n",
    "print(X_train_4.head())"
   ]
  },
  {
   "cell_type": "markdown",
   "id": "76279836",
   "metadata": {
    "papermill": {
     "duration": 0.111898,
     "end_time": "2021-08-26T20:25:55.584456",
     "exception": false,
     "start_time": "2021-08-26T20:25:55.472558",
     "status": "completed"
    },
    "tags": []
   },
   "source": [
    "Ici, on ne va garder que les 10 colonnes les plus importantes"
   ]
  },
  {
   "cell_type": "code",
   "execution_count": 62,
   "id": "c8569b5b",
   "metadata": {
    "execution": {
     "iopub.execute_input": "2021-08-26T20:25:55.826523Z",
     "iopub.status.busy": "2021-08-26T20:25:55.825807Z",
     "iopub.status.idle": "2021-08-26T20:25:55.828564Z",
     "shell.execute_reply": "2021-08-26T20:25:55.827980Z",
     "shell.execute_reply.started": "2021-08-26T07:35:51.75212Z"
    },
    "papermill": {
     "duration": 0.122157,
     "end_time": "2021-08-26T20:25:55.828705",
     "exception": false,
     "start_time": "2021-08-26T20:25:55.706548",
     "status": "completed"
    },
    "tags": []
   },
   "outputs": [],
   "source": [
    "# On ne garde que les 10 colonnes les plus importantes\n",
    "arg_importances_sorted = arg_importances[14:][::-1]\n",
    "\n",
    "X_train_5 = X_train_4.iloc[:, arg_importances_sorted]\n",
    "y_train_5 = y_train_2.copy()"
   ]
  },
  {
   "cell_type": "markdown",
   "id": "1a828300",
   "metadata": {
    "papermill": {
     "duration": 0.112192,
     "end_time": "2021-08-26T20:25:56.052853",
     "exception": false,
     "start_time": "2021-08-26T20:25:55.940661",
     "status": "completed"
    },
    "tags": []
   },
   "source": [
    "Voici les 10 colonnes (features) les plus importantes du dataset"
   ]
  },
  {
   "cell_type": "code",
   "execution_count": 63,
   "id": "e1fea658",
   "metadata": {
    "execution": {
     "iopub.execute_input": "2021-08-26T20:25:56.279137Z",
     "iopub.status.busy": "2021-08-26T20:25:56.278488Z",
     "iopub.status.idle": "2021-08-26T20:25:56.283950Z",
     "shell.execute_reply": "2021-08-26T20:25:56.284565Z",
     "shell.execute_reply.started": "2021-08-26T07:35:59.591837Z"
    },
    "papermill": {
     "duration": 0.119615,
     "end_time": "2021-08-26T20:25:56.284751",
     "exception": false,
     "start_time": "2021-08-26T20:25:56.165136",
     "status": "completed"
    },
    "tags": []
   },
   "outputs": [
    {
     "data": {
      "text/plain": [
       "Index(['Listing Number', 'Town', 'Listing Date', 'Floor Size', 'Erf Size',\n",
       "       'Bedrooms', 'Bathrooms', 'Parking', 'Garages', 'Garden'],\n",
       "      dtype='object')"
      ]
     },
     "execution_count": 63,
     "metadata": {},
     "output_type": "execute_result"
    }
   ],
   "source": [
    "X_train_5.columns"
   ]
  },
  {
   "cell_type": "markdown",
   "id": "2d8d1564",
   "metadata": {
    "papermill": {
     "duration": 0.111927,
     "end_time": "2021-08-26T20:25:56.525955",
     "exception": false,
     "start_time": "2021-08-26T20:25:56.414028",
     "status": "completed"
    },
    "tags": []
   },
   "source": [
    "# Training for selected features"
   ]
  },
  {
   "cell_type": "markdown",
   "id": "0e1c02c0",
   "metadata": {
    "papermill": {
     "duration": 0.111484,
     "end_time": "2021-08-26T20:25:56.749150",
     "exception": false,
     "start_time": "2021-08-26T20:25:56.637666",
     "status": "completed"
    },
    "tags": []
   },
   "source": [
    "On utilise un stacked modèle (modèle empilé) pour avoir une meilleure performance des modèles suivants:\n",
    "* Ridge\n",
    "* Lasso\n",
    "* Linear Regression\n",
    "* XGboost\n",
    "* RandomForest"
   ]
  },
  {
   "cell_type": "code",
   "execution_count": 64,
   "id": "9a6e5e20",
   "metadata": {
    "execution": {
     "iopub.execute_input": "2021-08-26T20:25:56.979511Z",
     "iopub.status.busy": "2021-08-26T20:25:56.978835Z",
     "iopub.status.idle": "2021-08-26T20:25:56.984798Z",
     "shell.execute_reply": "2021-08-26T20:25:56.984242Z",
     "shell.execute_reply.started": "2021-08-26T07:37:03.921929Z"
    },
    "papermill": {
     "duration": 0.121544,
     "end_time": "2021-08-26T20:25:56.984956",
     "exception": false,
     "start_time": "2021-08-26T20:25:56.863412",
     "status": "completed"
    },
    "tags": []
   },
   "outputs": [],
   "source": [
    "r_forest = RandomForestRegressor(n_estimators=100, random_state=1)\n",
    "ridge = Ridge()\n",
    "linear = LinearRegression()\n",
    "lasso = Lasso()\n",
    "xgboost_model = XGBRegressor()"
   ]
  },
  {
   "cell_type": "code",
   "execution_count": 65,
   "id": "8dd4e5ff",
   "metadata": {
    "execution": {
     "iopub.execute_input": "2021-08-26T20:25:57.214684Z",
     "iopub.status.busy": "2021-08-26T20:25:57.213622Z",
     "iopub.status.idle": "2021-08-26T20:25:57.215914Z",
     "shell.execute_reply": "2021-08-26T20:25:57.216434Z",
     "shell.execute_reply.started": "2021-08-26T07:37:05.848653Z"
    },
    "papermill": {
     "duration": 0.119877,
     "end_time": "2021-08-26T20:25:57.216605",
     "exception": false,
     "start_time": "2021-08-26T20:25:57.096728",
     "status": "completed"
    },
    "tags": []
   },
   "outputs": [],
   "source": [
    "estimators = [\n",
    "    ('linear regression', linear),\n",
    "    ('ridge', ridge),\n",
    "    ('lasso', lasso),\n",
    "    ('XGboost', xgboost_model)\n",
    "]\n",
    "\n",
    "reg = StackingRegressor(estimators=estimators,\n",
    "                        final_estimator=r_forest)\n"
   ]
  },
  {
   "cell_type": "code",
   "execution_count": 66,
   "id": "ad22526f",
   "metadata": {
    "execution": {
     "iopub.execute_input": "2021-08-26T20:25:57.445063Z",
     "iopub.status.busy": "2021-08-26T20:25:57.443955Z",
     "iopub.status.idle": "2021-08-26T20:26:47.657807Z",
     "shell.execute_reply": "2021-08-26T20:26:47.658339Z",
     "shell.execute_reply.started": "2021-08-26T07:37:07.762138Z"
    },
    "papermill": {
     "duration": 50.33026,
     "end_time": "2021-08-26T20:26:47.658521",
     "exception": false,
     "start_time": "2021-08-26T20:25:57.328261",
     "status": "completed"
    },
    "tags": []
   },
   "outputs": [
    {
     "name": "stdout",
     "output_type": "stream",
     "text": [
      "Final scores [0.28586884 0.25622297 0.19834971 0.180302   0.21826174 0.19806928\n",
      " 0.16895571 0.18352571 0.1861243  0.19944539]\n",
      "Final score mean 0.20751256528784853\n"
     ]
    }
   ],
   "source": [
    "final_scores = -1 * cross_val_score(reg, X_train_5, y_train_5, cv=10, \n",
    "                                scoring='neg_mean_squared_log_error')\n",
    "print(\"Final scores\", final_scores)\n",
    "print(\"Final score mean\", final_scores.mean())"
   ]
  },
  {
   "cell_type": "code",
   "execution_count": 67,
   "id": "1ee09c75",
   "metadata": {
    "execution": {
     "iopub.execute_input": "2021-08-26T20:26:47.888019Z",
     "iopub.status.busy": "2021-08-26T20:26:47.887363Z",
     "iopub.status.idle": "2021-08-26T20:26:47.891360Z",
     "shell.execute_reply": "2021-08-26T20:26:47.890793Z",
     "shell.execute_reply.started": "2021-08-26T07:38:15.562617Z"
    },
    "papermill": {
     "duration": 0.121297,
     "end_time": "2021-08-26T20:26:47.891500",
     "exception": false,
     "start_time": "2021-08-26T20:26:47.770203",
     "status": "completed"
    },
    "tags": []
   },
   "outputs": [
    {
     "name": "stdout",
     "output_type": "stream",
     "text": [
      "Final score with RMSLE 0.4555354709436451\n"
     ]
    }
   ],
   "source": [
    "print(\"Final score with RMSLE\", math.sqrt(final_scores.mean()))"
   ]
  },
  {
   "cell_type": "code",
   "execution_count": 68,
   "id": "c59c0e50",
   "metadata": {
    "execution": {
     "iopub.execute_input": "2021-08-26T20:26:48.122539Z",
     "iopub.status.busy": "2021-08-26T20:26:48.121794Z",
     "iopub.status.idle": "2021-08-26T20:26:48.170427Z",
     "shell.execute_reply": "2021-08-26T20:26:48.169866Z",
     "shell.execute_reply.started": "2021-08-26T07:38:18.306997Z"
    },
    "papermill": {
     "duration": 0.16452,
     "end_time": "2021-08-26T20:26:48.170571",
     "exception": false,
     "start_time": "2021-08-26T20:26:48.006051",
     "status": "completed"
    },
    "tags": []
   },
   "outputs": [],
   "source": [
    "X_test_1 = preprocessor.fit_transform(X_test, y_test)\n",
    "X_test_1 = pd.DataFrame(X_test_1, columns=cols)\n",
    "X_test_1 = X_test_1.loc[:, X_train_5.columns]"
   ]
  },
  {
   "cell_type": "code",
   "execution_count": 69,
   "id": "ab9ec788",
   "metadata": {
    "execution": {
     "iopub.execute_input": "2021-08-26T20:26:48.403747Z",
     "iopub.status.busy": "2021-08-26T20:26:48.403095Z",
     "iopub.status.idle": "2021-08-26T20:26:53.665509Z",
     "shell.execute_reply": "2021-08-26T20:26:53.664554Z",
     "shell.execute_reply.started": "2021-08-26T07:38:20.555524Z"
    },
    "papermill": {
     "duration": 5.383175,
     "end_time": "2021-08-26T20:26:53.665711",
     "exception": false,
     "start_time": "2021-08-26T20:26:48.282536",
     "status": "completed"
    },
    "tags": []
   },
   "outputs": [
    {
     "data": {
      "text/plain": [
       "StackingRegressor(estimators=[('linear regression', LinearRegression()),\n",
       "                              ('ridge', Ridge()), ('lasso', Lasso()),\n",
       "                              ('XGboost',\n",
       "                               XGBRegressor(base_score=None, booster=None,\n",
       "                                            colsample_bylevel=None,\n",
       "                                            colsample_bynode=None,\n",
       "                                            colsample_bytree=None, gamma=None,\n",
       "                                            gpu_id=None, importance_type='gain',\n",
       "                                            interaction_constraints=None,\n",
       "                                            learning_rate=None,\n",
       "                                            max_delta_step=None, max_depth=None,\n",
       "                                            min_child_weight=None, missing=nan,\n",
       "                                            monotone_constraints=None,\n",
       "                                            n_estimators=100, n_jobs=None,\n",
       "                                            num_parallel_tree=None,\n",
       "                                            random_state=None, reg_alpha=None,\n",
       "                                            reg_lambda=None,\n",
       "                                            scale_pos_weight=None,\n",
       "                                            subsample=None, tree_method=None,\n",
       "                                            validate_parameters=None,\n",
       "                                            verbosity=None))],\n",
       "                  final_estimator=RandomForestRegressor(random_state=1))"
      ]
     },
     "execution_count": 69,
     "metadata": {},
     "output_type": "execute_result"
    }
   ],
   "source": [
    "reg.fit(X_train_5, y_train_5)"
   ]
  },
  {
   "cell_type": "code",
   "execution_count": 70,
   "id": "7fccda46",
   "metadata": {
    "execution": {
     "iopub.execute_input": "2021-08-26T20:26:53.899970Z",
     "iopub.status.busy": "2021-08-26T20:26:53.898761Z",
     "iopub.status.idle": "2021-08-26T20:26:54.020365Z",
     "shell.execute_reply": "2021-08-26T20:26:54.021262Z",
     "shell.execute_reply.started": "2021-08-26T07:38:29.319146Z"
    },
    "papermill": {
     "duration": 0.242712,
     "end_time": "2021-08-26T20:26:54.021533",
     "exception": false,
     "start_time": "2021-08-26T20:26:53.778821",
     "status": "completed"
    },
    "tags": []
   },
   "outputs": [],
   "source": [
    "final_preds = reg.predict(X_test_1)"
   ]
  },
  {
   "cell_type": "code",
   "execution_count": 71,
   "id": "0333c955",
   "metadata": {
    "execution": {
     "iopub.execute_input": "2021-08-26T20:26:54.262315Z",
     "iopub.status.busy": "2021-08-26T20:26:54.261262Z",
     "iopub.status.idle": "2021-08-26T20:26:54.265902Z",
     "shell.execute_reply": "2021-08-26T20:26:54.266466Z",
     "shell.execute_reply.started": "2021-08-26T07:38:30.7848Z"
    },
    "papermill": {
     "duration": 0.129588,
     "end_time": "2021-08-26T20:26:54.266656",
     "exception": false,
     "start_time": "2021-08-26T20:26:54.137068",
     "status": "completed"
    },
    "tags": []
   },
   "outputs": [
    {
     "name": "stdout",
     "output_type": "stream",
     "text": [
      "Final scores with RMSLE 0.5022299204118492\n"
     ]
    }
   ],
   "source": [
    "final_score_preds = mean_squared_log_error(y_test, final_preds)\n",
    "print(\"Final scores with RMSLE\", math.sqrt(final_score_preds))"
   ]
  },
  {
   "cell_type": "markdown",
   "id": "7111662f",
   "metadata": {
    "papermill": {
     "duration": 0.112692,
     "end_time": "2021-08-26T20:26:54.494055",
     "exception": false,
     "start_time": "2021-08-26T20:26:54.381363",
     "status": "completed"
    },
    "tags": []
   },
   "source": [
    "### Conclusion\n",
    "Le score n'est toujours pas meilleur que celui de notre base modèle Random Forest du début. Cela peut vouloir dire qu'on a une meilleure prediction avec tous les features présents car on a plus d'informations sur lesquelles basées nos prédictions"
   ]
  },
  {
   "cell_type": "markdown",
   "id": "38fe8daf",
   "metadata": {
    "papermill": {
     "duration": 0.113949,
     "end_time": "2021-08-26T20:26:54.723001",
     "exception": false,
     "start_time": "2021-08-26T20:26:54.609052",
     "status": "completed"
    },
    "tags": []
   },
   "source": [
    "# Interpretable model"
   ]
  },
  {
   "cell_type": "markdown",
   "id": "4b9395d5",
   "metadata": {
    "papermill": {
     "duration": 0.112939,
     "end_time": "2021-08-26T20:26:54.949804",
     "exception": false,
     "start_time": "2021-08-26T20:26:54.836865",
     "status": "completed"
    },
    "tags": []
   },
   "source": [
    "Nous allons utiliser un modèle Decision tree ici pour l'interprétabilité de ce modèle"
   ]
  },
  {
   "cell_type": "markdown",
   "id": "c7ea99fd",
   "metadata": {
    "papermill": {
     "duration": 0.113669,
     "end_time": "2021-08-26T20:26:55.176284",
     "exception": false,
     "start_time": "2021-08-26T20:26:55.062615",
     "status": "completed"
    },
    "tags": []
   },
   "source": [
    "Source: https://www.kaggle.com/gauravduttakiit/hyperparameter-tuning-in-decision-trees"
   ]
  },
  {
   "cell_type": "code",
   "execution_count": 72,
   "id": "d783fdab",
   "metadata": {
    "execution": {
     "iopub.execute_input": "2021-08-26T20:26:55.409448Z",
     "iopub.status.busy": "2021-08-26T20:26:55.408747Z",
     "iopub.status.idle": "2021-08-26T20:26:56.529223Z",
     "shell.execute_reply": "2021-08-26T20:26:56.528635Z",
     "shell.execute_reply.started": "2021-08-26T08:27:09.180949Z"
    },
    "papermill": {
     "duration": 1.24036,
     "end_time": "2021-08-26T20:26:56.529366",
     "exception": false,
     "start_time": "2021-08-26T20:26:55.289006",
     "status": "completed"
    },
    "tags": []
   },
   "outputs": [
    {
     "name": "stderr",
     "output_type": "stream",
     "text": [
      "/opt/conda/lib/python3.7/site-packages/sklearn/model_selection/_split.py:672: UserWarning: The least populated class in y has only 1 members, which is less than n_splits=10.\n",
      "  % (min_groups, self.n_splits)), UserWarning)\n"
     ]
    },
    {
     "name": "stdout",
     "output_type": "stream",
     "text": [
      "Decision Tree scores [0.33410172 0.37087796 0.33437111 0.34009378 0.31953229 0.30553284\n",
      " 0.34724392 0.32604103 0.31372271 0.30370336]\n",
      "Decision Tree mean score 0.32952207272312134\n",
      "Decision Tree mean score with RMSLE after training 0.5740401316311616\n"
     ]
    }
   ],
   "source": [
    "dt = DecisionTreeClassifier(max_depth=3)\n",
    "\n",
    "scores_dt = -1 * cross_val_score(dt, X_train_4, y_train_2, cv=10, \n",
    "                                scoring='neg_mean_squared_log_error')\n",
    "print(\"Decision Tree scores\", scores_dt)\n",
    "print(\"Decision Tree mean score\", scores_dt.mean())\n",
    "print(\"Decision Tree mean score with RMSLE after training\", math.sqrt(scores_dt.mean()))"
   ]
  },
  {
   "cell_type": "markdown",
   "id": "5ba6bfa4",
   "metadata": {
    "papermill": {
     "duration": 0.113884,
     "end_time": "2021-08-26T20:26:56.757558",
     "exception": false,
     "start_time": "2021-08-26T20:26:56.643674",
     "status": "completed"
    },
    "tags": []
   },
   "source": [
    "Comme attendu, le score n'est pas très bon. Par contre, avec le graphe ci-dessous, il est très facile de comprendre ce qui se passe avec l'arbre de décision"
   ]
  },
  {
   "cell_type": "code",
   "execution_count": 73,
   "id": "a2cc7b5b",
   "metadata": {
    "execution": {
     "iopub.execute_input": "2021-08-26T20:26:56.990470Z",
     "iopub.status.busy": "2021-08-26T20:26:56.989791Z",
     "iopub.status.idle": "2021-08-26T20:26:57.110800Z",
     "shell.execute_reply": "2021-08-26T20:26:57.110150Z",
     "shell.execute_reply.started": "2021-08-26T08:32:31.689641Z"
    },
    "papermill": {
     "duration": 0.24021,
     "end_time": "2021-08-26T20:26:57.110959",
     "exception": false,
     "start_time": "2021-08-26T20:26:56.870749",
     "status": "completed"
    },
    "tags": []
   },
   "outputs": [
    {
     "data": {
      "text/plain": [
       "DecisionTreeClassifier(max_depth=3)"
      ]
     },
     "execution_count": 73,
     "metadata": {},
     "output_type": "execute_result"
    }
   ],
   "source": [
    "dt.fit(X_train_4, y_train_2)"
   ]
  },
  {
   "cell_type": "code",
   "execution_count": 74,
   "id": "8d101ee9",
   "metadata": {
    "execution": {
     "iopub.execute_input": "2021-08-26T20:26:57.383123Z",
     "iopub.status.busy": "2021-08-26T20:26:57.371367Z",
     "iopub.status.idle": "2021-08-26T20:26:58.557703Z",
     "shell.execute_reply": "2021-08-26T20:26:58.557044Z",
     "shell.execute_reply.started": "2021-08-26T08:34:26.319181Z"
    },
    "papermill": {
     "duration": 1.333148,
     "end_time": "2021-08-26T20:26:58.557835",
     "exception": false,
     "start_time": "2021-08-26T20:26:57.224687",
     "status": "completed"
    },
    "tags": []
   },
   "outputs": [
    {
     "data": {
      "image/png": "[encoded data removed]",
      "text/plain": [
       "<Figure size 1800x1440 with 1 Axes>"
      ]
     },
     "metadata": {
      "needs_background": "light"
     },
     "output_type": "display_data"
    }
   ],
   "source": [
    "from sklearn import tree\n",
    "\n",
    "fig = plt.figure(figsize=(25,20))\n",
    "_ = tree.plot_tree(dt,\n",
    "                   feature_names=X_train_4.columns)"
   ]
  },
  {
   "cell_type": "markdown",
   "id": "3f7a6635",
   "metadata": {
    "papermill": {
     "duration": 0.117403,
     "end_time": "2021-08-26T20:26:58.792814",
     "exception": false,
     "start_time": "2021-08-26T20:26:58.675411",
     "status": "completed"
    },
    "tags": []
   },
   "source": [
    "### Decision Tree Hyperparameters tuning"
   ]
  },
  {
   "cell_type": "code",
   "execution_count": 75,
   "id": "035bc191",
   "metadata": {
    "execution": {
     "iopub.execute_input": "2021-08-26T20:26:59.035430Z",
     "iopub.status.busy": "2021-08-26T20:26:59.034740Z",
     "iopub.status.idle": "2021-08-26T20:26:59.037734Z",
     "shell.execute_reply": "2021-08-26T20:26:59.037215Z"
    },
    "papermill": {
     "duration": 0.127273,
     "end_time": "2021-08-26T20:26:59.037872",
     "exception": false,
     "start_time": "2021-08-26T20:26:58.910599",
     "status": "completed"
    },
    "tags": []
   },
   "outputs": [],
   "source": [
    "dt_2 = DecisionTreeClassifier(random_state=42)\n",
    " \n",
    "params = {\n",
    "    'max_depth': [2, 3, 5, 10, 20],\n",
    "    'min_samples_leaf': [5, 10, 20, 50, 100],\n",
    "    'criterion': [\"gini\", \"entropy\"]\n",
    "}\n",
    "\n",
    "grid_search_tree = GridSearchCV(estimator = dt_2, param_grid = params, \n",
    "                          cv = 10, n_jobs = -1, verbose = 2)"
   ]
  },
  {
   "cell_type": "code",
   "execution_count": 76,
   "id": "dc3ea014",
   "metadata": {
    "execution": {
     "iopub.execute_input": "2021-08-26T20:26:59.277127Z",
     "iopub.status.busy": "2021-08-26T20:26:59.276452Z",
     "iopub.status.idle": "2021-08-26T20:29:21.449312Z",
     "shell.execute_reply": "2021-08-26T20:29:21.448717Z"
    },
    "papermill": {
     "duration": 142.29384,
     "end_time": "2021-08-26T20:29:21.449462",
     "exception": false,
     "start_time": "2021-08-26T20:26:59.155622",
     "status": "completed"
    },
    "tags": []
   },
   "outputs": [
    {
     "name": "stdout",
     "output_type": "stream",
     "text": [
      "Fitting 10 folds for each of 50 candidates, totalling 500 fits\n"
     ]
    },
    {
     "name": "stderr",
     "output_type": "stream",
     "text": [
      "/opt/conda/lib/python3.7/site-packages/sklearn/model_selection/_split.py:672: UserWarning: The least populated class in y has only 1 members, which is less than n_splits=10.\n",
      "  % (min_groups, self.n_splits)), UserWarning)\n",
      "[Parallel(n_jobs=-1)]: Using backend LokyBackend with 4 concurrent workers.\n",
      "[Parallel(n_jobs=-1)]: Done  58 tasks      | elapsed:    1.8s\n",
      "[Parallel(n_jobs=-1)]: Done 266 tasks      | elapsed:   23.5s\n",
      "[Parallel(n_jobs=-1)]: Done 469 tasks      | elapsed:  2.1min\n",
      "[Parallel(n_jobs=-1)]: Done 500 out of 500 | elapsed:  2.3min finished\n"
     ]
    },
    {
     "data": {
      "text/plain": [
       "GridSearchCV(cv=10, estimator=DecisionTreeClassifier(random_state=42),\n",
       "             n_jobs=-1,\n",
       "             param_grid={'criterion': ['gini', 'entropy'],\n",
       "                         'max_depth': [2, 3, 5, 10, 20],\n",
       "                         'min_samples_leaf': [5, 10, 20, 50, 100]},\n",
       "             verbose=2)"
      ]
     },
     "execution_count": 76,
     "metadata": {},
     "output_type": "execute_result"
    }
   ],
   "source": [
    "grid_search_tree.fit(X_train_4, y_train_2)"
   ]
  },
  {
   "cell_type": "code",
   "execution_count": 77,
   "id": "60c22ad6",
   "metadata": {
    "execution": {
     "iopub.execute_input": "2021-08-26T20:29:21.695839Z",
     "iopub.status.busy": "2021-08-26T20:29:21.695156Z",
     "iopub.status.idle": "2021-08-26T20:29:21.699667Z",
     "shell.execute_reply": "2021-08-26T20:29:21.699024Z"
    },
    "papermill": {
     "duration": 0.130129,
     "end_time": "2021-08-26T20:29:21.699806",
     "exception": false,
     "start_time": "2021-08-26T20:29:21.569677",
     "status": "completed"
    },
    "tags": []
   },
   "outputs": [
    {
     "data": {
      "text/plain": [
       "{'criterion': 'entropy', 'max_depth': 20, 'min_samples_leaf': 5}"
      ]
     },
     "execution_count": 77,
     "metadata": {},
     "output_type": "execute_result"
    }
   ],
   "source": [
    "grid_search_tree.best_params_"
   ]
  },
  {
   "cell_type": "code",
   "execution_count": 78,
   "id": "c5ad01d3",
   "metadata": {
    "execution": {
     "iopub.execute_input": "2021-08-26T20:29:21.982945Z",
     "iopub.status.busy": "2021-08-26T20:29:21.977154Z",
     "iopub.status.idle": "2021-08-26T20:31:49.741451Z",
     "shell.execute_reply": "2021-08-26T20:31:49.742013Z"
    },
    "papermill": {
     "duration": 147.920237,
     "end_time": "2021-08-26T20:31:49.742219",
     "exception": false,
     "start_time": "2021-08-26T20:29:21.821982",
     "status": "completed"
    },
    "tags": []
   },
   "outputs": [
    {
     "data": {
      "image/png": "[encoded data removed]",
      "text/plain": [
       "<Figure size 1800x1440 with 1 Axes>"
      ]
     },
     "metadata": {
      "needs_background": "light"
     },
     "output_type": "display_data"
    }
   ],
   "source": [
    "fig2 = plt.figure(figsize=(25,20))\n",
    "_ = tree.plot_tree(grid_search_tree.best_estimator_,\n",
    "                   feature_names=X_train_4.columns)"
   ]
  },
  {
   "cell_type": "code",
   "execution_count": 79,
   "id": "05e15e95",
   "metadata": {
    "execution": {
     "iopub.execute_input": "2021-08-26T20:31:50.010652Z",
     "iopub.status.busy": "2021-08-26T20:31:50.009872Z",
     "iopub.status.idle": "2021-08-26T20:31:50.021171Z",
     "shell.execute_reply": "2021-08-26T20:31:50.021648Z"
    },
    "papermill": {
     "duration": 0.150113,
     "end_time": "2021-08-26T20:31:50.021826",
     "exception": false,
     "start_time": "2021-08-26T20:31:49.871713",
     "status": "completed"
    },
    "tags": []
   },
   "outputs": [
    {
     "name": "stdout",
     "output_type": "stream",
     "text": [
      "Final score with hyperparameters tunned with gridsearch  0.6849773632780527\n"
     ]
    }
   ],
   "source": [
    "grid_preds_tree = grid_search_tree.best_estimator_.predict(X_test_1_1)\n",
    "grid_score_tree = mean_squared_log_error(y_test, grid_preds_tree)\n",
    "print(\"Final score with hyperparameters tunned with gridsearch \", math.sqrt(grid_score_tree))"
   ]
  }
 ],
 "metadata": {
  "kernelspec": {
   "display_name": "Python 3",
   "language": "python",
   "name": "python3"
  },
  "language_info": {
   "codemirror_mode": {
    "name": "ipython",
    "version": 3
   },
   "file_extension": ".py",
   "mimetype": "text/x-python",
   "name": "python",
   "nbconvert_exporter": "python",
   "pygments_lexer": "ipython3",
   "version": "3.7.10"
  },
  "papermill": {
   "default_parameters": {},
   "duration": 10078.726133,
   "end_time": "2021-08-26T20:31:52.487249",
   "environment_variables": {},
   "exception": null,
   "input_path": "__notebook__.ipynb",
   "output_path": "__notebook__.ipynb",
   "parameters": {},
   "start_time": "2021-08-26T17:43:53.761116",
   "version": "2.3.3"
  }
 },
 "nbformat": 4,
 "nbformat_minor": 5
}
