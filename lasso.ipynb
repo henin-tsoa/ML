{
 "cells": [
  {
   "cell_type": "code",
   "execution_count": 1,
   "metadata": {
    "deletable": false,
    "editable": false,
    "nbgrader": {
     "cell_type": "code",
     "checksum": "e1e2e40465642c4fdf199b183cad1aca",
     "grade": false,
     "grade_id": "cell-38b4529793385ad1",
     "locked": true,
     "schema_version": 3,
     "solution": false,
     "task": false
    }
   },
   "outputs": [],
   "source": [
    "from random import randrange\n",
    "import numpy as np\n",
    "from sklearn.metrics import mean_squared_error, log_loss\n",
    "from sklearn.datasets import load_breast_cancer, load_diabetes\n",
    "from sklearn.linear_model import Lasso, LinearRegression\n",
    "from sklearn.preprocessing import normalize\n",
    "\n",
    "\n",
    "def grad_check_sparse(f, x, analytic_grad, num_checks=10, h=1e-5, error=1e-9):\n",
    "    \"\"\"\n",
    "    sample a few random elements and only return numerical\n",
    "    in this dimensions\n",
    "    \"\"\"\n",
    "\n",
    "    for i in range(num_checks):\n",
    "        ix = tuple([randrange(m) for m in x.shape])\n",
    "\n",
    "        oldval = x[ix]\n",
    "        x[ix] = oldval + h  # increment by h\n",
    "        fxph = f(x)  # evaluate f(x + h)\n",
    "        x[ix] = oldval - h  # increment by h\n",
    "        fxmh = f(x)  # evaluate f(x - h)\n",
    "        x[ix] = oldval  # reset\n",
    "\n",
    "        grad_numerical = (fxph - fxmh) / (2 * h)\n",
    "        grad_analytic = analytic_grad[ix]\n",
    "        rel_error = abs(grad_numerical - grad_analytic) / (\n",
    "            abs(grad_numerical) + abs(grad_analytic)\n",
    "        )\n",
    "        print(\n",
    "            \"numerical: %f analytic: %f, relative error: %e\"\n",
    "            % (grad_numerical, grad_analytic, rel_error)\n",
    "        )\n",
    "        assert rel_error < error\n",
    "\n",
    "def rel_error(x, y):\n",
    "    \"\"\" returns relative error \"\"\"\n",
    "    return np.max(np.abs(x - y) / (np.maximum(1e-8, np.abs(x) + np.abs(y))))"
   ]
  },
  {
   "cell_type": "code",
   "execution_count": 2,
   "metadata": {
    "deletable": false,
    "editable": false,
    "nbgrader": {
     "cell_type": "code",
     "checksum": "fece078db4194ca23bff4bd477484c9f",
     "grade": false,
     "grade_id": "cell-2d8d2723a816a3da",
     "locked": true,
     "schema_version": 3,
     "solution": false,
     "task": false
    }
   },
   "outputs": [],
   "source": [
    "data = load_diabetes()\n",
    "X, y = data.data, data.target"
   ]
  },
  {
   "cell_type": "code",
   "execution_count": 3,
   "metadata": {
    "deletable": false,
    "nbgrader": {
     "cell_type": "code",
     "checksum": "4a58f8c2b00062e871c025fe26fd9f14",
     "grade": false,
     "grade_id": "cell-1528a28f467d90c7",
     "locked": false,
     "schema_version": 3,
     "solution": true,
     "task": false
    }
   },
   "outputs": [],
   "source": [
    "def mse_loss_vectorized(w, b, X, y):\n",
    "    \"\"\"\n",
    "    MSE loss function WITHOUT FOR LOOPs , NO REGULARIZATION\n",
    "    \n",
    "    Returns a tuple of:\n",
    "    - loss \n",
    "    - gradient with respect to weights w\n",
    "    - gradient with respect to bias b\n",
    "    \"\"\"\n",
    "    loss = 0.0\n",
    "    dw = np.zeros_like(w)\n",
    "    \n",
    "    loss = (1.0 / len(X)) * (np.linalg.norm(X @ w + b - y, ord=2)) ** 2 \n",
    "    dw = (2.0 / len(X)) * (X @ w + b - y) @ X \n",
    "    db = (2.0 / len(X)) * (X @ w + b - y) @ np.ones(len(X))\n",
    "    \n",
    "    return loss, dw, np.array(db).reshape(1,)"
   ]
  },
  {
   "cell_type": "code",
   "execution_count": 23,
   "metadata": {
    "deletable": false,
    "nbgrader": {
     "cell_type": "code",
     "checksum": "a555de4acfff6e4b6b10deedfcec8a97",
     "grade": false,
     "grade_id": "cell-0317c2a47220a71f",
     "locked": false,
     "schema_version": 3,
     "solution": true,
     "task": false
    }
   },
   "outputs": [],
   "source": [
    "def soft_threshold(x, delta):\n",
    "    if x > delta:\n",
    "        return x - delta\n",
    "    elif abs(x) <= delta:\n",
    "        return 0\n",
    "    elif x < -delta:\n",
    "        return x + delta\n",
    "    else:\n",
    "        return \"error in soft_threshold\""
   ]
  },
  {
   "cell_type": "markdown",
   "metadata": {},
   "source": [
    "# Lasso Subgradient Descent"
   ]
  },
  {
   "cell_type": "code",
   "execution_count": 19,
   "metadata": {
    "deletable": false,
    "nbgrader": {
     "cell_type": "code",
     "checksum": "13377ad3c38d687f1097ea78e67e00d7",
     "grade": false,
     "grade_id": "cell-1f9c055ff5b25c0e",
     "locked": false,
     "schema_version": 3,
     "solution": true,
     "task": false
    }
   },
   "outputs": [],
   "source": [
    "def l1_subgradient(w):\n",
    "    \"\"\"\n",
    "    Subgradient of the L1 loss\n",
    "    \"\"\"\n",
    "    dw = np.zeros_like(w)\n",
    "    # YOUR CODE HERE\n",
    "    # raise NotImplementedError()\n",
    "    dw = np.where(w <= 0, -1, 1)\n",
    "    return dw\n",
    "    \n",
    "\n",
    "def lasso_subgradient_mse_loss_vectorized(w, b, X, y, alpha):\n",
    "    \"\"\"\n",
    "    MSE loss function adding the subgradient for w\n",
    "    \"\"\"\n",
    "    loss, dw, db = mse_loss_vectorized(w, b, X, y)\n",
    "    # Add the subgradient to dw\n",
    "    # YOUR CODE HERE\n",
    "    #raise NotImplementedError()\n",
    "    dw += alpha * l1_subgradient(w)\n",
    "    return loss, dw, db"
   ]
  },
  {
   "cell_type": "code",
   "execution_count": 20,
   "metadata": {
    "deletable": false,
    "nbgrader": {
     "cell_type": "code",
     "checksum": "8f147544f1239cc3a8b31c9de6b9df0d",
     "grade": false,
     "grade_id": "cell-10e416072a8b14f8",
     "locked": false,
     "schema_version": 3,
     "solution": true,
     "task": false
    }
   },
   "outputs": [],
   "source": [
    "class LassolSubgradientDescent():\n",
    "    def __init__(self,  alpha=0.1):\n",
    "        self.w = None\n",
    "        self.b = None\n",
    "        self.alpha = alpha\n",
    "\n",
    "    def train(self, X, y, learning_rate=1e-3, num_iters=100, batch_size=200, verbose=False):\n",
    "        N, d = X.shape\n",
    "        \n",
    "        if self.w is None: # Initialization\n",
    "            self.w = 0.001 * np.random.randn(d)\n",
    "            self.b = 0.0\n",
    "\n",
    "        # Run stochastic gradient descent to optimize w\n",
    "        \n",
    "        loss_history = []\n",
    "        for it in range(num_iters):\n",
    "            X_batch = None\n",
    "            y_batch = None\n",
    "                                                               \n",
    "            # Sample batch_size elements in X_batch and y_batch\n",
    "            # X_batch shape is  (batch_size, d) and y_batch shape is (batch_size,)                                                                                          \n",
    "            # Hint: Use np.random.choice to generate indices\n",
    "            i = np.random.choice(N, batch_size)\n",
    "            X_batch = X[i]\n",
    "            y_batch = y[i]\n",
    "            \n",
    "            # evaluate loss and gradient\n",
    "            loss, dw, db = self.loss(X_batch, y_batch)\n",
    "\n",
    "            # perform parameter update                                                                \n",
    "            # Update the weights w using the gradient and the learning rate.  \n",
    "            # YOUR CODE HERE\n",
    "            # raise NotImplementedError()\n",
    "            self.w = self.w - dw * learning_rate\n",
    "            self.b = self.b - db * learning_rate\n",
    "            \n",
    "            if verbose and it % 10000 == 0:\n",
    "                print(\"iteration %d / %d: loss %f\" % (it, num_iters, loss))\n",
    "    \n",
    "    \n",
    "    def predict(self, X):\n",
    "        # YOUR CODE HERE\n",
    "        # raise NotImplementedError()\n",
    "        return X @ self.w + self.b\n",
    "        \n",
    "    def loss(self, X_batch, y_batch):\n",
    "        return lasso_subgradient_mse_loss_vectorized(self.w, self.b, X_batch, y_batch, self.alpha)"
   ]
  },
  {
   "cell_type": "code",
   "execution_count": 21,
   "metadata": {
    "deletable": false,
    "editable": false,
    "nbgrader": {
     "cell_type": "code",
     "checksum": "afc1e003d52538e82629ca2282c819ba",
     "grade": true,
     "grade_id": "cell-8a6c6c3fea10a22e",
     "locked": true,
     "points": 3,
     "schema_version": 3,
     "solution": false,
     "task": false
    }
   },
   "outputs": [
    {
     "name": "stdout",
     "output_type": "stream",
     "text": [
      "iteration 0 / 200000: loss 29084.441000\n",
      "iteration 10000 / 200000: loss 3325.051135\n",
      "iteration 20000 / 200000: loss 2920.266086\n",
      "iteration 30000 / 200000: loss 2689.382114\n",
      "iteration 40000 / 200000: loss 3262.216206\n",
      "iteration 50000 / 200000: loss 2472.315066\n",
      "iteration 60000 / 200000: loss 3006.465068\n",
      "iteration 70000 / 200000: loss 3271.020721\n",
      "iteration 80000 / 200000: loss 3142.086463\n",
      "iteration 90000 / 200000: loss 3355.231139\n",
      "iteration 100000 / 200000: loss 2990.349893\n",
      "iteration 110000 / 200000: loss 2817.098979\n",
      "iteration 120000 / 200000: loss 2854.323095\n",
      "iteration 130000 / 200000: loss 2900.121413\n",
      "iteration 140000 / 200000: loss 3051.975382\n",
      "iteration 150000 / 200000: loss 3565.336954\n",
      "iteration 160000 / 200000: loss 3007.808465\n",
      "iteration 170000 / 200000: loss 3169.516880\n",
      "iteration 180000 / 200000: loss 3452.520921\n",
      "iteration 190000 / 200000: loss 2617.928033\n",
      "MSE scikit-learn: 2912.521795117546\n",
      "MSE Coordinate descent model : 2888.5590631391706\n"
     ]
    }
   ],
   "source": [
    "model = LassolSubgradientDescent(alpha=0.1)\n",
    "model.train(X, y, learning_rate=1e-2,verbose=True, num_iters=200_000)\n",
    "pred = model.predict(X)\n",
    "mse = mean_squared_error(pred, y)\n",
    "\n",
    "sk_model = Lasso(alpha=0.1, fit_intercept=True)\n",
    "sk_model.fit(X, y)\n",
    "sk_pred = sk_model.predict(X)\n",
    "sk_mse = mean_squared_error(sk_pred, y)\n",
    "\n",
    "print(\"MSE scikit-learn:\", sk_mse)\n",
    "print(\"MSE Coordinate descent model :\", mse)\n",
    "assert mse - sk_mse < 50"
   ]
  },
  {
   "cell_type": "code",
   "execution_count": 22,
   "metadata": {
    "deletable": false,
    "editable": false,
    "nbgrader": {
     "cell_type": "code",
     "checksum": "5014aa1adfb704c0b9a8b597121bed85",
     "grade": true,
     "grade_id": "cell-67638b8b82d2ee79",
     "locked": true,
     "points": 3,
     "schema_version": 3,
     "solution": false,
     "task": false
    }
   },
   "outputs": [
    {
     "name": "stdout",
     "output_type": "stream",
     "text": [
      "iteration 0 / 200000: loss 30308.028815\n",
      "iteration 10000 / 200000: loss 4426.045141\n",
      "iteration 20000 / 200000: loss 3741.705448\n",
      "iteration 30000 / 200000: loss 3991.036258\n",
      "iteration 40000 / 200000: loss 3863.047133\n",
      "iteration 50000 / 200000: loss 3817.124396\n",
      "iteration 60000 / 200000: loss 3991.173946\n",
      "iteration 70000 / 200000: loss 3726.165369\n",
      "iteration 80000 / 200000: loss 3416.234407\n",
      "iteration 90000 / 200000: loss 3956.946075\n",
      "iteration 100000 / 200000: loss 3524.113015\n",
      "iteration 110000 / 200000: loss 4216.585425\n",
      "iteration 120000 / 200000: loss 3627.220743\n",
      "iteration 130000 / 200000: loss 3784.481900\n",
      "iteration 140000 / 200000: loss 3720.478022\n",
      "iteration 150000 / 200000: loss 3818.190933\n",
      "iteration 160000 / 200000: loss 3621.932908\n",
      "iteration 170000 / 200000: loss 3279.170849\n",
      "iteration 180000 / 200000: loss 3950.437527\n",
      "iteration 190000 / 200000: loss 3856.304123\n",
      "MSE scikit-learn: 5650.287416333697\n",
      "MSE Coordinate descent model : 3808.2072903841336\n"
     ]
    }
   ],
   "source": [
    "model = LassolSubgradientDescent(alpha=2)\n",
    "model.train(X, y, learning_rate=1e-2,verbose=True, num_iters=200_000)\n",
    "pred = model.predict(X)\n",
    "mse = mean_squared_error(pred, y)\n",
    "\n",
    "sk_model = Lasso(alpha=2, fit_intercept=True)\n",
    "sk_model.fit(X, y)\n",
    "sk_pred = sk_model.predict(X)\n",
    "sk_mse = mean_squared_error(sk_pred, y)\n",
    "\n",
    "print(\"MSE scikit-learn:\", sk_mse)\n",
    "print(\"MSE Coordinate descent model :\", mse)\n",
    "assert mse - sk_mse < 50"
   ]
  },
  {
   "cell_type": "markdown",
   "metadata": {},
   "source": [
    "# Lasso Proximal Gradient Descent (iterative soft thresholding algorithm or ISTA)"
   ]
  },
  {
   "cell_type": "code",
   "execution_count": 50,
   "metadata": {
    "deletable": false,
    "nbgrader": {
     "cell_type": "code",
     "checksum": "7b58bd5f2fe2a364683285cec3dae2e7",
     "grade": false,
     "grade_id": "cell-7a3567bcf30b2f18",
     "locked": false,
     "schema_version": 3,
     "solution": true,
     "task": false
    }
   },
   "outputs": [],
   "source": [
    "class LassoProximalGradientDescent():\n",
    "    def __init__(self,  alpha=0.1):\n",
    "        self.w = None\n",
    "        self.b = None\n",
    "        self.alpha = alpha\n",
    "\n",
    "    def train(self, X, y, learning_rate=1e-3, num_iters=100, batch_size=200, verbose=False):\n",
    "        N, d = X.shape\n",
    "        \n",
    "        if self.w is None: # Initialization\n",
    "            self.w = 0.001 * np.random.randn(d)\n",
    "            self.b = 0.0\n",
    "\n",
    "        # Run stochastic gradient descent to optimize w\n",
    "        \n",
    "        loss_history = []\n",
    "        for it in range(num_iters):\n",
    "            X_batch = None\n",
    "            y_batch = None\n",
    "                                                               \n",
    "            # Sample batch_size elements in X_batch and y_batch\n",
    "            # X_batch shape is  (batch_size, d) and y_batch shape is (batch_size,)                                                                                          \n",
    "            # Hint: Use np.random.choice to generate indices\n",
    "            # YOUR CODE HERE\n",
    "            # raise NotImplementedError()\n",
    "            i = np.random.choice(N, batch_size)\n",
    "            X_batch = X[i]\n",
    "            y_batch = y[i]\n",
    "            \n",
    "            # evaluate loss and gradient\n",
    "            loss, dw, db = self.loss(X_batch, y_batch)\n",
    "\n",
    "            # perform parameter update                                                                \n",
    "            # Update the weights w using the gradient and the learning rate.  \n",
    "            # PROJECT THE GRADIENT FOR w USING soft_threshold\n",
    "            # YOUR CODE HERE\n",
    "            # raise NotImplementedError()\n",
    "            # self.w = self.w - dw * learning_rate\n",
    "            self.b = self.b - db * learning_rate\n",
    "            for j in range(len(self.w)):\n",
    "                self.w[j] = soft_threshold(self.w[j] - dw[j] * learning_rate, learning_rate * self.alpha)\n",
    "            \n",
    "            if verbose and it % 10000 == 0:\n",
    "                print(\"iteration %d / %d: loss %f\" % (it, num_iters, loss))\n",
    "\n",
    "    def predict(self, X):\n",
    "        # YOUR CODE HERE\n",
    "        #raise NotImplementedError()\n",
    "        return X @ self.w + self.b\n",
    "\n",
    "    def loss(self, X_batch, y_batch):\n",
    "        return mse_loss_vectorized(self.w, self.b, X_batch, y_batch)"
   ]
  },
  {
   "cell_type": "code",
   "execution_count": 51,
   "metadata": {
    "deletable": false,
    "editable": false,
    "nbgrader": {
     "cell_type": "code",
     "checksum": "bc9f465d5c28afa8d682d76852df6218",
     "grade": true,
     "grade_id": "cell-e12e8a6bae8e7b5c",
     "locked": true,
     "points": 3,
     "schema_version": 3,
     "solution": false,
     "task": false
    }
   },
   "outputs": [
    {
     "name": "stdout",
     "output_type": "stream",
     "text": [
      "iteration 0 / 200000: loss 27763.485913\n",
      "iteration 10000 / 200000: loss 3895.628457\n",
      "iteration 20000 / 200000: loss 3048.950470\n",
      "iteration 30000 / 200000: loss 2557.222497\n",
      "iteration 40000 / 200000: loss 2630.101896\n",
      "iteration 50000 / 200000: loss 2903.025772\n",
      "iteration 60000 / 200000: loss 2753.424484\n",
      "iteration 70000 / 200000: loss 3182.598740\n",
      "iteration 80000 / 200000: loss 2924.720647\n",
      "iteration 90000 / 200000: loss 2785.552882\n",
      "iteration 100000 / 200000: loss 2540.413656\n",
      "iteration 110000 / 200000: loss 2903.632166\n",
      "iteration 120000 / 200000: loss 2496.911586\n",
      "iteration 130000 / 200000: loss 2806.412581\n",
      "iteration 140000 / 200000: loss 2587.501825\n",
      "iteration 150000 / 200000: loss 2778.105739\n",
      "iteration 160000 / 200000: loss 3165.354891\n",
      "iteration 170000 / 200000: loss 3119.247905\n",
      "iteration 180000 / 200000: loss 3031.266637\n",
      "iteration 190000 / 200000: loss 3151.056374\n",
      "MSE scikit-learn: 2912.521795117546\n",
      "MSE Coordinate descent model : 2888.7069400785517\n"
     ]
    }
   ],
   "source": [
    "model = LassoProximalGradientDescent(alpha=0.1)\n",
    "model.train(X, y, learning_rate=1e-2,verbose=True, num_iters=200_000)\n",
    "pred = model.predict(X)\n",
    "mse= mean_squared_error(pred, y)\n",
    "\n",
    "sk_model = Lasso(alpha=0.1, fit_intercept=True)\n",
    "sk_model.fit(X, y)\n",
    "sk_pred = sk_model.predict(X)\n",
    "sk_mse = mean_squared_error(sk_pred, y)\n",
    "\n",
    "print(\"MSE scikit-learn:\", sk_mse)\n",
    "print(\"MSE Coordinate descent model :\", mse)\n",
    "assert mse - sk_mse < 50"
   ]
  },
  {
   "cell_type": "code",
   "execution_count": 47,
   "metadata": {
    "deletable": false,
    "editable": false,
    "nbgrader": {
     "cell_type": "code",
     "checksum": "492b972e858ad56355406357894884a3",
     "grade": true,
     "grade_id": "cell-a25ecff481c69c72",
     "locked": true,
     "points": 3,
     "schema_version": 3,
     "solution": false,
     "task": false
    }
   },
   "outputs": [
    {
     "name": "stdout",
     "output_type": "stream",
     "text": [
      "iteration 0 / 200000: loss 31788.681539\n",
      "iteration 10000 / 200000: loss 4689.811699\n",
      "iteration 20000 / 200000: loss 3698.230181\n",
      "iteration 30000 / 200000: loss 4069.194737\n",
      "iteration 40000 / 200000: loss 3730.518009\n",
      "iteration 50000 / 200000: loss 4014.043251\n",
      "iteration 60000 / 200000: loss 3537.864196\n",
      "iteration 70000 / 200000: loss 3792.785780\n",
      "iteration 80000 / 200000: loss 4411.820840\n",
      "iteration 90000 / 200000: loss 3959.730354\n",
      "iteration 100000 / 200000: loss 3626.720853\n",
      "iteration 110000 / 200000: loss 3741.176104\n",
      "iteration 120000 / 200000: loss 3550.444875\n",
      "iteration 130000 / 200000: loss 3513.039465\n",
      "iteration 140000 / 200000: loss 3526.970384\n",
      "iteration 150000 / 200000: loss 3504.057635\n",
      "iteration 160000 / 200000: loss 3439.984244\n",
      "iteration 170000 / 200000: loss 3482.916262\n",
      "iteration 180000 / 200000: loss 3516.905432\n",
      "iteration 190000 / 200000: loss 4133.374563\n",
      "MSE scikit-learn: 5650.287416333697\n",
      "MSE Coordinate descent model : 3811.455529512126\n"
     ]
    }
   ],
   "source": [
    "model = LassoProximalGradientDescent(alpha=2)\n",
    "model.train(X, y, learning_rate=1e-2,verbose=True, num_iters=200_000)\n",
    "pred = model.predict(X)\n",
    "mse= mean_squared_error(pred, y)\n",
    "\n",
    "sk_model = Lasso(alpha=2, fit_intercept=True)\n",
    "sk_model.fit(X, y)\n",
    "sk_pred = sk_model.predict(X)\n",
    "sk_mse = mean_squared_error(sk_pred, y)\n",
    "\n",
    "print(\"MSE scikit-learn:\", sk_mse)\n",
    "print(\"MSE Coordinate descent model :\", mse)\n",
    "assert mse - sk_mse < 50"
   ]
  },
  {
   "cell_type": "markdown",
   "metadata": {},
   "source": [
    "# Lasso Projected Gradient Descent"
   ]
  },
  {
   "cell_type": "code",
   "execution_count": 40,
   "metadata": {
    "deletable": false,
    "nbgrader": {
     "cell_type": "code",
     "checksum": "aa6df72eb9b273f99ec243c076780b62",
     "grade": false,
     "grade_id": "cell-f3bad6c8edcb61e4",
     "locked": false,
     "schema_version": 3,
     "solution": true,
     "task": false
    }
   },
   "outputs": [],
   "source": [
    "class LassoProjectedGradientDescent():\n",
    "    def __init__(self,  alpha=0.1):\n",
    "        self.w_p = None\n",
    "        self.w_n = None\n",
    "        self.b = None\n",
    "        self.alpha = alpha\n",
    "\n",
    "    def train(self, X, y, learning_rate=1e-3, num_iters=100, batch_size=200, verbose=False):\n",
    "        N, d = X.shape\n",
    "        \n",
    "        if self.w_p is None: # Initialization\n",
    "            self.w_p = 0.001 * np.random.randn(d)\n",
    "            self.w_n = 0.001 * np.random.randn(d)\n",
    "            self.b = 0.0\n",
    "\n",
    "        # Run stochastic gradient descent to optimize w\n",
    "        \n",
    "        loss_history = []\n",
    "        for it in range(num_iters):\n",
    "            X_batch = None\n",
    "            y_batch = None\n",
    "                                                               \n",
    "            # Sample batch_size elements in X_batch and y_batch\n",
    "            # X_batch shape is  (batch_size, d) and y_batch shape is (batch_size,)                                                                                          \n",
    "            # Hint: Use np.random.choice to generate indices\n",
    "            # YOUR CODE HERE\n",
    "            # raise NotImplementedError()\n",
    "            i = np.random.choice(N, batch_size)\n",
    "            X_batch = X[i]\n",
    "            y_batch = y[i]\n",
    "            \n",
    "            # evaluate loss and gradient\n",
    "            loss, dw, db = self.loss(X_batch, y_batch)\n",
    "\n",
    "            # perform parameter update                                                                \n",
    "            # Update the weights w using the gradient and the learning rate.  \n",
    "            # Project for w_p and w_n\n",
    "            # YOUR CODE HERE\n",
    "            # raise NotImplementedError()\n",
    "            w = (self.w_p - self.w_n) - dw * learning_rate\n",
    "            self.w_p = np.maximum(w, 0)\n",
    "            self.w_n = np.maximum(-w, 0)\n",
    "            self.b = self.b - db * learning_rate\n",
    "            self.w_p = np.where(self.w_p < 0, 0, self.w_p)\n",
    "            self.w_n = np.where(self.w_n < 0, 0, self.w_n)\n",
    "            \n",
    "            if verbose and it % 10000 == 0:\n",
    "                print(\"iteration %d / %d: loss %f\" % (it, num_iters, loss))\n",
    "\n",
    "    def predict(self, X):\n",
    "        # YOUR CODE HERE\n",
    "        #raise NotImplementedError()\n",
    "        return X @ (self.w_p - self.w_n) + self.b\n",
    "    \n",
    "    def loss(self, X_batch, y_batch):\n",
    "        # YOUR CODE HERE\n",
    "        # raise NotImplementedError()\n",
    "        return lasso_subgradient_mse_loss_vectorized(self.w_p - self.w_n, self.b, X_batch, y_batch, self.alpha)"
   ]
  },
  {
   "cell_type": "code",
   "execution_count": 41,
   "metadata": {
    "deletable": false,
    "editable": false,
    "nbgrader": {
     "cell_type": "code",
     "checksum": "61b4a80e91fed67c73a22e3f23a7be0b",
     "grade": true,
     "grade_id": "cell-ab833ef2fbf36bc3",
     "locked": true,
     "points": 3,
     "schema_version": 3,
     "solution": false,
     "task": false
    }
   },
   "outputs": [
    {
     "name": "stdout",
     "output_type": "stream",
     "text": [
      "iteration 0 / 200000: loss 29560.709746\n",
      "iteration 10000 / 200000: loss 2827.890857\n",
      "iteration 20000 / 200000: loss 2801.631702\n",
      "iteration 30000 / 200000: loss 3225.400448\n",
      "iteration 40000 / 200000: loss 2755.110150\n",
      "iteration 50000 / 200000: loss 3395.691432\n",
      "iteration 60000 / 200000: loss 2446.848952\n",
      "iteration 70000 / 200000: loss 2764.453022\n",
      "iteration 80000 / 200000: loss 2358.378998\n",
      "iteration 90000 / 200000: loss 2849.362201\n",
      "iteration 100000 / 200000: loss 3304.655346\n",
      "iteration 110000 / 200000: loss 2773.813605\n",
      "iteration 120000 / 200000: loss 3011.740006\n",
      "iteration 130000 / 200000: loss 3116.679838\n",
      "iteration 140000 / 200000: loss 3191.150344\n",
      "iteration 150000 / 200000: loss 3030.634704\n",
      "iteration 160000 / 200000: loss 2553.372641\n",
      "iteration 170000 / 200000: loss 2586.143330\n",
      "iteration 180000 / 200000: loss 2784.399509\n",
      "iteration 190000 / 200000: loss 2822.182766\n",
      "MSE scikit-learn: 2912.521795117546\n",
      "MSE Coordinate descent model : 2888.9505343333085\n"
     ]
    }
   ],
   "source": [
    "model = LassoProjectedGradientDescent(alpha=0.1)\n",
    "model.train(X, y, learning_rate=1e-2,verbose=True, num_iters=200_000)\n",
    "pred = model.predict(X)\n",
    "mse= mean_squared_error(pred, y)\n",
    "\n",
    "sk_model = Lasso(alpha=0.1, fit_intercept=True)\n",
    "sk_model.fit(X, y)\n",
    "sk_pred = sk_model.predict(X)\n",
    "sk_mse = mean_squared_error(sk_pred, y)\n",
    "\n",
    "print(\"MSE scikit-learn:\", sk_mse)\n",
    "print(\"MSE Coordinate descent model :\", mse)\n",
    "assert mse - sk_mse < 50"
   ]
  },
  {
   "cell_type": "code",
   "execution_count": 42,
   "metadata": {
    "deletable": false,
    "editable": false,
    "nbgrader": {
     "cell_type": "code",
     "checksum": "5302dfe9ed74a0adcd0f27c24ea15b6c",
     "grade": true,
     "grade_id": "cell-d4d95fe8b23988a9",
     "locked": true,
     "points": 3,
     "schema_version": 3,
     "solution": false,
     "task": false
    }
   },
   "outputs": [
    {
     "name": "stdout",
     "output_type": "stream",
     "text": [
      "iteration 0 / 200000: loss 27384.304466\n",
      "iteration 10000 / 200000: loss 3976.156375\n",
      "iteration 20000 / 200000: loss 3700.695031\n",
      "iteration 30000 / 200000: loss 3537.437642\n",
      "iteration 40000 / 200000: loss 4231.570999\n",
      "iteration 50000 / 200000: loss 3692.101587\n",
      "iteration 60000 / 200000: loss 3180.179385\n",
      "iteration 70000 / 200000: loss 3798.434756\n",
      "iteration 80000 / 200000: loss 3436.802529\n",
      "iteration 90000 / 200000: loss 4144.859056\n",
      "iteration 100000 / 200000: loss 3342.038438\n",
      "iteration 110000 / 200000: loss 3540.129709\n",
      "iteration 120000 / 200000: loss 3510.431450\n",
      "iteration 130000 / 200000: loss 3933.133896\n",
      "iteration 140000 / 200000: loss 4063.363845\n",
      "iteration 150000 / 200000: loss 3843.636494\n",
      "iteration 160000 / 200000: loss 4362.581206\n",
      "iteration 170000 / 200000: loss 4103.541205\n",
      "iteration 180000 / 200000: loss 3332.461391\n",
      "iteration 190000 / 200000: loss 3723.669956\n",
      "MSE scikit-learn: 5650.287416333697\n",
      "MSE Coordinate descent model : 3812.3329002053706\n"
     ]
    }
   ],
   "source": [
    "model = LassoProjectedGradientDescent(alpha=2)\n",
    "model.train(X, y, learning_rate=1e-2,verbose=True, num_iters=200_000)\n",
    "pred = model.predict(X)\n",
    "mse= mean_squared_error(pred, y)\n",
    "\n",
    "sk_model = Lasso(alpha=2, fit_intercept=True)\n",
    "sk_model.fit(X, y)\n",
    "sk_pred = sk_model.predict(X)\n",
    "sk_mse = mean_squared_error(sk_pred, y)\n",
    "\n",
    "print(\"MSE scikit-learn:\", sk_mse)\n",
    "print(\"MSE Coordinate descent model :\", mse)\n",
    "assert mse - sk_mse < 50"
   ]
  },
  {
   "cell_type": "markdown",
   "metadata": {},
   "source": [
    "# Lasso Coordinate Descent (no intercept)"
   ]
  },
  {
   "cell_type": "code",
   "execution_count": 5,
   "metadata": {},
   "outputs": [],
   "source": [
    "def fit_svd(X, y, alpha=1.0):\n",
    "    \"\"\"SVD approach\"\"\"\n",
    "    # I matrix identity\n",
    "    I = np.eye(len(X[0]), len(X[0]))\n",
    "    U, s, Vh = np.linalg.svd(X, full_matrices=False)\n",
    "    Uh = np.transpose(U)\n",
    "    V = np.transpose(Vh)\n",
    "    S = np.diag(s)\n",
    "    term1 = S @ S + alpha * I\n",
    "    for i in range(len(S)):\n",
    "        if term1[i][i] != 0:\n",
    "            term1[i][i] = 1 / term1[i][i]\n",
    "    term2 = S @ Uh @ y\n",
    "    return V @ term1 @ term2\n",
    "\n",
    "# source : Ridge-regression assignment"
   ]
  },
  {
   "cell_type": "markdown",
   "metadata": {},
   "source": [
    "Source of the algorithm below : Kevin P. Murphy, Machine Learning, a Probabilistic Perspective. MIT Press, 2012"
   ]
  },
  {
   "cell_type": "code",
   "execution_count": 24,
   "metadata": {
    "deletable": false,
    "nbgrader": {
     "cell_type": "code",
     "checksum": "700961f62d0be50b4d8a56693d51d147",
     "grade": false,
     "grade_id": "cell-485e52c0efd4f4a9",
     "locked": false,
     "schema_version": 3,
     "solution": true,
     "task": false
    }
   },
   "outputs": [],
   "source": [
    "class LassoCoordinateDescent():\n",
    "    def __init__(self, alpha=0.1):\n",
    "        self.w = None\n",
    "        self.alpha = alpha\n",
    "\n",
    "    def train(self, X, y, num_iters=1000):\n",
    "        N, d = X.shape\n",
    "        self.w = fit_svd(X, y, self.alpha)\n",
    "        last_w = np.zeros_like(self.w)\n",
    "        \n",
    "        while (self.w - last_w).all() < 0.0000001 and num_iters > 0:\n",
    "            num_iters -= 1\n",
    "            last_w = self.w\n",
    "            \n",
    "            for j in range(d):\n",
    "                a = 2 * np.sum(X[:, j] * X[:, j])\n",
    "                c = 2 * np.sum(X[:, j] * (y - X @ self.w + self.w[j] * X[:, j]))\n",
    "                self.w[j] = soft_threshold(a / c, self.alpha / a)\n",
    "                a = 0\n",
    "                c = 0\n",
    "\n",
    "    def predict(self, X): \n",
    "        return X @ self.w"
   ]
  },
  {
   "cell_type": "code",
   "execution_count": 25,
   "metadata": {
    "deletable": false,
    "editable": false,
    "nbgrader": {
     "cell_type": "code",
     "checksum": "980c457daa4b6be9e9ce771fa7acbb65",
     "grade": true,
     "grade_id": "cell-a773a38c72b967e8",
     "locked": true,
     "points": 3,
     "schema_version": 3,
     "solution": false,
     "task": false
    }
   },
   "outputs": [
    {
     "name": "stdout",
     "output_type": "stream",
     "text": [
      "MSE scikit-learn: 26057.118798659812\n",
      "MSE Coordinate descent model : 26035.042445634015\n"
     ]
    }
   ],
   "source": [
    "model = LassoCoordinateDescent(alpha=0.1)\n",
    "model.train(X, y)\n",
    "pred = model.predict(X)\n",
    "mse= mean_squared_error(pred, y)\n",
    "\n",
    "sk_model = Lasso(alpha=0.1, fit_intercept=False)\n",
    "sk_model.fit(X, y)\n",
    "sk_pred = sk_model.predict(X)\n",
    "sk_mse = mean_squared_error(sk_pred, y)\n",
    "\n",
    "print(\"MSE scikit-learn:\", sk_mse)\n",
    "print(\"MSE Coordinate descent model :\", mse)\n",
    "assert mse - sk_mse < 50"
   ]
  },
  {
   "cell_type": "code",
   "execution_count": 26,
   "metadata": {
    "deletable": false,
    "editable": false,
    "nbgrader": {
     "cell_type": "code",
     "checksum": "af63575c6cf174f251d81ec478828cc3",
     "grade": true,
     "grade_id": "cell-df22a0ef3e94d5fe",
     "locked": true,
     "points": 3,
     "schema_version": 3,
     "solution": false,
     "task": false
    }
   },
   "outputs": [
    {
     "name": "stdout",
     "output_type": "stream",
     "text": [
      "MSE scikit-learn: 28794.88441987604\n",
      "MSE Coordinate descent model : 26759.06576808725\n"
     ]
    }
   ],
   "source": [
    "model = LassoCoordinateDescent(alpha=2)\n",
    "model.train(X, y)\n",
    "pred = model.predict(X)\n",
    "mse= mean_squared_error(pred, y)\n",
    "\n",
    "sk_model = Lasso(alpha=2, fit_intercept=False)\n",
    "sk_model.fit(X, y)\n",
    "sk_pred = sk_model.predict(X)\n",
    "sk_mse = mean_squared_error(sk_pred, y)\n",
    "\n",
    "print(\"MSE scikit-learn:\", sk_mse)\n",
    "print(\"MSE Coordinate descent model :\", mse)\n",
    "assert mse - sk_mse < 50"
   ]
  },
  {
   "cell_type": "code",
   "execution_count": null,
   "metadata": {},
   "outputs": [],
   "source": []
  }
 ],
 "metadata": {
  "kernelspec": {
   "display_name": "Python 3",
   "language": "python",
   "name": "python3"
  },
  "language_info": {
   "codemirror_mode": {
    "name": "ipython",
    "version": 3
   },
   "file_extension": ".py",
   "mimetype": "text/x-python",
   "name": "python",
   "nbconvert_exporter": "python",
   "pygments_lexer": "ipython3",
   "version": "3.7.6"
  }
 },
 "nbformat": 4,
 "nbformat_minor": 5
}
