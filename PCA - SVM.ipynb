{
 "cells": [
  {
   "cell_type": "code",
   "execution_count": 2,
   "metadata": {
    "deletable": false,
    "editable": false,
    "nbgrader": {
     "cell_type": "code",
     "checksum": "f7791ca10232655ac53dd4bba44138d2",
     "grade": false,
     "grade_id": "cell-bf951004994ebba2",
     "locked": true,
     "schema_version": 3,
     "solution": false,
     "task": false
    }
   },
   "outputs": [],
   "source": [
    "from sklearn.decomposition  import PCA\n",
    "from sklearn.preprocessing import StandardScaler\n",
    "from sklearn.datasets import load_boston, load_iris, load_breast_cancer, make_blobs\n",
    "import numpy as np\n",
    "from random import randrange\n",
    "from sklearn.metrics import accuracy_score\n",
    "import cvxpy as cp\n",
    "\n",
    "def grad_check_sparse(f, x, analytic_grad, num_checks=12, h=1e-5, error=1e-9):\n",
    "    \"\"\"\n",
    "    sample a few random elements and only return numerical\n",
    "    in this dimensions\n",
    "    \"\"\"\n",
    "\n",
    "    for i in range(num_checks):\n",
    "        ix = tuple([randrange(m) for m in x.shape])\n",
    "\n",
    "        oldval = x[ix]\n",
    "        x[ix] = oldval + h  # increment by h\n",
    "        fxph = f(x)  # evaluate f(x + h)\n",
    "        x[ix] = oldval - h  # increment by h\n",
    "        fxmh = f(x)  # evaluate f(x - h)\n",
    "        x[ix] = oldval  # reset\n",
    "\n",
    "        grad_numerical = (fxph - fxmh) / (2 * h)\n",
    "        grad_analytic = analytic_grad[ix]\n",
    "        rel_error = abs(grad_numerical - grad_analytic) / (\n",
    "            abs(grad_numerical) + abs(grad_analytic)\n",
    "        )\n",
    "        print(\n",
    "            \"numerical: %f analytic: %f, relative error: %e\"\n",
    "            % (grad_numerical, grad_analytic, rel_error)\n",
    "        )\n",
    "        assert rel_error < error\n",
    "\n",
    "def rel_error(x, y):\n",
    "    \"\"\" returns relative error \"\"\"\n",
    "    return np.max(np.abs(x - y) / (np.maximum(1e-8, np.abs(x) + np.abs(y))))\n",
    "\n",
    "data = load_iris()\n",
    "X, y = data.data, data.target"
   ]
  },
  {
   "cell_type": "markdown",
   "metadata": {},
   "source": [
    "# PCA"
   ]
  },
  {
   "cell_type": "code",
   "execution_count": 3,
   "metadata": {
    "deletable": false,
    "nbgrader": {
     "cell_type": "code",
     "checksum": "b94485256a5b66d80cbb30860292ac41",
     "grade": false,
     "grade_id": "cell-a61ae6533b88fb95",
     "locked": false,
     "schema_version": 3,
     "solution": true,
     "task": false
    }
   },
   "outputs": [],
   "source": [
    "class PrincipalComponentAnalysis():\n",
    "    def __init__(self, n_components):\n",
    "        self.n_components = n_components\n",
    "        self.components = None\n",
    "    \n",
    "    def fit(self, X):\n",
    "        U, S, Vh = np.linalg.svd(X, full_matrices=False) \n",
    "        self.components = Vh.T[:, :self.n_components]\n",
    "    \n",
    "    def transform(self, X):\n",
    "        return X @ self.components"
   ]
  },
  {
   "cell_type": "code",
   "execution_count": 4,
   "metadata": {
    "deletable": false,
    "editable": false,
    "nbgrader": {
     "cell_type": "code",
     "checksum": "23e107a1a8ddddc51278cf396f27f76f",
     "grade": true,
     "grade_id": "cell-01016aef983d4a70",
     "locked": true,
     "points": 2,
     "schema_version": 3,
     "solution": false,
     "task": false
    }
   },
   "outputs": [
    {
     "name": "stdout",
     "output_type": "stream",
     "text": [
      "1.5392603984884818e-13\n"
     ]
    }
   ],
   "source": [
    "X_centered = X - np.mean(X, axis=0)\n",
    "\n",
    "pca = PCA(n_components=3)\n",
    "pca.fit(X_centered)\n",
    "X_pca_trans = pca.transform(X_centered)\n",
    "\n",
    "model = PrincipalComponentAnalysis(n_components=3)\n",
    "model.fit(X_centered)\n",
    "X_model_trans = model.transform(X_centered)\n",
    "\n",
    "sign_correct_X_model_trans = np.concatenate([np.expand_dims(X_model_trans[:,0],axis=1),-X_model_trans[:,1:]],axis=1)\n",
    "\n",
    "error = rel_error(X_pca_trans, sign_correct_X_model_trans)\n",
    "print(error)\n",
    "assert  error < 1e-11"
   ]
  },
  {
   "cell_type": "markdown",
   "metadata": {},
   "source": [
    "# Binary Linear SVM with CVXPY"
   ]
  },
  {
   "cell_type": "markdown",
   "metadata": {},
   "source": [
    "## Hard margin "
   ]
  },
  {
   "cell_type": "code",
   "execution_count": 5,
   "metadata": {
    "deletable": false,
    "editable": false,
    "nbgrader": {
     "cell_type": "code",
     "checksum": "67a78e61592d16446bae3f77e17ceaea",
     "grade": false,
     "grade_id": "cell-225fb5eb2216ae3b",
     "locked": true,
     "schema_version": 3,
     "solution": false,
     "task": false
    }
   },
   "outputs": [],
   "source": [
    "X2, y2 = make_blobs(n_samples=300, centers=2, n_features=12, random_state=47)\n",
    "scaler = StandardScaler()\n",
    "X2 = scaler.fit_transform(X2)\n",
    "y2[y2 == 0] = -1"
   ]
  },
  {
   "cell_type": "markdown",
   "metadata": {
    "deletable": false,
    "editable": false,
    "nbgrader": {
     "cell_type": "markdown",
     "checksum": "fb10a2e1c603f3c29915c7cac6bf7866",
     "grade": false,
     "grade_id": "cell-b459cc87f3d8726e",
     "locked": true,
     "schema_version": 3,
     "solution": false,
     "task": false
    }
   },
   "source": [
    "$$\\min_{\\mathbf{w},b}\\frac{1}{2}||\\mathbf{w}||^2$$ <br>\n",
    "$$\\text{s.t } y_i(\\mathbf{w}^{\\top}\\mathbf{x}_i + b) \\ge 1, \\ i=1...N$$"
   ]
  },
  {
   "cell_type": "code",
   "execution_count": 6,
   "metadata": {
    "deletable": false,
    "nbgrader": {
     "cell_type": "code",
     "checksum": "1bcc3a988e383b297c2805d1f6aca7dc",
     "grade": false,
     "grade_id": "cell-d04165c70ffbb870",
     "locked": false,
     "schema_version": 3,
     "solution": true,
     "task": false
    }
   },
   "outputs": [],
   "source": [
    "class LinearSVMHardMargin():\n",
    "    def __init__(self):\n",
    "        self.w = None\n",
    "        self.b = 0\n",
    "    \n",
    "    def fit(self, X, y):\n",
    "        N, D = X.shape\n",
    "        self.w = cp.Variable((D,))\n",
    "        self.b = cp.Variable((N,))\n",
    "        constraint = [cp.multiply(y, ( X @ cp.transpose(self.w) + self.b)) >= 1]\n",
    "        obj = cp.Minimize(0.5 * cp.sum_squares(self.w))\n",
    "        prob = cp.Problem(obj, constraint)\n",
    "        prob.solve()\n",
    "        \n",
    "    def predict(self, X):\n",
    "        \"\"\"Return the predicted label 1 or -1\"\"\"\n",
    "        temp = X @ np.transpose(self.w.value) + self.b.value\n",
    "        y = np.where( temp < 0, -1, 1)\n",
    "        return y"
   ]
  },
  {
   "cell_type": "code",
   "execution_count": 7,
   "metadata": {
    "deletable": false,
    "editable": false,
    "nbgrader": {
     "cell_type": "code",
     "checksum": "4fcf9bdd4f28f6b42218539a988b638b",
     "grade": true,
     "grade_id": "cell-5d1f0df83bcb86d1",
     "locked": true,
     "points": 1,
     "schema_version": 3,
     "solution": false,
     "task": false
    }
   },
   "outputs": [
    {
     "name": "stdout",
     "output_type": "stream",
     "text": [
      "1.0\n"
     ]
    }
   ],
   "source": [
    "model = LinearSVMHardMargin()\n",
    "model.fit(X2, y2)\n",
    "pred = model.predict(X2)\n",
    "accuracy = accuracy_score(y2, pred)\n",
    "print(accuracy)\n",
    "assert accuracy == 1"
   ]
  },
  {
   "cell_type": "markdown",
   "metadata": {},
   "source": [
    "## Soft Margin"
   ]
  },
  {
   "cell_type": "code",
   "execution_count": 8,
   "metadata": {
    "deletable": false,
    "editable": false,
    "nbgrader": {
     "cell_type": "code",
     "checksum": "14637e9c774165ae0c123891964870b3",
     "grade": false,
     "grade_id": "cell-e1ffa5b41b5d9d99",
     "locked": true,
     "schema_version": 3,
     "solution": false,
     "task": false
    }
   },
   "outputs": [],
   "source": [
    "data3 = load_breast_cancer()\n",
    "X3, y3 = data3.data, data3.target\n",
    "scaler = StandardScaler()\n",
    "X3 = scaler.fit_transform(X3)\n",
    "y3[y3 == 0] = -1"
   ]
  },
  {
   "cell_type": "markdown",
   "metadata": {},
   "source": [
    "$$L(\\mathbf{w},b) = \\frac{1}{N} \\sum_{i=1}^N \\max(0, y_i(\\mathbf{w}^{\\top}\\mathbf{x}_i + b)) + \\lambda||\\mathbf{w}||^2_2$$"
   ]
  },
  {
   "cell_type": "code",
   "execution_count": 9,
   "metadata": {
    "deletable": false,
    "nbgrader": {
     "cell_type": "code",
     "checksum": "6723ed1e25d3de291f7156530cf97613",
     "grade": false,
     "grade_id": "cell-dff3e00a210cd783",
     "locked": false,
     "schema_version": 3,
     "solution": true,
     "task": false
    }
   },
   "outputs": [],
   "source": [
    "class LinearSVMSoftMargin():\n",
    "    def __init__(self, alpha=0):\n",
    "        self.w = None\n",
    "        self.b = 0\n",
    "        self.alpha = alpha\n",
    "    \n",
    "    def fit(self, X, y):\n",
    "        N, D = X.shape\n",
    "        self.w = cp.Variable(D)\n",
    "        self.b = cp.Variable(N)\n",
    "        hinge = cp.sum(cp.pos(1 - cp.multiply(y, ( X @ cp.transpose(self.w) + self.b))))\n",
    "        reg = self.alpha * cp.pnorm(self.w, 2) ** 2\n",
    "        obj = cp.Minimize((1 / N) * hinge + reg)\n",
    "        prob = cp.Problem(obj)\n",
    "        prob.solve()\n",
    "        print(\"status\", prob.status)\n",
    "        \n",
    "    def predict(self, X):\n",
    "        \"\"\"Return the predicted label 1 or -1\"\"\"\n",
    "        temp = X @ np.transpose(self.w.value) + self.b.value\n",
    "        y = np.where( temp < 0, -1, 1)\n",
    "        return y"
   ]
  },
  {
   "cell_type": "code",
   "execution_count": 10,
   "metadata": {
    "deletable": false,
    "editable": false,
    "nbgrader": {
     "cell_type": "code",
     "checksum": "6c58313a6f325f89e25254d2bc3aecae",
     "grade": true,
     "grade_id": "cell-915364d1b5f54b7e",
     "locked": true,
     "points": 1,
     "schema_version": 3,
     "solution": false,
     "task": false
    }
   },
   "outputs": [
    {
     "name": "stdout",
     "output_type": "stream",
     "text": [
      "status optimal\n",
      "1.0\n"
     ]
    }
   ],
   "source": [
    "model = LinearSVMSoftMargin(alpha=1e-3)\n",
    "model.fit(X3, y3)\n",
    "pred = model.predict(X3)\n",
    "accuracy = accuracy_score(y3, pred)\n",
    "print(accuracy)\n",
    "assert accuracy >= 0.98"
   ]
  },
  {
   "cell_type": "markdown",
   "metadata": {},
   "source": [
    "# Multiclass Linear SVM"
   ]
  },
  {
   "cell_type": "markdown",
   "metadata": {},
   "source": [
    "## Loss"
   ]
  },
  {
   "cell_type": "markdown",
   "metadata": {},
   "source": [
    "$$L(\\mathbf{W}) = \\sum_{i=1}^N \\sum_{j \\neq y_i} \\max(0, s_j - s_{y_i} + 1) + \\lambda||\\mathbf{w}||^2_2$$ <br>\n",
    "$$\\text{where } s_j = (f(\\mathbf{x}_i;\\mathbf{W}))_j = (\\mathbf{W}\\mathbf{x}_i)_j \\text{ is the score for the j-th class}$$"
   ]
  },
  {
   "cell_type": "code",
   "execution_count": 11,
   "metadata": {
    "deletable": false,
    "editable": false,
    "nbgrader": {
     "cell_type": "code",
     "checksum": "12b5f742a05bdaf1b6adf2bb6083dcd3",
     "grade": false,
     "grade_id": "cell-67c81d664d204471",
     "locked": true,
     "schema_version": 3,
     "solution": false,
     "task": false
    }
   },
   "outputs": [],
   "source": [
    "W = np.random.randn(X.shape[1], 3) * 0.0001"
   ]
  },
  {
   "cell_type": "code",
   "execution_count": 111,
   "metadata": {
    "deletable": false,
    "nbgrader": {
     "cell_type": "code",
     "checksum": "53138b3da2e0d48438be8ea853f14eca",
     "grade": false,
     "grade_id": "cell-a015ff237ad977a1",
     "locked": false,
     "schema_version": 3,
     "solution": true,
     "task": false
    }
   },
   "outputs": [],
   "source": [
    "def svm_loss_naive(W, X, y, alpha):\n",
    "    \"\"\"\n",
    "    Multiclass SVM loss function WITH FOR LOOPS\n",
    "\n",
    "    Inputs:\n",
    "    - W: array of shape (D, C) containing weights\n",
    "    - X: array of shape (N, D) containing a minibatch of data\n",
    "    - y: array of shape (N,) containing training labels\n",
    "    - alpha: (float) regularization \n",
    "\n",
    "    Returns a tuple of:\n",
    "    - loss as single float\n",
    "    - gradient with respect to weights W;  same shape as W\n",
    "    \"\"\"\n",
    "    # Initialization\n",
    "    loss = 0.0\n",
    "    dW = np.zeros_like(W)\n",
    "    \n",
    "    N = len(X)\n",
    "    C = len(W[0])\n",
    "    s = X @ W\n",
    "\n",
    "    for i in range(N):\n",
    "        loss_i = 0\n",
    "        for j in range(C):\n",
    "            if j == y[i]:\n",
    "                continue\n",
    "            else:\n",
    "                loss_i += max(0, (s[i, j] - s[i, y[i]] + 1))\n",
    "                if s[i, j] - s[i, y[i]] + 1 > 0:\n",
    "                    dW[:, y[i]] -= X[i, :] \n",
    "                    dW[:, j] += X[i, :] \n",
    "        loss += loss_i\n",
    "    loss += alpha * np.linalg.norm(W) ** 2\n",
    "    dW += 2 * alpha * W\n",
    "\n",
    "    return loss, dW"
   ]
  },
  {
   "cell_type": "code",
   "execution_count": 112,
   "metadata": {
    "deletable": false,
    "editable": false,
    "nbgrader": {
     "cell_type": "code",
     "checksum": "34ca0a0a01822fa2a097921b9df2b6c5",
     "grade": true,
     "grade_id": "cell-94feff1af9a3c069",
     "locked": true,
     "points": 1,
     "schema_version": 3,
     "solution": false,
     "task": false
    }
   },
   "outputs": [
    {
     "name": "stdout",
     "output_type": "stream",
     "text": [
      "numerical: -75.300000 analytic: -75.300000, relative error: 9.229459e-11\n",
      "numerical: 125.600000 analytic: 125.600000, relative error: 1.614516e-11\n",
      "numerical: 143.000000 analytic: 143.000000, relative error: 3.945470e-11\n",
      "numerical: 12.500000 analytic: 12.500000, relative error: 2.392040e-10\n",
      "numerical: 125.600000 analytic: 125.600000, relative error: 1.614516e-11\n",
      "numerical: 43.100000 analytic: 43.100000, relative error: 2.352284e-11\n",
      "numerical: 344.400000 analytic: 344.400000, relative error: 1.263701e-11\n",
      "numerical: -124.000000 analytic: -124.000000, relative error: 1.738366e-12\n",
      "numerical: -13.900000 analytic: -13.900000, relative error: 6.669146e-11\n",
      "numerical: 125.600000 analytic: 125.600000, relative error: 1.614516e-11\n",
      "numerical: 12.500000 analytic: 12.500000, relative error: 2.392040e-10\n",
      "numerical: -13.900000 analytic: -13.900000, relative error: 6.669146e-11\n"
     ]
    }
   ],
   "source": [
    "# NO REGLARIZATION\n",
    "loss, dW = svm_loss_naive(W, X, y, 0.0)\n",
    "\n",
    "f = lambda W: svm_loss_naive(W, X, y, 0.0)[0]\n",
    "grad_numerical = grad_check_sparse(f, W, dW, error=1e-9)"
   ]
  },
  {
   "cell_type": "code",
   "execution_count": 113,
   "metadata": {
    "deletable": false,
    "editable": false,
    "nbgrader": {
     "cell_type": "code",
     "checksum": "0df6e08de38631bb7c4d8ce16091899a",
     "grade": true,
     "grade_id": "cell-37dfe1a4bbbdf142",
     "locked": true,
     "points": 1,
     "schema_version": 3,
     "solution": false,
     "task": false
    }
   },
   "outputs": [
    {
     "name": "stdout",
     "output_type": "stream",
     "text": [
      "numerical: -55.599441 analytic: -55.599441, relative error: 1.158107e-11\n",
      "numerical: 43.099863 analytic: 43.099863, relative error: 4.813819e-12\n",
      "numerical: 43.099863 analytic: 43.099863, relative error: 4.813819e-12\n",
      "numerical: -269.099641 analytic: -269.099641, relative error: 1.534289e-11\n",
      "numerical: -123.999492 analytic: -123.999492, relative error: 6.644347e-12\n",
      "numerical: -111.699769 analytic: -111.699769, relative error: 1.577981e-11\n",
      "numerical: -269.099641 analytic: -269.099641, relative error: 1.534289e-11\n",
      "numerical: -13.899200 analytic: -13.899200, relative error: 1.115228e-10\n",
      "numerical: -13.899200 analytic: -13.899200, relative error: 1.115228e-10\n",
      "numerical: -123.999492 analytic: -123.999492, relative error: 6.644347e-12\n",
      "numerical: -269.099641 analytic: -269.099641, relative error: 1.534289e-11\n",
      "numerical: -13.899200 analytic: -13.899200, relative error: 1.115228e-10\n"
     ]
    }
   ],
   "source": [
    "#REGLARIZATION\n",
    "loss, dW = svm_loss_naive(W, X, y, 2)\n",
    "\n",
    "f = lambda W: svm_loss_naive(W, X, y, 2)[0]\n",
    "grad_numerical = grad_check_sparse(f, W, dW, error=1e-9)"
   ]
  },
  {
   "cell_type": "code",
   "execution_count": 100,
   "metadata": {
    "deletable": false,
    "nbgrader": {
     "cell_type": "code",
     "checksum": "a5ebb303976d8369a9bb802d3976cad1",
     "grade": false,
     "grade_id": "cell-7e17d2c0c1de2480",
     "locked": false,
     "schema_version": 3,
     "solution": true,
     "task": false
    }
   },
   "outputs": [],
   "source": [
    "def svm_loss_vectorized(W, X, y, alpha):\n",
    "    \"\"\"\n",
    "    Multiclass SVM loss function WITHOUT FOR LOOPS\n",
    "\n",
    "    Inputs:\n",
    "    - W: array of shape (D, C) containing weights\n",
    "    - X: array of shape (N, D) containing a minibatch of data\n",
    "    - y: array of shape (N,) containing training labels\n",
    "    - alpha: (float) regularization \n",
    "\n",
    "    Returns a tuple of:\n",
    "    - loss as single float\n",
    "    - gradient with respect to weights W;  same shape as W\n",
    "    \"\"\"\n",
    "    \n",
    "    # Initialize the loss and gradient to zero.\n",
    "    loss = 0.0\n",
    "    dW = np.zeros_like(W)\n",
    "\n",
    "    N, D = X.shape\n",
    "    D, C = W.shape\n",
    "    s = np.zeros((N, C))\n",
    "    diff = np.zeros((N, C))\n",
    "    s_y = np.zeros((N, C))\n",
    "    \n",
    "    # loss computation \n",
    "    s = X @ W\n",
    "    s_y = s[np.arange(N), y] \n",
    "    s_y_full = np.full((C, N), s_y)\n",
    "    diff = np.maximum(0, s - s_y_full.T + 1)\n",
    "    diff[np.arange(N), y] = 0\n",
    "    loss = np.mean(np.sum(diff, axis=1)) + alpha * np.linalg.norm(W) ** 2\n",
    "    \n",
    "    # gradient computation\n",
    "    diff[diff > 0] = 1\n",
    "    temp = np.sum(diff, axis=1)\n",
    "    diff[np.arange(N), y] = -temp.T\n",
    "    dW = X.T @ diff\n",
    "    dW = (dW / N) + 2 * alpha * W\n",
    "\n",
    "    return loss, dW"
   ]
  },
  {
   "cell_type": "code",
   "execution_count": 101,
   "metadata": {
    "deletable": false,
    "editable": false,
    "nbgrader": {
     "cell_type": "code",
     "checksum": "884d69e79b74e6756f42d7927309de82",
     "grade": true,
     "grade_id": "cell-1bf11ff8259d6847",
     "locked": true,
     "points": 1,
     "schema_version": 3,
     "solution": false,
     "task": false
    }
   },
   "outputs": [
    {
     "name": "stdout",
     "output_type": "stream",
     "text": [
      "numerical: 0.287333 analytic: 0.287333, relative error: 7.293566e-12\n",
      "numerical: -0.092667 analytic: -0.092667, relative error: 2.355969e-11\n",
      "numerical: -0.370667 analytic: -0.370667, relative error: 8.586207e-12\n",
      "numerical: 2.296000 analytic: 2.296000, relative error: 2.062713e-12\n",
      "numerical: 0.083333 analytic: 0.083333, relative error: 1.299523e-10\n",
      "numerical: 0.287333 analytic: 0.287333, relative error: 7.293566e-12\n",
      "numerical: 0.287333 analytic: 0.287333, relative error: 7.293566e-12\n",
      "numerical: 0.837333 analytic: 0.837333, relative error: 2.003241e-12\n",
      "numerical: -0.744667 analytic: -0.744667, relative error: 1.263768e-11\n",
      "numerical: -0.502000 analytic: -0.502000, relative error: 1.327170e-11\n",
      "numerical: -0.744667 analytic: -0.744667, relative error: 1.263768e-11\n",
      "numerical: 2.296000 analytic: 2.296000, relative error: 2.062713e-12\n"
     ]
    }
   ],
   "source": [
    "# NO REGLARIZATION\n",
    "loss, dW = svm_loss_vectorized(W, X, y, 0.0)\n",
    "\n",
    "f = lambda W: svm_loss_vectorized(W, X, y, 0.0)[0]\n",
    "grad_numerical = grad_check_sparse(f, W, dW, error=1e-9)"
   ]
  },
  {
   "cell_type": "code",
   "execution_count": 102,
   "metadata": {
    "deletable": false,
    "editable": false,
    "nbgrader": {
     "cell_type": "code",
     "checksum": "53c5c62906c11829422603614eae7ba7",
     "grade": true,
     "grade_id": "cell-33078afde070ae4f",
     "locked": true,
     "points": 1,
     "schema_version": 3,
     "solution": false,
     "task": false
    }
   },
   "outputs": [
    {
     "name": "stdout",
     "output_type": "stream",
     "text": [
      "numerical: -0.502717 analytic: -0.502717, relative error: 1.359264e-11\n",
      "numerical: -0.370108 analytic: -0.370108, relative error: 8.594677e-12\n",
      "numerical: -0.091867 analytic: -0.091867, relative error: 9.159680e-12\n",
      "numerical: 0.836797 analytic: 0.836797, relative error: 4.491058e-14\n",
      "numerical: 2.295715 analytic: 2.295715, relative error: 3.359131e-12\n",
      "numerical: -0.826159 analytic: -0.826159, relative error: 2.162724e-11\n",
      "numerical: 0.287196 analytic: 0.287196, relative error: 2.260099e-12\n",
      "numerical: -0.502717 analytic: -0.502717, relative error: 1.359264e-11\n",
      "numerical: 0.836797 analytic: 0.836797, relative error: 4.491058e-14\n",
      "numerical: -1.793641 analytic: -1.793641, relative error: 8.356813e-13\n",
      "numerical: 0.953895 analytic: 0.953895, relative error: 1.121822e-11\n",
      "numerical: 0.953895 analytic: 0.953895, relative error: 1.121822e-11\n"
     ]
    }
   ],
   "source": [
    "# REGLARIZATION\n",
    "loss, dW = svm_loss_vectorized(W, X, y, 2)\n",
    "\n",
    "f = lambda W: svm_loss_vectorized(W, X, y, 2)[0]\n",
    "grad_numerical = grad_check_sparse(f, W, dW, error=1e-9)"
   ]
  },
  {
   "cell_type": "markdown",
   "metadata": {},
   "source": [
    "## Gradient descent"
   ]
  },
  {
   "cell_type": "code",
   "execution_count": 127,
   "metadata": {
    "deletable": false,
    "nbgrader": {
     "cell_type": "code",
     "checksum": "2f1639f76b795c999d467767430e2778",
     "grade": false,
     "grade_id": "cell-41975286849a6d83",
     "locked": false,
     "schema_version": 3,
     "solution": true,
     "task": false
    }
   },
   "outputs": [],
   "source": [
    "class LinearModel():\n",
    "    def __init__(self, fit_intercept=True):\n",
    "        self.W = None\n",
    "        self.fit_intercept = fit_intercept\n",
    "\n",
    "    def train(self, X, y, learning_rate=1e-3, alpha=0, num_iters=100, batch_size=200, verbose=False):\n",
    "        if self.fit_intercept:\n",
    "            X = np.insert(X, 0, 1, axis=1)\n",
    "            \n",
    "        N, d = X.shape\n",
    "        \n",
    "        C = (np.max(y) + 1) \n",
    "        if self.W is None: # Initialization\n",
    "            self.W = 0.001 * np.random.randn(d, C)\n",
    "\n",
    "        # Run stochastic gradient descent to optimize W\n",
    "        \n",
    "        loss_history = []\n",
    "        for it in range(num_iters):\n",
    "            X_batch = None\n",
    "            y_batch = None\n",
    "                                                               \n",
    "            # Sample batch_size elements in X_batch and y_batch\n",
    "            # X_batch shape is  (batch_size, d) and y_batch shape is (batch_size,)                                                                                          \n",
    "            # Hint: Use np.random.choice to generate indices\n",
    "            indices = np.random.choice(N, batch_size, replace=False)\n",
    "            X_batch = X[indices]\n",
    "            y_batch = y[indices]\n",
    "            \n",
    "            # evaluate loss and gradient\n",
    "            loss, dW = self.loss(X_batch, y_batch, alpha)\n",
    "            loss_history.append(loss)\n",
    "\n",
    "            # perform parameter update                                                                \n",
    "            # Update the weights w using the gradient and the learning rate.          \n",
    "            self.W -= learning_rate * dW\n",
    "            \n",
    "            if verbose and it % 10000 == 0:\n",
    "                print(\"iteration %d / %d: loss %f\" % (it, num_iters, loss))\n",
    "                \n",
    "        return loss_history\n",
    "\n",
    "    def predict(self, X):\n",
    "        pass\n",
    "\n",
    "    def loss(self, X_batch, y_batch, reg):\n",
    "        pass\n",
    "\n",
    "class LinearSVM(LinearModel):\n",
    "    \"\"\" Softmax regression \"\"\"\n",
    "\n",
    "    def loss(self, X_batch, y_batch, alpha):\n",
    "        return svm_loss_vectorized(self.W, X_batch, y_batch, alpha)\n",
    "    \n",
    "    def predict(self, X):\n",
    "        \"\"\" \n",
    "        Inputs:\n",
    "        - X: array of shape (N, D) \n",
    "\n",
    "        Returns:\n",
    "        - y_pred: 1-dimensional array of length N, each element is an integer giving the predicted class \n",
    "        \"\"\"\n",
    "        if self.fit_intercept:\n",
    "            X = np.insert(X, 0, 1, axis=1)\n",
    "        y_pred_score = X @ self.W\n",
    "        y_pred = np.argmax(y_pred_score, axis=1)\n",
    "        return y_pred"
   ]
  },
  {
   "cell_type": "code",
   "execution_count": 128,
   "metadata": {
    "deletable": false,
    "editable": false,
    "nbgrader": {
     "cell_type": "code",
     "checksum": "aee08beb636f046b69da3ada47961ae6",
     "grade": true,
     "grade_id": "cell-f1cb5669bcaed283",
     "locked": true,
     "points": 1,
     "schema_version": 3,
     "solution": false,
     "task": false
    }
   },
   "outputs": [
    {
     "name": "stdout",
     "output_type": "stream",
     "text": [
      "iteration 0 / 75000: loss 2.000112\n",
      "iteration 10000 / 75000: loss 0.142495\n",
      "iteration 20000 / 75000: loss 0.083408\n",
      "iteration 30000 / 75000: loss 0.099203\n",
      "iteration 40000 / 75000: loss 0.089971\n",
      "iteration 50000 / 75000: loss 0.074385\n",
      "iteration 60000 / 75000: loss 0.100232\n",
      "iteration 70000 / 75000: loss 0.131352\n",
      "0.9733333333333334\n"
     ]
    }
   ],
   "source": [
    "model = LinearSVM(fit_intercept=True)\n",
    "model.train(X, y, num_iters=75000, batch_size=64, learning_rate=1e-3, verbose=True)\n",
    "pred = model.predict(X)\n",
    "model_accuracy = accuracy_score(y, pred)\n",
    "print(model_accuracy)\n",
    "assert model_accuracy > 0.97"
   ]
  },
  {
   "cell_type": "code",
   "execution_count": null,
   "metadata": {},
   "outputs": [],
   "source": []
  }
 ],
 "metadata": {
  "kernelspec": {
   "display_name": "Python 3",
   "language": "python",
   "name": "python3"
  },
  "language_info": {
   "codemirror_mode": {
    "name": "ipython",
    "version": 3
   },
   "file_extension": ".py",
   "mimetype": "text/x-python",
   "name": "python",
   "nbconvert_exporter": "python",
   "pygments_lexer": "ipython3",
   "version": "3.7.6"
  }
 },
 "nbformat": 4,
 "nbformat_minor": 5
}
