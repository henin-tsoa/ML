{
 "cells": [
  {
   "cell_type": "code",
   "execution_count": 1,
   "metadata": {
    "deletable": false,
    "editable": false,
    "nbgrader": {
     "cell_type": "code",
     "checksum": "d3d3c2e2a84ff92fa02220ae689dc414",
     "grade": false,
     "grade_id": "cell-38b4529793385ad1",
     "locked": true,
     "schema_version": 3,
     "solution": false,
     "task": false
    }
   },
   "outputs": [],
   "source": [
    "from random import randrange\n",
    "import numpy as np\n",
    "from sklearn.metrics import mean_squared_error, log_loss\n",
    "from sklearn.datasets import load_breast_cancer, load_diabetes\n",
    "\n",
    "\n",
    "def grad_check_sparse(f, x, analytic_grad, num_checks=10, h=1e-5, error=1e-9):\n",
    "    \"\"\"\n",
    "    sample a few random elements and only return numerical\n",
    "    in this dimensions\n",
    "    \"\"\"\n",
    "\n",
    "    for i in range(num_checks):\n",
    "        ix = tuple([randrange(m) for m in x.shape])\n",
    "\n",
    "        oldval = x[ix]\n",
    "        x[ix] = oldval + h  # increment by h\n",
    "        fxph = f(x)  # evaluate f(x + h)\n",
    "        x[ix] = oldval - h  # increment by h\n",
    "        fxmh = f(x)  # evaluate f(x - h)\n",
    "        x[ix] = oldval  # reset\n",
    "\n",
    "        grad_numerical = (fxph - fxmh) / (2 * h)\n",
    "        grad_analytic = analytic_grad[ix]\n",
    "        rel_error = abs(grad_numerical - grad_analytic) / (\n",
    "            abs(grad_numerical) + abs(grad_analytic)\n",
    "        )\n",
    "        print(\n",
    "            \"numerical: %f analytic: %f, relative error: %e\"\n",
    "            % (grad_numerical, grad_analytic, rel_error)\n",
    "        )\n",
    "        assert rel_error < error\n",
    "\n",
    "def rel_error(x, y):\n",
    "    \"\"\" returns relative error \"\"\"\n",
    "    return np.max(np.abs(x - y) / (np.maximum(1e-8, np.abs(x) + np.abs(y))))"
   ]
  },
  {
   "cell_type": "code",
   "execution_count": 2,
   "metadata": {},
   "outputs": [],
   "source": [
    "from random import randrange\n",
    "import numpy as np\n",
    "from sklearn.metrics import mean_squared_error, log_loss\n",
    "from sklearn.datasets import load_breast_cancer, load_diabetes\n",
    "\n",
    "\n",
    "def grad_check_sparse(f, x, analytic_grad, num_checks=10, h=1e-5, error=1e-9):\n",
    "    \"\"\"\n",
    "    sample a few random elements and only return numerical\n",
    "    in this dimensions\n",
    "    \"\"\"\n",
    "\n",
    "    for i in range(num_checks):\n",
    "        ix = tuple([randrange(m) for m in x.shape])\n",
    "\n",
    "        oldval = x[ix]\n",
    "        x[ix] = oldval + h  # increment by h\n",
    "        fxph = f(x)  # evaluate f(x + h)\n",
    "        x[ix] = oldval - h  # increment by h\n",
    "        fxmh = f(x)  # evaluate f(x - h)\n",
    "        x[ix] = oldval  # reset\n",
    "\n",
    "        grad_numerical = (fxph - fxmh) / (2 * h)\n",
    "        grad_analytic = analytic_grad[ix]\n",
    "        rel_error = abs(grad_numerical - grad_analytic) / (\n",
    "            abs(grad_numerical) + abs(grad_analytic)\n",
    "        )\n",
    "        print(\n",
    "            \"numerical: %f analytic: %f, relative error: %e\"\n",
    "            % (grad_numerical, grad_analytic, rel_error)\n",
    "        )\n",
    "        #assert rel_error < error\n",
    "\n",
    "def rel_error(x, y):\n",
    "    \"\"\" returns relative error \"\"\"\n",
    "    return np.max(np.abs(x - y) / (np.maximum(1e-8, np.abs(x) + np.abs(y))))"
   ]
  },
  {
   "cell_type": "markdown",
   "metadata": {},
   "source": [
    "# Linear regression"
   ]
  },
  {
   "cell_type": "code",
   "execution_count": 3,
   "metadata": {
    "deletable": false,
    "editable": false,
    "nbgrader": {
     "cell_type": "code",
     "checksum": "1159b5dc8c59570993ac39ae349c5037",
     "grade": false,
     "grade_id": "cell-3fb8ebd5eb97e246",
     "locked": true,
     "schema_version": 3,
     "solution": false,
     "task": false
    }
   },
   "outputs": [],
   "source": [
    "data = load_diabetes()\n",
    "X_train1, y_train1 = data.data, data.target\n",
    "w1 = np.random.randn(X_train1.shape[1]) * 0.0001\n",
    "b1 = np.random.randn(1) * 0.0001"
   ]
  },
  {
   "cell_type": "code",
   "execution_count": 4,
   "metadata": {
    "deletable": false,
    "nbgrader": {
     "cell_type": "code",
     "checksum": "baf9b75ec047c1cdb887ecb2bc2043a1",
     "grade": false,
     "grade_id": "cell-5ffdf99ad7cdfd69",
     "locked": false,
     "schema_version": 3,
     "solution": true,
     "task": false
    }
   },
   "outputs": [],
   "source": [
    "def mse_loss_naive(w, b, X, y, alpha=0):\n",
    "    \"\"\"\n",
    "    MSE loss function WITH FOR LOOPs\n",
    "    \n",
    "    Returns a tuple of:\n",
    "    - loss \n",
    "    - gradient with respect to weights w\n",
    "    - gradient with respect to bias b\n",
    "    \"\"\"\n",
    "    loss = 0.0\n",
    "    dw = np.zeros_like(w)\n",
    "    db = 0.0\n",
    "    \n",
    "    # computation of loss\n",
    "    for i in range(len(X)):\n",
    "        temp = 0\n",
    "        for j in range(len(X[0])):\n",
    "            temp += X[i][j] * w[j] \n",
    "        temp += b \n",
    "        loss += (temp - y[i]) ** 2\n",
    "    loss = (1 / len(X)) * loss + alpha * (np.linalg.norm(w, ord=2) ** 2)\n",
    "    \n",
    "    # computation of dw\n",
    "    for k in range(len(X[0])):\n",
    "        v = 0\n",
    "        for i in range(len(X)):\n",
    "            u = 0\n",
    "            for j in range(len(X[0])):\n",
    "                u += X[i][j] * w[j] \n",
    "            v += X[i][k] * (u + b - y[i])\n",
    "        dw[k] = (2 / len(X)) * v + 2 * alpha * w[k]\n",
    "        \n",
    "    # computation of db\n",
    "    for i in range(len(X)):\n",
    "        temp = 0\n",
    "        for j in range(len(X[0])):\n",
    "            temp += X[i][j] * w[j] \n",
    "        temp += b \n",
    "        db += (temp - y[i])\n",
    "    db *= (2 / len(X)) \n",
    "        \n",
    "    return loss, dw, np.array(db).reshape(1,)"
   ]
  },
  {
   "cell_type": "markdown",
   "metadata": {},
   "source": [
    "## Naive Linear regression loss"
   ]
  },
  {
   "cell_type": "code",
   "execution_count": 5,
   "metadata": {
    "deletable": false,
    "editable": false,
    "nbgrader": {
     "cell_type": "code",
     "checksum": "67581686e36845f8ef8aacd81c1a201b",
     "grade": true,
     "grade_id": "cell-079e42b153b67a60",
     "locked": true,
     "points": 1,
     "schema_version": 3,
     "solution": false,
     "task": false
    }
   },
   "outputs": [
    {
     "name": "stdout",
     "output_type": "stream",
     "text": [
      "Loss error :  0.0\n",
      "Gradient check w\n",
      "numerical: -1.275041 analytic: -1.275043, relative error: 6.481984e-07\n",
      "numerical: -3.153318 analytic: -3.153316, relative error: 3.261201e-07\n",
      "numerical: -1.376394 analytic: -1.376393, relative error: 9.351795e-08\n",
      "numerical: -4.296089 analytic: -4.296087, relative error: 2.050001e-07\n",
      "numerical: 2.892059 analytic: 2.892059, relative error: 1.818295e-08\n",
      "numerical: -2.801911 analytic: -2.801912, relative error: 3.068893e-07\n",
      "numerical: -3.153318 analytic: -3.153316, relative error: 3.261201e-07\n",
      "numerical: -1.275041 analytic: -1.275043, relative error: 6.481984e-07\n",
      "numerical: -1.275041 analytic: -1.275043, relative error: 6.481984e-07\n",
      "numerical: 2.892059 analytic: 2.892059, relative error: 1.818295e-08\n",
      "numerical: -1.376394 analytic: -1.376393, relative error: 9.351795e-08\n",
      "numerical: -2.801911 analytic: -2.801912, relative error: 3.068893e-07\n",
      "numerical: -1.376394 analytic: -1.376393, relative error: 9.351795e-08\n",
      "numerical: -3.234124 analytic: -3.234125, relative error: 1.773221e-07\n",
      "numerical: -0.315454 analytic: -0.315453, relative error: 1.620984e-06\n",
      "Gradient check bias\n",
      "numerical: -304.266892 analytic: -304.266892, relative error: 3.194304e-10\n",
      "numerical: -304.266892 analytic: -304.266892, relative error: 3.194304e-10\n",
      "numerical: -304.266892 analytic: -304.266892, relative error: 3.194304e-10\n",
      "numerical: -304.266892 analytic: -304.266892, relative error: 3.194304e-10\n",
      "numerical: -304.266892 analytic: -304.266892, relative error: 3.194304e-10\n",
      "numerical: -304.266892 analytic: -304.266892, relative error: 3.194304e-10\n",
      "numerical: -304.266892 analytic: -304.266892, relative error: 3.194304e-10\n",
      "numerical: -304.266892 analytic: -304.266892, relative error: 3.194304e-10\n",
      "numerical: -304.266892 analytic: -304.266892, relative error: 3.194304e-10\n",
      "numerical: -304.266892 analytic: -304.266892, relative error: 3.194304e-10\n",
      "numerical: -304.266892 analytic: -304.266892, relative error: 3.194304e-10\n",
      "numerical: -304.266892 analytic: -304.266892, relative error: 3.194304e-10\n",
      "numerical: -304.266892 analytic: -304.266892, relative error: 3.194304e-10\n",
      "numerical: -304.266892 analytic: -304.266892, relative error: 3.194304e-10\n",
      "numerical: -304.266892 analytic: -304.266892, relative error: 3.194304e-10\n"
     ]
    }
   ],
   "source": [
    "loss, dw1, db1 = mse_loss_naive(w1, b1, X_train1, y_train1, alpha=0)\n",
    "\n",
    "sk_loss = mean_squared_error(X_train1 @ w1 + b1, y_train1)\n",
    "assert rel_error(loss, sk_loss) < 1e-9\n",
    "print(\"Loss error : \",rel_error(loss, sk_loss))\n",
    "\n",
    "print(\"Gradient check w\")\n",
    "# Check with numerical gradient w\n",
    "f = lambda w1: mse_loss_naive(w1, b1, X_train1, y_train1, alpha=0)[0]\n",
    "grad_numerical = grad_check_sparse(f, w1, dw1, 15,  error=1e-5)\n",
    "\n",
    "print(\"Gradient check bias\")\n",
    "# Check with numerical gradient b\n",
    "f2 = lambda b1: mse_loss_naive(w1, b1, X_train1, y_train1, alpha=0)[0]\n",
    "grad_numerical = grad_check_sparse(f2, b1, db1, 15,  error=1e-5)"
   ]
  },
  {
   "cell_type": "markdown",
   "metadata": {},
   "source": [
    "## Naive Ridge regression loss"
   ]
  },
  {
   "cell_type": "code",
   "execution_count": 6,
   "metadata": {
    "deletable": false,
    "editable": false,
    "nbgrader": {
     "cell_type": "code",
     "checksum": "9ca5790893e5950341f7370bb3be167c",
     "grade": true,
     "grade_id": "cell-14a64cb1cfe70b98",
     "locked": true,
     "points": 1,
     "schema_version": 3,
     "solution": false,
     "task": false
    }
   },
   "outputs": [
    {
     "name": "stdout",
     "output_type": "stream",
     "text": [
      "Gradient check w\n",
      "numerical: 2.891846 analytic: 2.891846, relative error: 3.751684e-08\n",
      "numerical: -3.153166 analytic: -3.153164, relative error: 3.296858e-07\n",
      "numerical: -2.801625 analytic: -2.801627, relative error: 3.096951e-07\n",
      "numerical: -1.553183 analytic: -1.553182, relative error: 5.411299e-07\n",
      "numerical: -1.274956 analytic: -1.274958, relative error: 6.445730e-07\n",
      "numerical: -4.145782 analytic: -4.145782, relative error: 6.952943e-09\n",
      "numerical: -3.234068 analytic: -3.234069, relative error: 1.818144e-07\n",
      "numerical: -4.145782 analytic: -4.145782, relative error: 6.952943e-09\n",
      "numerical: -0.315335 analytic: -0.315334, relative error: 1.633028e-06\n",
      "numerical: -2.801625 analytic: -2.801627, relative error: 3.096951e-07\n",
      "numerical: -1.553183 analytic: -1.553182, relative error: 5.411299e-07\n",
      "numerical: 2.891846 analytic: 2.891846, relative error: 3.751684e-08\n",
      "numerical: -1.376200 analytic: -1.376200, relative error: 5.856052e-08\n",
      "numerical: -3.234068 analytic: -3.234069, relative error: 1.818144e-07\n",
      "numerical: -3.153166 analytic: -3.153164, relative error: 3.296858e-07\n",
      "Gradient check bias\n",
      "numerical: -304.266892 analytic: -304.266892, relative error: 3.194304e-10\n",
      "numerical: -304.266892 analytic: -304.266892, relative error: 3.194304e-10\n",
      "numerical: -304.266892 analytic: -304.266892, relative error: 3.194304e-10\n",
      "numerical: -304.266892 analytic: -304.266892, relative error: 3.194304e-10\n",
      "numerical: -304.266892 analytic: -304.266892, relative error: 3.194304e-10\n",
      "numerical: -304.266892 analytic: -304.266892, relative error: 3.194304e-10\n",
      "numerical: -304.266892 analytic: -304.266892, relative error: 3.194304e-10\n",
      "numerical: -304.266892 analytic: -304.266892, relative error: 3.194304e-10\n",
      "numerical: -304.266892 analytic: -304.266892, relative error: 3.194304e-10\n",
      "numerical: -304.266892 analytic: -304.266892, relative error: 3.194304e-10\n",
      "numerical: -304.266892 analytic: -304.266892, relative error: 3.194304e-10\n",
      "numerical: -304.266892 analytic: -304.266892, relative error: 3.194304e-10\n",
      "numerical: -304.266892 analytic: -304.266892, relative error: 3.194304e-10\n",
      "numerical: -304.266892 analytic: -304.266892, relative error: 3.194304e-10\n",
      "numerical: -304.266892 analytic: -304.266892, relative error: 3.194304e-10\n"
     ]
    }
   ],
   "source": [
    "loss, dw1, db1 = mse_loss_naive(w1, b1, X_train1, y_train1, alpha=1)\n",
    "\n",
    "print(\"Gradient check w\")\n",
    "# Check with numerical gradient w\n",
    "f = lambda w1: mse_loss_naive(w1, b1, X_train1, y_train1, alpha=1)[0]\n",
    "grad_numerical = grad_check_sparse(f, w1, dw1, 15,  error=1e-5)\n",
    "\n",
    "print(\"Gradient check bias\")\n",
    "# Check with numerical gradient b\n",
    "f2 = lambda b1: mse_loss_naive(w1, b1, X_train1, y_train1, alpha=1)[0]\n",
    "grad_numerical = grad_check_sparse(f2, b1, db1, 15,  error=1e-5)"
   ]
  },
  {
   "cell_type": "code",
   "execution_count": 7,
   "metadata": {
    "deletable": false,
    "nbgrader": {
     "cell_type": "code",
     "checksum": "21b3a09270262dbad9cb1c15c0fc69f8",
     "grade": false,
     "grade_id": "cell-1528a28f467d90c7",
     "locked": false,
     "schema_version": 3,
     "solution": true,
     "task": false
    }
   },
   "outputs": [],
   "source": [
    "def mse_loss_vectorized(w, b, X, y, alpha=0):\n",
    "    \"\"\"\n",
    "    MSE loss function WITHOUT FOR LOOPs\n",
    "    \n",
    "    Returns a tuple of:\n",
    "    - loss \n",
    "    - gradient with respect to weights w\n",
    "    - gradient with respect to bias b\n",
    "    \"\"\"\n",
    "    loss = 0.0\n",
    "    dw = np.zeros_like(w)\n",
    "    \n",
    "    regularizer = alpha * (np.linalg.norm(w, ord=2) ** 2)\n",
    "    \n",
    "    loss = (1.0 / len(X)) * (np.linalg.norm(X @ w + b - y, ord=2)) ** 2 + regularizer\n",
    "    dw = (2.0 / len(X)) * (X @ w + b - y) @ X + 2 * alpha * w\n",
    "    db = (2.0 / len(X)) * (X @ w + b - y) @ np.ones(len(X))\n",
    "    \n",
    "    return loss, dw, np.array(db).reshape(1,)"
   ]
  },
  {
   "cell_type": "markdown",
   "metadata": {},
   "source": [
    "## Vectorised Linear regression loss"
   ]
  },
  {
   "cell_type": "code",
   "execution_count": 8,
   "metadata": {
    "deletable": false,
    "editable": false,
    "nbgrader": {
     "cell_type": "code",
     "checksum": "ffc6cc1a998e8ed785bea62c0208ce04",
     "grade": true,
     "grade_id": "cell-41637ca21c8f938d",
     "locked": true,
     "points": 1,
     "schema_version": 3,
     "solution": false,
     "task": false
    }
   },
   "outputs": [
    {
     "name": "stdout",
     "output_type": "stream",
     "text": [
      "Loss error :  1.2512623000643182e-16\n",
      "Gradient check w\n",
      "numerical: -2.801912 analytic: -2.801912, relative error: 1.475119e-08\n",
      "numerical: -2.801912 analytic: -2.801912, relative error: 1.475119e-08\n",
      "numerical: -3.153317 analytic: -3.153316, relative error: 6.653789e-08\n",
      "numerical: -0.315453 analytic: -0.315453, relative error: 6.855219e-07\n",
      "numerical: -1.275043 analytic: -1.275043, relative error: 6.223316e-09\n",
      "numerical: -1.553187 analytic: -1.553187, relative error: 2.973792e-08\n",
      "numerical: -1.275043 analytic: -1.275043, relative error: 6.223316e-09\n",
      "numerical: -4.145424 analytic: -4.145424, relative error: 6.692186e-09\n",
      "numerical: -1.376393 analytic: -1.376393, relative error: 1.047164e-07\n",
      "numerical: -1.275043 analytic: -1.275043, relative error: 6.223316e-09\n",
      "numerical: -3.153317 analytic: -3.153316, relative error: 6.653789e-08\n",
      "numerical: -3.234124 analytic: -3.234125, relative error: 3.671298e-08\n",
      "numerical: 2.892059 analytic: 2.892059, relative error: 4.471305e-08\n",
      "numerical: -1.376393 analytic: -1.376393, relative error: 1.047164e-07\n",
      "numerical: -4.296087 analytic: -4.296087, relative error: 6.702925e-09\n",
      "Gradient check bias\n",
      "numerical: -304.266892 analytic: -304.266892, relative error: 2.051686e-11\n",
      "numerical: -304.266892 analytic: -304.266892, relative error: 2.051686e-11\n",
      "numerical: -304.266892 analytic: -304.266892, relative error: 2.051686e-11\n",
      "numerical: -304.266892 analytic: -304.266892, relative error: 2.051686e-11\n",
      "numerical: -304.266892 analytic: -304.266892, relative error: 2.051686e-11\n",
      "numerical: -304.266892 analytic: -304.266892, relative error: 2.051686e-11\n",
      "numerical: -304.266892 analytic: -304.266892, relative error: 2.051686e-11\n",
      "numerical: -304.266892 analytic: -304.266892, relative error: 2.051686e-11\n",
      "numerical: -304.266892 analytic: -304.266892, relative error: 2.051686e-11\n",
      "numerical: -304.266892 analytic: -304.266892, relative error: 2.051686e-11\n",
      "numerical: -304.266892 analytic: -304.266892, relative error: 2.051686e-11\n",
      "numerical: -304.266892 analytic: -304.266892, relative error: 2.051686e-11\n",
      "numerical: -304.266892 analytic: -304.266892, relative error: 2.051686e-11\n",
      "numerical: -304.266892 analytic: -304.266892, relative error: 2.051686e-11\n",
      "numerical: -304.266892 analytic: -304.266892, relative error: 2.051686e-11\n"
     ]
    }
   ],
   "source": [
    "loss, dw1, db1 = mse_loss_vectorized(w1, b1, X_train1, y_train1, alpha=0)\n",
    "\n",
    "sk_loss = mean_squared_error(X_train1 @ w1 + b1, y_train1)\n",
    "assert rel_error(loss, sk_loss) < 1e-9\n",
    "print(\"Loss error : \",rel_error(loss, sk_loss))\n",
    "\n",
    "print(\"Gradient check w\")\n",
    "# Check with numerical gradient w\n",
    "f = lambda w1: mse_loss_vectorized(w1, b1, X_train1, y_train1, alpha=0)[0]\n",
    "grad_numerical = grad_check_sparse(f, w1, dw1, 15,  error=1e-5)\n",
    "\n",
    "print(\"Gradient check bias\")\n",
    "# Check with numerical gradient b\n",
    "f2 = lambda b1: mse_loss_vectorized(w1, b1, X_train1, y_train1, alpha=0)[0]\n",
    "grad_numerical = grad_check_sparse(f2, b1, db1, 15,  error=1e-5)"
   ]
  },
  {
   "cell_type": "markdown",
   "metadata": {},
   "source": [
    "## Vectorized ridge regression loss"
   ]
  },
  {
   "cell_type": "code",
   "execution_count": 9,
   "metadata": {
    "deletable": false,
    "editable": false,
    "nbgrader": {
     "cell_type": "code",
     "checksum": "89b351bee282f05c3f74c9541b3a825e",
     "grade": true,
     "grade_id": "cell-bb0ff99c19a85e0f",
     "locked": true,
     "points": 1,
     "schema_version": 3,
     "solution": false,
     "task": false
    }
   },
   "outputs": [
    {
     "name": "stdout",
     "output_type": "stream",
     "text": [
      "Gradient check w\n",
      "numerical: -3.234069 analytic: -3.234069, relative error: 4.120288e-08\n",
      "numerical: -0.315333 analytic: -0.315334, relative error: 6.743532e-07\n",
      "numerical: -1.376199 analytic: -1.376200, relative error: 1.397017e-07\n",
      "numerical: 2.891846 analytic: 2.891846, relative error: 2.538378e-08\n",
      "numerical: -1.376199 analytic: -1.376200, relative error: 1.397017e-07\n",
      "numerical: -4.296145 analytic: -4.296145, relative error: 1.322478e-09\n",
      "numerical: -3.234069 analytic: -3.234069, relative error: 4.120288e-08\n",
      "numerical: -3.234069 analytic: -3.234069, relative error: 4.120288e-08\n",
      "numerical: -1.553182 analytic: -1.553182, relative error: 1.411825e-08\n",
      "numerical: -4.145782 analytic: -4.145782, relative error: 1.498489e-08\n",
      "numerical: -3.153165 analytic: -3.153164, relative error: 7.009101e-08\n",
      "numerical: -4.145782 analytic: -4.145782, relative error: 1.498489e-08\n",
      "numerical: -4.296145 analytic: -4.296145, relative error: 1.322478e-09\n",
      "numerical: -1.376199 analytic: -1.376200, relative error: 1.397017e-07\n",
      "numerical: -1.553182 analytic: -1.553182, relative error: 1.411825e-08\n",
      "Gradient check bias\n",
      "numerical: -304.266892 analytic: -304.266892, relative error: 2.051686e-11\n",
      "numerical: -304.266892 analytic: -304.266892, relative error: 2.051686e-11\n",
      "numerical: -304.266892 analytic: -304.266892, relative error: 2.051686e-11\n",
      "numerical: -304.266892 analytic: -304.266892, relative error: 2.051686e-11\n",
      "numerical: -304.266892 analytic: -304.266892, relative error: 2.051686e-11\n",
      "numerical: -304.266892 analytic: -304.266892, relative error: 2.051686e-11\n",
      "numerical: -304.266892 analytic: -304.266892, relative error: 2.051686e-11\n",
      "numerical: -304.266892 analytic: -304.266892, relative error: 2.051686e-11\n",
      "numerical: -304.266892 analytic: -304.266892, relative error: 2.051686e-11\n",
      "numerical: -304.266892 analytic: -304.266892, relative error: 2.051686e-11\n",
      "numerical: -304.266892 analytic: -304.266892, relative error: 2.051686e-11\n",
      "numerical: -304.266892 analytic: -304.266892, relative error: 2.051686e-11\n",
      "numerical: -304.266892 analytic: -304.266892, relative error: 2.051686e-11\n",
      "numerical: -304.266892 analytic: -304.266892, relative error: 2.051686e-11\n",
      "numerical: -304.266892 analytic: -304.266892, relative error: 2.051686e-11\n"
     ]
    }
   ],
   "source": [
    "loss, dw1, db1 = mse_loss_vectorized(w1, b1, X_train1, y_train1, alpha=1)\n",
    "\n",
    "print(\"Gradient check w\")\n",
    "# Check with numerical gradient w\n",
    "f = lambda w1: mse_loss_vectorized(w1, b1, X_train1, y_train1, alpha=1)[0]\n",
    "grad_numerical = grad_check_sparse(f, w1, dw1, 15,  error=1e-5)\n",
    "\n",
    "print(\"Gradient check bias\")\n",
    "# Check with numerical gradient b\n",
    "f2 = lambda b1: mse_loss_vectorized(w1, b1, X_train1, y_train1, alpha=1)[0]\n",
    "grad_numerical = grad_check_sparse(f2, b1, db1, 15,  error=1e-5)"
   ]
  },
  {
   "cell_type": "markdown",
   "metadata": {},
   "source": [
    "# Logistic regression"
   ]
  },
  {
   "cell_type": "code",
   "execution_count": 10,
   "metadata": {
    "deletable": false,
    "editable": false,
    "nbgrader": {
     "cell_type": "code",
     "checksum": "fd86b658f3ec113c00c2ee2e195f550f",
     "grade": false,
     "grade_id": "cell-434ec399cf8aeea7",
     "locked": true,
     "schema_version": 3,
     "solution": false,
     "task": false
    }
   },
   "outputs": [],
   "source": [
    "def sigmoid(z):\n",
    "    return 1 / (1 + np.exp(-z))\n",
    "\n",
    "data = load_breast_cancer()\n",
    "X_train2, y_train2 = data.data, data.target\n",
    "w2 = np.random.randn(X_train2.shape[1]) * 0.0001\n",
    "b2 = np.random.randn(1) * 0.0001"
   ]
  },
  {
   "cell_type": "markdown",
   "metadata": {},
   "source": [
    "# Naive"
   ]
  },
  {
   "cell_type": "code",
   "execution_count": 35,
   "metadata": {
    "deletable": false,
    "nbgrader": {
     "cell_type": "code",
     "checksum": "a4357b941a04e6dc51a2683b7f4d91ed",
     "grade": false,
     "grade_id": "cell-6ec156568b0c6e29",
     "locked": false,
     "schema_version": 3,
     "solution": true,
     "task": false
    }
   },
   "outputs": [],
   "source": [
    "def log_loss_naive(w, b, X, y, alpha=0):\n",
    "    \"\"\"\n",
    "    log loss function WITH FOR LOOPs\n",
    "    \n",
    "    Returns a tuple of:\n",
    "    - loss \n",
    "    - gradient with respect to weights w\n",
    "    \"\"\"\n",
    "    loss = 0.0\n",
    "    dw = np.zeros_like(w)\n",
    "    db = 0.0\n",
    "    \n",
    "    wh = np.transpose(w)\n",
    "    for i in range(len(X)):\n",
    "        u = sigmoid(X[i] @ wh + b)\n",
    "        loss += y[i] * np.log(u)+ (1 - y[i]) * np.log(1 - u)\n",
    "        dw += X[i] * (u - y[i]) \n",
    "        db += (u - y[i]) \n",
    "    loss = -loss / len(X) + alpha * (np.linalg.norm(w, ord=2) ** 2) \n",
    "    dw = dw / len(X) + 2 * alpha * w\n",
    "    db = db / len(X)\n",
    "    \n",
    "    return loss, dw, np.array(db).reshape(1,)"
   ]
  },
  {
   "cell_type": "code",
   "execution_count": 38,
   "metadata": {
    "deletable": false,
    "editable": false,
    "nbgrader": {
     "cell_type": "code",
     "checksum": "97d1606d0c00119f8956e4ef60ad346f",
     "grade": true,
     "grade_id": "cell-d3c078eb2449ee61",
     "locked": true,
     "points": 1,
     "schema_version": 3,
     "solution": false,
     "task": false
    }
   },
   "outputs": [
    {
     "name": "stdout",
     "output_type": "stream",
     "text": [
      "Loss error :  4.853520116333816e-16\n",
      "Gradient check w\n",
      "numerical: -0.022759 analytic: -0.022759, relative error: 6.403406e-10\n",
      "numerical: -0.683470 analytic: -0.683470, relative error: 1.170994e-09\n",
      "numerical: -0.003085 analytic: -0.003085, relative error: 2.984326e-09\n",
      "numerical: 17.938050 analytic: 17.937818, relative error: 6.480297e-06\n",
      "numerical: -0.000577 analytic: -0.000577, relative error: 7.895948e-09\n",
      "numerical: -0.012001 analytic: -0.012001, relative error: 6.033965e-11\n",
      "numerical: 0.024270 analytic: 0.024270, relative error: 1.124185e-09\n",
      "numerical: -0.000577 analytic: -0.000577, relative error: 7.895948e-09\n",
      "numerical: -0.009732 analytic: -0.009732, relative error: 4.420325e-10\n",
      "numerical: -0.683470 analytic: -0.683470, relative error: 1.170994e-09\n",
      "numerical: -2.509023 analytic: -2.509023, relative error: 8.270212e-10\n",
      "numerical: -0.914779 analytic: -0.914779, relative error: 4.757496e-10\n",
      "numerical: -0.001148 analytic: -0.001148, relative error: 1.496700e-08\n",
      "numerical: -0.183530 analytic: -0.183530, relative error: 3.850650e-11\n",
      "numerical: -0.012001 analytic: -0.012001, relative error: 6.033965e-11\n",
      "Gradient check bias\n",
      "numerical: -0.149433 analytic: -0.149433, relative error: 1.600012e-11\n",
      "numerical: -0.149433 analytic: -0.149433, relative error: 1.600012e-11\n",
      "numerical: -0.149433 analytic: -0.149433, relative error: 1.600012e-11\n",
      "numerical: -0.149433 analytic: -0.149433, relative error: 1.600012e-11\n",
      "numerical: -0.149433 analytic: -0.149433, relative error: 1.600012e-11\n",
      "numerical: -0.149433 analytic: -0.149433, relative error: 1.600012e-11\n",
      "numerical: -0.149433 analytic: -0.149433, relative error: 1.600012e-11\n",
      "numerical: -0.149433 analytic: -0.149433, relative error: 1.600012e-11\n",
      "numerical: -0.149433 analytic: -0.149433, relative error: 1.600012e-11\n",
      "numerical: -0.149433 analytic: -0.149433, relative error: 1.600012e-11\n",
      "numerical: -0.149433 analytic: -0.149433, relative error: 1.600012e-11\n",
      "numerical: -0.149433 analytic: -0.149433, relative error: 1.600012e-11\n",
      "numerical: -0.149433 analytic: -0.149433, relative error: 1.600012e-11\n",
      "numerical: -0.149433 analytic: -0.149433, relative error: 1.600012e-11\n",
      "numerical: -0.149433 analytic: -0.149433, relative error: 1.600012e-11\n"
     ]
    }
   ],
   "source": [
    "y_pred_0 = sigmoid(X_train2 @ w2 + b2)\n",
    "y_pred = np.vstack([1-y_pred_0, y_pred_0]).T\n",
    "sk_loss = log_loss(y_train2, y_pred)\n",
    "\n",
    "loss, dw2, db2 = log_loss_naive(w2, b2, X_train2, y_train2, alpha=0)\n",
    "assert rel_error(loss, sk_loss) < 1e-9\n",
    "print(\"Loss error : \",rel_error(loss, sk_loss))\n",
    "\n",
    "print(\"Gradient check w\")\n",
    "# Check with numerical gradient w\n",
    "f = lambda w2: log_loss_naive(w2, b2, X_train2, y_train2, alpha=0)[0]\n",
    "grad_numerical = grad_check_sparse(f, w2, dw2, 15, error=1e-4)\n",
    "\n",
    "print(\"Gradient check bias\")\n",
    "# Check with numerical gradient b\n",
    "f2 = lambda b2: log_loss_naive(w2, b2, X_train2, y_train2, alpha=0)[0]\n",
    "grad_numerical = grad_check_sparse(f2, b2, db2, 15,  error=1e-5)"
   ]
  },
  {
   "cell_type": "markdown",
   "metadata": {},
   "source": [
    "# Naive with regularization"
   ]
  },
  {
   "cell_type": "code",
   "execution_count": 39,
   "metadata": {
    "deletable": false,
    "editable": false,
    "nbgrader": {
     "cell_type": "code",
     "checksum": "cb3c9584e2ca3502e5068d5c1ee2df96",
     "grade": true,
     "grade_id": "cell-b91805308ad91ec5",
     "locked": true,
     "points": 1,
     "schema_version": 3,
     "solution": false,
     "task": false
    }
   },
   "outputs": [
    {
     "name": "stdout",
     "output_type": "stream",
     "text": [
      "Gradient check w\n",
      "numerical: -0.183197 analytic: -0.183197, relative error: 3.996336e-11\n",
      "numerical: -5.346257 analytic: -5.346257, relative error: 2.511763e-08\n",
      "numerical: -0.183197 analytic: -0.183197, relative error: 3.996336e-11\n",
      "numerical: -0.003313 analytic: -0.003313, relative error: 2.634636e-09\n",
      "numerical: -0.022809 analytic: -0.022809, relative error: 5.757887e-10\n",
      "numerical: -0.000906 analytic: -0.000906, relative error: 1.883098e-08\n",
      "numerical: -2.040793 analytic: -2.040793, relative error: 4.265740e-10\n",
      "numerical: 5.508514 analytic: 5.508514, relative error: 4.563281e-08\n",
      "numerical: -0.683636 analytic: -0.683636, relative error: 1.173664e-09\n",
      "numerical: -2.040793 analytic: -2.040793, relative error: 4.265740e-10\n",
      "numerical: -0.011817 analytic: -0.011817, relative error: 3.463368e-11\n",
      "numerical: -0.031446 analytic: -0.031446, relative error: 1.259131e-10\n",
      "numerical: -0.914802 analytic: -0.914802, relative error: 4.744188e-10\n",
      "numerical: 0.024504 analytic: 0.024504, relative error: 1.172658e-09\n",
      "numerical: -0.000445 analytic: -0.000445, relative error: 8.195946e-09\n",
      "Gradient check bias\n",
      "numerical: -0.149433 analytic: -0.149433, relative error: 1.600012e-11\n",
      "numerical: -0.149433 analytic: -0.149433, relative error: 1.600012e-11\n",
      "numerical: -0.149433 analytic: -0.149433, relative error: 1.600012e-11\n",
      "numerical: -0.149433 analytic: -0.149433, relative error: 1.600012e-11\n",
      "numerical: -0.149433 analytic: -0.149433, relative error: 1.600012e-11\n",
      "numerical: -0.149433 analytic: -0.149433, relative error: 1.600012e-11\n",
      "numerical: -0.149433 analytic: -0.149433, relative error: 1.600012e-11\n",
      "numerical: -0.149433 analytic: -0.149433, relative error: 1.600012e-11\n",
      "numerical: -0.149433 analytic: -0.149433, relative error: 1.600012e-11\n",
      "numerical: -0.149433 analytic: -0.149433, relative error: 1.600012e-11\n",
      "numerical: -0.149433 analytic: -0.149433, relative error: 1.600012e-11\n",
      "numerical: -0.149433 analytic: -0.149433, relative error: 1.600012e-11\n",
      "numerical: -0.149433 analytic: -0.149433, relative error: 1.600012e-11\n",
      "numerical: -0.149433 analytic: -0.149433, relative error: 1.600012e-11\n",
      "numerical: -0.149433 analytic: -0.149433, relative error: 1.600012e-11\n"
     ]
    }
   ],
   "source": [
    "loss, dw2, db2 = log_loss_naive(w2, b2, X_train2, y_train2, alpha=1)\n",
    "\n",
    "print(\"Gradient check w\")\n",
    "# Check with numerical gradient w\n",
    "f = lambda w2: log_loss_naive(w2, b2, X_train2, y_train2, alpha=1)[0]\n",
    "grad_numerical = grad_check_sparse(f, w2, dw2, 15, error=1e-4)\n",
    "\n",
    "print(\"Gradient check bias\")\n",
    "# Check with numerical gradient b\n",
    "f2 = lambda b2: log_loss_naive(w2, b2, X_train2, y_train2, alpha=1)[0]\n",
    "grad_numerical = grad_check_sparse(f2, b2, db2, 15,  error=1e-5)"
   ]
  },
  {
   "cell_type": "markdown",
   "metadata": {},
   "source": [
    "# Vectorized"
   ]
  },
  {
   "cell_type": "code",
   "execution_count": 47,
   "metadata": {
    "deletable": false,
    "nbgrader": {
     "cell_type": "code",
     "checksum": "6f452aaa24d69e2257c0851d750fd4aa",
     "grade": false,
     "grade_id": "cell-a96e9a6d51919ffc",
     "locked": false,
     "schema_version": 3,
     "solution": true,
     "task": false
    }
   },
   "outputs": [],
   "source": [
    "def log_loss_vectorized(w, b,X, y, alpha=0):\n",
    "    \"\"\"\n",
    "    log loss function WITHOUT FOR LOOPs\n",
    "    \n",
    "    Returns a tuple of:\n",
    "    - loss \n",
    "    - gradient with respect to weights w\n",
    "    \"\"\"\n",
    "    loss = 0.0\n",
    "    dw = np.zeros_like(w)\n",
    "    regularizer = alpha * (np.linalg.norm(w, ord=2) ** 2)\n",
    "    \n",
    "    u = sigmoid(X @ w + b)\n",
    "    loss = - (1 / len(X)) * np.sum(y * np.log(u) + (1 - y) * np.log(1 - u)) + regularizer\n",
    "    dw =  (1 / len(X)) * (u - y) @ X + 2 * alpha * w\n",
    "    db = (1 / len(X)) * np.sum(u - y)\n",
    "    \n",
    "    return loss, dw, np.array(db).reshape(1,)"
   ]
  },
  {
   "cell_type": "code",
   "execution_count": 50,
   "metadata": {
    "deletable": false,
    "editable": false,
    "nbgrader": {
     "cell_type": "code",
     "checksum": "37c0df2fc2b67514a7bd11e120562fa1",
     "grade": true,
     "grade_id": "cell-ca14e49ada130789",
     "locked": true,
     "points": 1,
     "schema_version": 3,
     "solution": false,
     "task": false
    }
   },
   "outputs": [
    {
     "name": "stdout",
     "output_type": "stream",
     "text": [
      "Loss error :  8.089200193889689e-17\n",
      "Gradient check w\n",
      "numerical: -0.009732 analytic: -0.009732, relative error: 1.568327e-10\n",
      "numerical: 62.480214 analytic: 62.479407, relative error: 6.461319e-06\n",
      "numerical: 0.006009 analytic: 0.006009, relative error: 5.205287e-11\n",
      "numerical: 0.006811 analytic: 0.006811, relative error: 8.383055e-10\n",
      "numerical: -0.009404 analytic: -0.009404, relative error: 3.586835e-11\n",
      "numerical: -0.001142 analytic: -0.001142, relative error: 1.707702e-10\n",
      "numerical: 0.007404 analytic: 0.007404, relative error: 3.086702e-10\n",
      "numerical: -0.914779 analytic: -0.914779, relative error: 5.060909e-10\n",
      "numerical: -0.003085 analytic: -0.003085, relative error: 2.852732e-10\n",
      "numerical: -0.000577 analytic: -0.000577, relative error: 1.732034e-09\n",
      "numerical: -0.022759 analytic: -0.022759, relative error: 1.525179e-10\n",
      "numerical: -0.003085 analytic: -0.003085, relative error: 2.852732e-10\n",
      "numerical: -0.001323 analytic: -0.001323, relative error: 1.088202e-09\n",
      "numerical: -0.022759 analytic: -0.022759, relative error: 1.525179e-10\n",
      "numerical: -0.015188 analytic: -0.015188, relative error: 9.676997e-11\n",
      "Gradient check bias\n",
      "numerical: -0.149433 analytic: -0.149433, relative error: 1.600030e-11\n",
      "numerical: -0.149433 analytic: -0.149433, relative error: 1.600030e-11\n",
      "numerical: -0.149433 analytic: -0.149433, relative error: 1.600030e-11\n",
      "numerical: -0.149433 analytic: -0.149433, relative error: 1.600030e-11\n",
      "numerical: -0.149433 analytic: -0.149433, relative error: 1.600030e-11\n",
      "numerical: -0.149433 analytic: -0.149433, relative error: 1.600030e-11\n",
      "numerical: -0.149433 analytic: -0.149433, relative error: 1.600030e-11\n",
      "numerical: -0.149433 analytic: -0.149433, relative error: 1.600030e-11\n",
      "numerical: -0.149433 analytic: -0.149433, relative error: 1.600030e-11\n",
      "numerical: -0.149433 analytic: -0.149433, relative error: 1.600030e-11\n",
      "numerical: -0.149433 analytic: -0.149433, relative error: 1.600030e-11\n",
      "numerical: -0.149433 analytic: -0.149433, relative error: 1.600030e-11\n",
      "numerical: -0.149433 analytic: -0.149433, relative error: 1.600030e-11\n",
      "numerical: -0.149433 analytic: -0.149433, relative error: 1.600030e-11\n",
      "numerical: -0.149433 analytic: -0.149433, relative error: 1.600030e-11\n"
     ]
    }
   ],
   "source": [
    "y_pred_0 = sigmoid(X_train2 @ w2 + b2)\n",
    "y_pred = np.vstack([1-y_pred_0, y_pred_0]).T\n",
    "sk_loss = log_loss(y_train2, y_pred)\n",
    "\n",
    "loss, dw2, db2 = log_loss_vectorized(w2, b2, X_train2, y_train2, alpha=0)\n",
    "assert rel_error(loss, sk_loss) < 1e-9\n",
    "print(\"Loss error : \",rel_error(loss, sk_loss))\n",
    "\n",
    "print(\"Gradient check w\")\n",
    "# Check with numerical gradient w\n",
    "f = lambda w2: log_loss_vectorized(w2, b2, X_train2, y_train2, alpha=0)[0]\n",
    "grad_numerical = grad_check_sparse(f, w2, dw2, 15, error=1e-4)\n",
    "\n",
    "print(\"Gradient check bias\")\n",
    "# Check with numerical gradient b\n",
    "f2 = lambda b2: log_loss_vectorized(w2, b2, X_train2, y_train2, alpha=0)[0]\n",
    "grad_numerical = grad_check_sparse(f2, b2, db2, 15,  error=1e-5)"
   ]
  },
  {
   "cell_type": "markdown",
   "metadata": {},
   "source": [
    "# Vectorized with regularization"
   ]
  },
  {
   "cell_type": "code",
   "execution_count": 51,
   "metadata": {
    "deletable": false,
    "editable": false,
    "nbgrader": {
     "cell_type": "code",
     "checksum": "53e97adc2666d529eff9ba1abcd3756a",
     "grade": true,
     "grade_id": "cell-bce082fccf8b7057",
     "locked": true,
     "points": 1,
     "schema_version": 3,
     "solution": false,
     "task": false
    }
   },
   "outputs": [
    {
     "name": "stdout",
     "output_type": "stream",
     "text": [
      "Gradient check w\n",
      "numerical: -0.031446 analytic: -0.031446, relative error: 3.764958e-11\n",
      "numerical: 0.012482 analytic: 0.012482, relative error: 1.564808e-10\n",
      "numerical: -0.000906 analytic: -0.000906, relative error: 4.489492e-10\n",
      "numerical: -3.770286 analytic: -3.770287, relative error: 6.590938e-08\n",
      "numerical: -3.770286 analytic: -3.770287, relative error: 6.590938e-08\n",
      "numerical: 0.006147 analytic: 0.006147, relative error: 2.132562e-10\n",
      "numerical: 0.007347 analytic: 0.007347, relative error: 2.668036e-10\n",
      "numerical: 17.937932 analytic: 17.937700, relative error: 6.480340e-06\n",
      "numerical: 0.007347 analytic: 0.007347, relative error: 2.668036e-10\n",
      "numerical: 0.012474 analytic: 0.012474, relative error: 3.433207e-10\n",
      "numerical: -2.040793 analytic: -2.040793, relative error: 4.238538e-10\n",
      "numerical: 0.007347 analytic: 0.007347, relative error: 2.668036e-10\n",
      "numerical: 0.093923 analytic: 0.093923, relative error: 2.471080e-10\n",
      "numerical: -0.683636 analytic: -0.683636, relative error: 1.210203e-09\n",
      "numerical: -0.003313 analytic: -0.003313, relative error: 1.211974e-10\n",
      "Gradient check bias\n",
      "numerical: -0.149433 analytic: -0.149433, relative error: 1.600030e-11\n",
      "numerical: -0.149433 analytic: -0.149433, relative error: 1.600030e-11\n",
      "numerical: -0.149433 analytic: -0.149433, relative error: 1.600030e-11\n",
      "numerical: -0.149433 analytic: -0.149433, relative error: 1.600030e-11\n",
      "numerical: -0.149433 analytic: -0.149433, relative error: 1.600030e-11\n",
      "numerical: -0.149433 analytic: -0.149433, relative error: 1.600030e-11\n",
      "numerical: -0.149433 analytic: -0.149433, relative error: 1.600030e-11\n",
      "numerical: -0.149433 analytic: -0.149433, relative error: 1.600030e-11\n",
      "numerical: -0.149433 analytic: -0.149433, relative error: 1.600030e-11\n",
      "numerical: -0.149433 analytic: -0.149433, relative error: 1.600030e-11\n",
      "numerical: -0.149433 analytic: -0.149433, relative error: 1.600030e-11\n",
      "numerical: -0.149433 analytic: -0.149433, relative error: 1.600030e-11\n",
      "numerical: -0.149433 analytic: -0.149433, relative error: 1.600030e-11\n",
      "numerical: -0.149433 analytic: -0.149433, relative error: 1.600030e-11\n",
      "numerical: -0.149433 analytic: -0.149433, relative error: 1.600030e-11\n"
     ]
    }
   ],
   "source": [
    "loss, dw2, db2 = log_loss_vectorized(w2, b2, X_train2, y_train2, alpha=1)\n",
    "\n",
    "print(\"Gradient check w\")\n",
    "# Check with numerical gradient w\n",
    "f = lambda w2: log_loss_vectorized(w2, b2, X_train2, y_train2, alpha=1)[0]\n",
    "grad_numerical = grad_check_sparse(f, w2, dw2, 15, error=1e-4)\n",
    "\n",
    "print(\"Gradient check bias\")\n",
    "# Check with numerical gradient b\n",
    "f2 = lambda b2: log_loss_vectorized(w2, b2, X_train2, y_train2, alpha=1)[0]\n",
    "grad_numerical = grad_check_sparse(f2, b2, db2, 15,  error=1e-5)"
   ]
  },
  {
   "cell_type": "markdown",
   "metadata": {},
   "source": [
    "# Gradient descent for Linear models"
   ]
  },
  {
   "cell_type": "code",
   "execution_count": 62,
   "metadata": {
    "deletable": false,
    "nbgrader": {
     "cell_type": "code",
     "checksum": "9a1783db1a1f1898028260238567bed7",
     "grade": false,
     "grade_id": "cell-485e52c0efd4f4a9",
     "locked": false,
     "schema_version": 3,
     "solution": true,
     "task": false
    }
   },
   "outputs": [],
   "source": [
    "class LinearModel():\n",
    "    def __init__(self):\n",
    "        self.w = None\n",
    "        self.b = None\n",
    "\n",
    "    def train(self, X, y, learning_rate=1e-3, alpha=0, num_iters=100, batch_size=200, verbose=False):\n",
    "        N, d = X.shape\n",
    "        \n",
    "        if self.w is None: # Initialization\n",
    "            self.w = 0.001 * np.random.randn(d)\n",
    "            self.b = 0.0\n",
    "\n",
    "        # Run stochastic gradient descent to optimize w\n",
    "        \n",
    "        loss_history = []\n",
    "        for it in range(num_iters):\n",
    "            X_batch = None\n",
    "            y_batch = None\n",
    "                                                               \n",
    "            # Sample batch_size elements in X_batch and y_batch\n",
    "            # X_batch shape is  (batch_size, d) and y_batch shape is (batch_size,)                                                                                          \n",
    "            # Hint: Use np.random.choice to generate indices\n",
    "            i = np.random.choice(N, batch_size)\n",
    "            X_batch = X[i]\n",
    "            y_batch = y[i]\n",
    "            \n",
    "            # evaluate loss and gradient\n",
    "            loss, dw, db = self.loss(X_batch, y_batch, alpha)\n",
    "            loss_history.append(loss)\n",
    "\n",
    "            # perform parameter update                                                                \n",
    "            # Update the weights w and bias b using the gradient and the learning rate.          \n",
    "            self.w = self.w - dw * learning_rate\n",
    "            self.b = self.b - db * learning_rate\n",
    "            \n",
    "            if verbose and it % 10000 == 0:\n",
    "                print(\"iteration %d / %d: loss %f\" % (it, num_iters, loss))\n",
    "                \n",
    "        return loss_history\n",
    "\n",
    "    def predict(self, X):\n",
    "        pass\n",
    "\n",
    "    def loss(self, X_batch, y_batch, reg):\n",
    "        pass\n",
    "\n",
    "class LinearRegressor(LinearModel):\n",
    "    \"\"\" Linear regression \"\"\"\n",
    "\n",
    "    def loss(self, X_batch, y_batch, alpha):\n",
    "        return mse_loss_vectorized(self.w, self.b, X_batch, y_batch, alpha)\n",
    "    \n",
    "    def predict(self, X):\n",
    "        return X @ self.w + self.b\n",
    "\n",
    "class LogisticRegressor(LinearModel):\n",
    "    \"\"\" Logistic regression \"\"\"\n",
    "\n",
    "    def loss(self, X_batch, y_batch, alpha):\n",
    "        return log_loss_vectorized(self.w, self.b, X_batch, y_batch, alpha)\n",
    "    \n",
    "    def predict(self, X):\n",
    "        \"\"\" Return prediction labels vector of 0 or 1 \"\"\"\n",
    "        #return sigmoid(X @ self.w + self.b)\n",
    "        u = sigmoid(X @ self.w + self.b)\n",
    "        u[u < 0.5] = 0\n",
    "        u[u > 0.5] = 1\n",
    "        return u"
   ]
  },
  {
   "cell_type": "markdown",
   "metadata": {},
   "source": [
    "## Linear regression with gradient descent"
   ]
  },
  {
   "cell_type": "code",
   "execution_count": 63,
   "metadata": {
    "deletable": false,
    "editable": false,
    "nbgrader": {
     "cell_type": "code",
     "checksum": "30f1c271b16efe670214663c10743937",
     "grade": true,
     "grade_id": "cell-92f36a3b387a4277",
     "locked": true,
     "points": 2,
     "schema_version": 3,
     "solution": false,
     "task": false
    }
   },
   "outputs": [
    {
     "name": "stdout",
     "output_type": "stream",
     "text": [
      "iteration 0 / 75000: loss 31135.838826\n",
      "iteration 10000 / 75000: loss 2153.119967\n",
      "iteration 20000 / 75000: loss 2824.307317\n",
      "iteration 30000 / 75000: loss 3305.047969\n",
      "iteration 40000 / 75000: loss 2497.481924\n",
      "iteration 50000 / 75000: loss 2973.117152\n",
      "iteration 60000 / 75000: loss 3694.808164\n",
      "iteration 70000 / 75000: loss 2515.538239\n",
      "MSE scikit-learn: 2859.6903987680657\n",
      "MSE gradient descent model : 2884.362616848996\n"
     ]
    }
   ],
   "source": [
    "from sklearn.linear_model import LinearRegression\n",
    "\n",
    "sk_model = LinearRegression(fit_intercept=True)\n",
    "sk_model.fit(X_train1, y_train1)\n",
    "sk_pred = sk_model.predict(X_train1)\n",
    "sk_mse = mean_squared_error(sk_pred, y_train1)\n",
    "\n",
    "model = LinearRegressor()\n",
    "model.train(X_train1, y_train1, num_iters=75000, batch_size=64, learning_rate=1e-2, verbose=True)\n",
    "pred = model.predict(X_train1)\n",
    "mse = mean_squared_error(pred, y_train1)\n",
    "\n",
    "print(\"MSE scikit-learn:\", sk_mse)\n",
    "print(\"MSE gradient descent model :\", mse)\n",
    "assert mse - sk_mse < 100"
   ]
  },
  {
   "cell_type": "markdown",
   "metadata": {},
   "source": [
    "## Logistc regression with gradient descent"
   ]
  },
  {
   "cell_type": "code",
   "execution_count": 64,
   "metadata": {
    "deletable": false,
    "editable": false,
    "nbgrader": {
     "cell_type": "code",
     "checksum": "c6196155f76f4eded31fefce67a76d60",
     "grade": true,
     "grade_id": "cell-925a2ddb5c1ba7ff",
     "locked": true,
     "points": 2,
     "schema_version": 3,
     "solution": false,
     "task": false
    }
   },
   "outputs": [
    {
     "name": "stdout",
     "output_type": "stream",
     "text": [
      "iteration 0 / 75000: loss 0.692383\n",
      "iteration 10000 / 75000: loss 0.069834\n",
      "iteration 20000 / 75000: loss 0.103321\n",
      "iteration 30000 / 75000: loss 0.096072\n",
      "iteration 40000 / 75000: loss 0.132246\n",
      "iteration 50000 / 75000: loss 0.060531\n",
      "iteration 60000 / 75000: loss 0.050685\n",
      "iteration 70000 / 75000: loss 0.050146\n",
      "Log-loss scikit-learn: 0.4249086712816093\n",
      "Log-loss gradiet descent model : 0.4249086712816093\n",
      "Error : 0.0\n"
     ]
    }
   ],
   "source": [
    "from sklearn.linear_model import LogisticRegression\n",
    "from sklearn.preprocessing import StandardScaler\n",
    "\n",
    "scaler = StandardScaler()\n",
    "X_train2 = scaler.fit_transform(X_train2)\n",
    "\n",
    "sk_model = LogisticRegression(fit_intercept=True)\n",
    "sk_model.fit(X_train2, y_train2)\n",
    "sk_pred = sk_model.predict(X_train2)\n",
    "sk_log_loss = log_loss(sk_pred, y_train2)\n",
    "\n",
    "model = LogisticRegressor()\n",
    "model.train(X_train2, y_train2, num_iters=75000, batch_size=64, learning_rate=1e-3, verbose=True)\n",
    "pred = model.predict(X_train2)\n",
    "model_log_loss = log_loss(pred, y_train2)\n",
    "\n",
    "print(\"Log-loss scikit-learn:\", sk_log_loss)\n",
    "print(\"Log-loss gradiet descent model :\", model_log_loss)\n",
    "print(\"Error :\", rel_error(sk_log_loss, model_log_loss))\n",
    "assert rel_error(sk_log_loss, model_log_loss) < 1e-7"
   ]
  },
  {
   "cell_type": "code",
   "execution_count": null,
   "metadata": {},
   "outputs": [],
   "source": []
  }
 ],
 "metadata": {
  "kernelspec": {
   "display_name": "Python 3",
   "language": "python",
   "name": "python3"
  },
  "language_info": {
   "codemirror_mode": {
    "name": "ipython",
    "version": 3
   },
   "file_extension": ".py",
   "mimetype": "text/x-python",
   "name": "python",
   "nbconvert_exporter": "python",
   "pygments_lexer": "ipython3",
   "version": "3.7.6"
  }
 },
 "nbformat": 4,
 "nbformat_minor": 5
}
