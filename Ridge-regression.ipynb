{
 "cells": [
  {
   "cell_type": "markdown",
   "metadata": {},
   "source": [
    "# Ridge regression"
   ]
  },
  {
   "cell_type": "markdown",
   "metadata": {},
   "source": [
    "## by ANDRIANARIVONY Henintsoa Salohy"
   ]
  },
  {
   "cell_type": "code",
   "execution_count": 60,
   "metadata": {
    "deletable": false,
    "editable": false,
    "nbgrader": {
     "cell_type": "code",
     "checksum": "147b2f9e33e05a5043e655678f8b276f",
     "grade": false,
     "grade_id": "cell-b5e53c9e7911bdda",
     "locked": true,
     "schema_version": 3,
     "solution": false,
     "task": false
    }
   },
   "outputs": [],
   "source": [
    "import numpy as np\n",
    "import scipy\n",
    "from sklearn.metrics import mean_squared_error\n",
    "from sklearn import datasets\n",
    "from sklearn.linear_model import Ridge \n",
    "\n",
    "def rel_error(x, y):\n",
    "  \"\"\" returns relative error \"\"\"\n",
    "  return np.max(np.abs(x - y) / (np.maximum(1e-8, np.abs(x) + np.abs(y))))\n",
    "\n",
    "data = datasets.load_diabetes()\n",
    "X_train, y_train = data.data, data.target"
   ]
  },
  {
   "cell_type": "code",
   "execution_count": 61,
   "metadata": {},
   "outputs": [],
   "source": [
    "import math"
   ]
  },
  {
   "cell_type": "code",
   "execution_count": 62,
   "metadata": {
    "deletable": false,
    "nbgrader": {
     "cell_type": "code",
     "checksum": "711205bfd22df2c4563fc1d89d67c874",
     "grade": false,
     "grade_id": "cell-9eff7cc96678f670",
     "locked": false,
     "schema_version": 3,
     "solution": true,
     "task": false
    }
   },
   "outputs": [],
   "source": [
    "def fit_inverse(X, y, alpha=1.0, fit_intercept=False):\n",
    "    \"\"\"Direct method using the inverse\"\"\"\n",
    "    if fit_intercept:\n",
    "        ones = np.ones((len(X), 1))\n",
    "        X = np.hstack((X, ones))\n",
    "    # I matrix identity\n",
    "    I = np.eye(len(X[0]), len(X[0]))\n",
    "    if fit_intercept:\n",
    "        I[len(X[0]) - 1][len(X[0]) - 1] = 0.0\n",
    "    # Xh is the transpose of X\n",
    "    Xh = np.transpose(X) \n",
    "    return np.linalg.inv(Xh @ X + (alpha * I)) @ Xh @ y"
   ]
  },
  {
   "cell_type": "code",
   "execution_count": 63,
   "metadata": {
    "deletable": false,
    "editable": false,
    "nbgrader": {
     "cell_type": "code",
     "checksum": "849dc109770bd7180133ab390a066763",
     "grade": true,
     "grade_id": "cell-f846a8aee918f7c9",
     "locked": true,
     "points": 1,
     "schema_version": 3,
     "solution": false,
     "task": false
    }
   },
   "outputs": [
    {
     "name": "stdout",
     "output_type": "stream",
     "text": [
      "prediction error:  2.581619852266006e-14\n"
     ]
    }
   ],
   "source": [
    "w = fit_inverse(X_train, y_train, alpha=0.1)\n",
    "\n",
    "sk_model = Ridge(fit_intercept=False, alpha=0.1)\n",
    "sk_model.fit(X_train, y_train)\n",
    "\n",
    "error = rel_error(sk_model.coef_, w)\n",
    "assert error <= 1e-11\n",
    "print(\"prediction error: \", error)"
   ]
  },
  {
   "cell_type": "code",
   "execution_count": 107,
   "metadata": {
    "deletable": false,
    "nbgrader": {
     "cell_type": "code",
     "checksum": "c758a1ca053c5170fc9e732bfc173dda",
     "grade": false,
     "grade_id": "cell-8b24702cdef3e721",
     "locked": false,
     "schema_version": 3,
     "solution": true,
     "task": false
    }
   },
   "outputs": [],
   "source": [
    "def fit_qr_linear_regression(X, y):\n",
    "    \"\"\" QR approach for linear regression from previous assignement\"\"\"\n",
    "    # Xh is the transpose of X\n",
    "    Xh = np.transpose(X)\n",
    "    Q, R = np.linalg.qr(Xh @ X)\n",
    "    w1 = np.transpose(Q) @ Xh @ y\n",
    "    return scipy.linalg.solve_triangular(R, w1)\n",
    "\n",
    "def fit_qr(X, y, alpha=1.0, fit_intercept=False):\n",
    "    \"\"\"QR approach\"\"\"\n",
    "    if fit_intercept:\n",
    "        ones = np.ones((len(X), 1))\n",
    "        X = np.hstack((X, ones))\n",
    "    # I matrix identity\n",
    "    I = np.eye(len(X[0]), len(X[0]))\n",
    "    if fit_intercept:\n",
    "        I[len(X[0]) - 1][len(X[0]) - 1] = 0.0\n",
    "    X = np.append(X, math.sqrt(alpha) * I, axis=0)\n",
    "    y = np.append(y, np.zeros(len(X[0])))\n",
    "    return fit_qr_linear_regression(X, y)"
   ]
  },
  {
   "cell_type": "code",
   "execution_count": 65,
   "metadata": {
    "deletable": false,
    "editable": false,
    "nbgrader": {
     "cell_type": "code",
     "checksum": "d6add1fd7d491b1b208b17c668d81906",
     "grade": true,
     "grade_id": "cell-4e2cc2ac2352d713",
     "locked": true,
     "points": 1,
     "schema_version": 3,
     "solution": false,
     "task": false
    }
   },
   "outputs": [
    {
     "name": "stdout",
     "output_type": "stream",
     "text": [
      "prediction error:  2.8024162869992768e-14\n"
     ]
    }
   ],
   "source": [
    "w = fit_qr(X_train, y_train, alpha=0.1)\n",
    "\n",
    "sk_model = Ridge(fit_intercept=False, alpha=0.1)\n",
    "sk_model.fit(X_train, y_train)\n",
    "\n",
    "error = rel_error(sk_model.coef_, w)\n",
    "#assert error <= 1e-11\n",
    "print(\"prediction error: \", error)"
   ]
  },
  {
   "cell_type": "code",
   "execution_count": 102,
   "metadata": {
    "deletable": false,
    "nbgrader": {
     "cell_type": "code",
     "checksum": "6db4323ffb148fc7995bf0904fffe1a5",
     "grade": false,
     "grade_id": "cell-9d32a83af0dcd96f",
     "locked": false,
     "schema_version": 3,
     "solution": true,
     "task": false
    }
   },
   "outputs": [],
   "source": [
    "def fit_svd(X, y, alpha=1.0, fit_intercept=False):\n",
    "    \"\"\"SVD approach\"\"\"\n",
    "    if fit_intercept:\n",
    "        ones = np.ones((len(X), 1))\n",
    "        X = np.hstack((X, ones))\n",
    "    # I matrix identity\n",
    "    I = np.eye(len(X[0]), len(X[0]))\n",
    "    if fit_intercept:\n",
    "        I[0][0] = 0.\n",
    "    U, s, Vh = np.linalg.svd(X, full_matrices=False)\n",
    "    Uh = np.transpose(U)\n",
    "    V = np.transpose(Vh)\n",
    "    S = np.diag(s)\n",
    "    term1 = S @ S + alpha * I\n",
    "    for i in range(len(S)):\n",
    "        if term1[i][i] != 0:\n",
    "            term1[i][i] = 1 / term1[i][i]\n",
    "    term2 = S @ Uh @ y\n",
    "    return V @ term1 @ term2"
   ]
  },
  {
   "cell_type": "code",
   "execution_count": 103,
   "metadata": {
    "deletable": false,
    "editable": false,
    "nbgrader": {
     "cell_type": "code",
     "checksum": "57021201e5df07643a123e9e0d48a42f",
     "grade": true,
     "grade_id": "cell-0c38ee185ed99567",
     "locked": true,
     "points": 1,
     "schema_version": 3,
     "solution": false,
     "task": false
    }
   },
   "outputs": [
    {
     "name": "stdout",
     "output_type": "stream",
     "text": [
      "prediction error:  6.929611182397926e-14\n"
     ]
    }
   ],
   "source": [
    "w = fit_svd(X_train, y_train, alpha=0.1)\n",
    "\n",
    "sk_model = Ridge(fit_intercept=False, alpha=0.1)\n",
    "sk_model.fit(X_train, y_train)\n",
    "\n",
    "error = rel_error(sk_model.coef_, w)\n",
    "#assert error <= 1e-11\n",
    "print(\"prediction error: \", error)"
   ]
  },
  {
   "cell_type": "markdown",
   "metadata": {},
   "source": [
    "# Everything in a class"
   ]
  },
  {
   "cell_type": "code",
   "execution_count": 69,
   "metadata": {
    "deletable": false,
    "nbgrader": {
     "cell_type": "code",
     "checksum": "1bf9b4a90202871073ea8637bf407683",
     "grade": false,
     "grade_id": "cell-3a5e87709754f3c4",
     "locked": false,
     "schema_version": 3,
     "solution": true,
     "task": false
    }
   },
   "outputs": [],
   "source": [
    "class RidgeRegression():\n",
    "    def __init__(self, fit_intercept=True, method=\"inverse\", alpha=1.0):\n",
    "        self.w = 0\n",
    "        self.fit_intercept = fit_intercept # bias\n",
    "        self.method = method\n",
    "        self.alpha = alpha\n",
    "    \n",
    "    def fit(self, X, y):\n",
    "        if self.method == \"inverse\":\n",
    "            self.w = fit_inverse(X, y, alpha=self.alpha, fit_intercept=self.fit_intercept)\n",
    "        elif self.method == \"qr\":\n",
    "            self.w = fit_qr(X, y, alpha=self.alpha, fit_intercept=self.fit_intercept)\n",
    "        else:\n",
    "            self.w = fit_svd(X, y, alpha=self.alpha, fit_intercept=self.fit_intercept)\n",
    "        \n",
    "    def predict(self, X):\n",
    "        if self.fit_intercept:\n",
    "            ones = np.ones((len(X), 1))\n",
    "            X = np.hstack((X, ones))\n",
    "        return X @ self.w"
   ]
  },
  {
   "cell_type": "markdown",
   "metadata": {},
   "source": [
    "## without bias"
   ]
  },
  {
   "cell_type": "code",
   "execution_count": 70,
   "metadata": {
    "deletable": false,
    "editable": false,
    "nbgrader": {
     "cell_type": "code",
     "checksum": "5b5da426b71c63230038418c79c0982a",
     "grade": true,
     "grade_id": "cell-1ae8a916f308fe2e",
     "locked": true,
     "points": 1,
     "schema_version": 3,
     "solution": false,
     "task": false
    }
   },
   "outputs": [
    {
     "name": "stdout",
     "output_type": "stream",
     "text": [
      "prediction error inverse:  8.662459094449379e-14\n",
      "prediction error qr:  9.899953250799413e-14\n",
      "prediction error svd:  4.949976625398971e-14\n"
     ]
    }
   ],
   "source": [
    "# OTHER APPROACHES\n",
    "sk_model = Ridge(fit_intercept=False, alpha=0.1)\n",
    "sk_model.fit(X_train, y_train)\n",
    "sk_pred = sk_model.predict(X_train)\n",
    "\n",
    "model = RidgeRegression(fit_intercept=False, method=\"inverse\", alpha=0.1)\n",
    "model.fit(X_train, y_train)\n",
    "pred = model.predict(X_train)\n",
    "\n",
    "error = rel_error(pred, sk_pred)\n",
    "assert error <= 1e-11\n",
    "print(\"prediction error inverse: \", error)\n",
    "\n",
    "model_qr = RidgeRegression(fit_intercept=False, method=\"qr\", alpha=0.1)\n",
    "model_qr.fit(X_train, y_train)\n",
    "pred_qr = model_qr.predict(X_train)\n",
    "\n",
    "error_qr = rel_error(pred_qr, sk_pred)\n",
    "assert error_qr <= 1e-11\n",
    "print(\"prediction error qr: \", error_qr)\n",
    "\n",
    "model_svd = RidgeRegression(fit_intercept=False, method=\"svd\", alpha=0.1)\n",
    "model_svd.fit(X_train, y_train)\n",
    "pred_svd = model_svd.predict(X_train)\n",
    "\n",
    "error_svd = rel_error(pred_svd, sk_pred)\n",
    "assert error_svd <= 1e-11\n",
    "print(\"prediction error svd: \", error_svd)"
   ]
  },
  {
   "cell_type": "markdown",
   "metadata": {},
   "source": [
    "## with bias"
   ]
  },
  {
   "cell_type": "code",
   "execution_count": 108,
   "metadata": {
    "deletable": false,
    "editable": false,
    "nbgrader": {
     "cell_type": "code",
     "checksum": "5d4bbb2ebfdf1ee4c285401d0effdfec",
     "grade": true,
     "grade_id": "cell-6cc5255a96b1b63e",
     "locked": true,
     "points": 1,
     "schema_version": 3,
     "solution": false,
     "task": false
    }
   },
   "outputs": [
    {
     "name": "stdout",
     "output_type": "stream",
     "text": [
      "prediction error inverse:  1.0093912749924575e-15\n",
      "prediction error qr:  7.183930383655086e-16\n",
      "prediction error svd:  2.384008211280126e-14\n"
     ]
    }
   ],
   "source": [
    "# OTHER APPROACHES\n",
    "sk_model = Ridge(fit_intercept=True, alpha=0.1)\n",
    "sk_model.fit(X_train, y_train)\n",
    "sk_pred = sk_model.predict(X_train)\n",
    "\n",
    "model = RidgeRegression(fit_intercept=True, method=\"inverse\", alpha=0.1)\n",
    "model.fit(X_train, y_train)\n",
    "pred = model.predict(X_train)\n",
    "\n",
    "error = rel_error(pred, sk_pred)\n",
    "assert error <= 1e-11\n",
    "print(\"prediction error inverse: \", error)\n",
    "\n",
    "model_qr = RidgeRegression(fit_intercept=True, method=\"qr\", alpha=0.1)\n",
    "model_qr.fit(X_train, y_train)\n",
    "pred_qr = model_qr.predict(X_train)\n",
    "\n",
    "error_qr = rel_error(pred_qr, sk_pred)\n",
    "#assert error_qr <= 1e-11\n",
    "print(\"prediction error qr: \", error_qr)\n",
    "\n",
    "model_svd = RidgeRegression(fit_intercept=True, method=\"svd\", alpha=0.1)\n",
    "model_svd.fit(X_train, y_train)\n",
    "pred_svd = model_svd.predict(X_train)\n",
    "\n",
    "error_svd = rel_error(pred_svd, sk_pred)\n",
    "assert error_svd <= 1e-11\n",
    "print(\"prediction error svd: \", error_svd)"
   ]
  },
  {
   "cell_type": "code",
   "execution_count": null,
   "metadata": {},
   "outputs": [],
   "source": []
  }
 ],
 "metadata": {
  "kernelspec": {
   "display_name": "Python 3",
   "language": "python",
   "name": "python3"
  },
  "language_info": {
   "codemirror_mode": {
    "name": "ipython",
    "version": 3
   },
   "file_extension": ".py",
   "mimetype": "text/x-python",
   "name": "python",
   "nbconvert_exporter": "python",
   "pygments_lexer": "ipython3",
   "version": "3.7.6"
  }
 },
 "nbformat": 4,
 "nbformat_minor": 5
}
